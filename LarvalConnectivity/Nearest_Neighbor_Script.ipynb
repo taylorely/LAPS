{
 "cells": [
  {
   "cell_type": "markdown",
   "id": "b9671e04",
   "metadata": {},
   "source": [
    "A way to get around R memory limits"
   ]
  },
  {
   "cell_type": "code",
   "execution_count": 1,
   "id": "3e430c73",
   "metadata": {},
   "outputs": [],
   "source": [
    "#from parcels import FieldSet, ParticleSet, JITParticle\n",
    "#from parcels import AdvectionRK4\n",
    "import pandas as pd\n",
    "#import matplotlib.pyplot as plt\n",
    "import numpy as np\n",
    "#from datetime import timedelta as delta\n",
    "import netCDF4\n",
    "#import xarray as xr\n",
    "from sklearn.neighbors import BallTree\n",
    "from csv import writer\n",
    "import os"
   ]
  },
  {
   "cell_type": "markdown",
   "id": "de767623",
   "metadata": {},
   "source": [
    "# Code for nearest neighboor if large datasets that n100 code can't handle"
   ]
  },
  {
   "cell_type": "code",
   "execution_count": 2,
   "id": "91056645",
   "metadata": {},
   "outputs": [],
   "source": [
    "# load in metadata for island codes 1-32\n",
    "names = pd.read_csv('IslandHabitatPixels.csv', names = ['IslandName','IslandNumber','NumberOfHabitatPixels'])"
   ]
  },
  {
   "cell_type": "code",
   "execution_count": 3,
   "id": "e2ddabe6",
   "metadata": {},
   "outputs": [],
   "source": [
    "# download land coordinates from csv file\n",
    "land = pd.read_csv('HIreefsNew.csv', names=['lat', 'lon', 'cover', 'island'])\n",
    "for column in land[[\"lat\", \"lon\"]]:\n",
    "    rad = np.deg2rad(land[column].values)\n",
    "    land[f'{column}_rad'] = rad"
   ]
  },
  {
   "cell_type": "code",
   "execution_count": 4,
   "id": "af2a6d26",
   "metadata": {},
   "outputs": [],
   "source": [
    "# use this function to find closest island to each recorded location for each particle\n",
    "ball = BallTree(land[[\"lat_rad\", \"lon_rad\"]].values, metric='haversine')"
   ]
  },
  {
   "cell_type": "code",
   "execution_count": 5,
   "id": "c928211e",
   "metadata": {},
   "outputs": [],
   "source": [
    "def nearest_neighbor(model_data, presettlement,PLD, settle_dist):\n",
    "    # load the data\n",
    "    lon = model_data.variables['lon'][:]\n",
    "    lat = model_data.variables['lat'][:]\n",
    "    age= model_data.variables['age'][:]\n",
    "    site = model_data.variables['releaseSite'][:]\n",
    "    trajectory = model_data.variables['trajectory'][:]\n",
    "    \n",
    "    # this just retrieves a label for each particle\n",
    "    trajectory = trajectory[:,presettlement:PLD]\n",
    "    labeled = np.reshape(trajectory, -1)\n",
    "    trajectory = pd.DataFrame(trajectory)\n",
    "    particle = trajectory.iloc[:, 0]\n",
    "    del(trajectory)\n",
    "    \n",
    "    # remove the first 15 columns because those are before settling age and remove\n",
    "    lon = lon[:,presettlement:PLD]\n",
    "    lat = lat[:,presettlement:PLD]\n",
    "    age = age[:,presettlement:PLD]\n",
    "    \n",
    "    site = pd.DataFrame(site)\n",
    "    site_label = site.iloc[:, 0]\n",
    "    del(site)\n",
    "    \n",
    "    #replace numbers with names of places\n",
    "    site_label = site_label.replace(to_replace =1,value =\"Guam\")\n",
    "    site_label = site_label.replace(to_replace =2,value =\"Saipan\")\n",
    "    site_label = site_label.replace(to_replace =3,value =\"Majuro\")\n",
    "    site_label = site_label.replace(to_replace =4,value =\"Rongelap\")\n",
    "    site_label = site_label.replace(to_replace =5,value =\"Kiritimati\")\n",
    "    site_label = site_label.replace(to_replace =6,value =\"Pohnpei\")\n",
    "    site_label = site_label.replace(to_replace =7,value =\"Okinawa\")\n",
    "    site_label = site_label.replace(to_replace =10,value =\"FrenchFrigateShoal\")\n",
    "    site_label = site_label.replace(to_replace =11,value =\"Johnston\")\n",
    "    site_label = site_label.replace(to_replace =12,value =\"Wake\")\n",
    "    \n",
    "    # convert to vectors\n",
    "    lat = np.reshape(lat, -1)\n",
    "    lon = np.reshape(lon, -1)\n",
    "    age = np.reshape(age, -1)\n",
    "    # convert to days from seconds\n",
    "    age = age/86400\n",
    "    \n",
    "    # convert coordinates to radians\n",
    "    rad_lon = np.deg2rad(lon)\n",
    "    rad_lat = np.deg2rad(lat)\n",
    "    del(lon)\n",
    "    del(lat)\n",
    "    \n",
    "    # combine\n",
    "    combined = np.vstack((rad_lat,rad_lon,labeled)).T\n",
    "    del(rad_lat)\n",
    "    del(rad_lon)\n",
    "    del(labeled)\n",
    "    coord = pd.DataFrame(data=combined, columns=['lat','lon','particle'])\n",
    "    del(combined)\n",
    "    coord['age'] = age\n",
    "    del(age)\n",
    "    \n",
    "    # remove NAs so the next steps work\n",
    "    coord = coord.dropna()\n",
    "    \n",
    "    # NOW, actually start search for nearest neighbor\n",
    "    distances, indices = ball.query(coord[[\"lat\", \"lon\"]].values, k = 1)\n",
    "    \n",
    "    # add data to dataframe\n",
    "    coord['closest_point'] = indices\n",
    "    coord['closest_distance'] = distances\n",
    "    \n",
    "    closest = coord.loc[coord.groupby('particle')['closest_distance'].idxmin()]\n",
    "    del(coord)\n",
    "    \n",
    "    site_data = pd.DataFrame(data=[particle,site_label]).T\n",
    "    del(site_label)\n",
    "    del(particle)\n",
    "    site_data.columns = ['particle','release_site']\n",
    "    merge = closest.set_index('particle').join(site_data.set_index('particle'))\n",
    "    \n",
    "    #convert raidians to km\n",
    "    merge['closest_dist_km'] = 6371 * merge['closest_distance']\n",
    "    \n",
    "    # add column of island code for settled\n",
    "    points = merge['closest_point'].values\n",
    "    island = []\n",
    "    for x in points:\n",
    "        add = land.loc[x,'island']\n",
    "        island.append(add)\n",
    "    \n",
    "    # convert island code to name\n",
    "    island_names = []\n",
    "    for x in island:\n",
    "        add = names.loc[x,'IslandName']\n",
    "        island_names.append(add)\n",
    "    merge['closest_island'] = island_names\n",
    "    \n",
    "    #make a column of settled or not if = or less than 5km and then graph the results and get summary statistics\n",
    "    merge.loc[merge['closest_dist_km'] <= settle_dist, 'Settled'] = 'Settled' \n",
    "    merge.loc[merge['closest_dist_km'] > settle_dist, 'Settled'] = 'Not close enough'\n",
    "    #merge.to_csv('/Users/taylorely/Documents/OceanModeling/nearest_island_and_settled_n500_site.csv', sep='\\t')\n",
    "    #settled_per_release_site = merge.groupby(['release_site', 'Settled']).size().reset_index(name='count')\n",
    "    #settled_per_release_site.to_csv('/Users/taylorely/Documents/OceanModeling/settled_per__release_site_n500_site.csv', sep='\\t')\n",
    "    #settled_per_settled_site = merge.groupby(['closest_island', 'Settled']).size().reset_index(name='count')\n",
    "    #settled_per_settled_site.to_csv('/Users/taylorely/Documents/OceanModeling/settled_per_settled_site_n500_site.csv', sep='\\t')\n",
    "    \n",
    "    # make dataset for each settled island to see where the ones settling are coming from\n",
    "    settled_per_release_and_settledsite = merge.groupby(['release_site','closest_island', 'Settled']).size().reset_index(name='count')\n",
    "    settled_per_release_and_settledsite.to_csv('/Users/taylorely/Documents/OceanModeling/settled_per_release_and_settledsite_n500_site.csv', sep='\\t')\n",
    "    #only_settled_per_release_and_settledsite = settled_per_release_and_settledsite[settled_per_release_and_settledsite['Settled'] == 'Settled'] \n",
    "    #only_settled_per_release_and_settledsite = only_settled_per_release_and_settledsite.drop(columns=['Settled'])\n",
    "    \n",
    "    #correct_format_to_plot_settlement = only_settled_per_release_and_settledsite.pivot_table(index=\"release_site\", columns='closest_island', values='count')\n",
    "    #correct_format_to_plot_settlement = correct_format_to_plot_settlement.fillna(0)\n",
    "    \n",
    "    #fig1, axs = plt.subplots(figsize=(20, 12))\n",
    "    #ax = correct_format_to_plot_settlement.plot.bar(rot=0, ax=axs)\n",
    "    #axs.set_ylabel(\"count\")\n",
    "    #axs.set_title('settlement to each island by release site')\n",
    "    #fig1.savefig(\"/Users/taylorely/Documents/OceanModeling/settlement_n500_site.png\")\n",
    "    \n",
    "    #fig2, axs = plt.subplots(figsize=(8, 50))\n",
    "    #axes = correct_format_to_plot_settlement.plot.bar(rot=0, subplots=True, ax=axs)\n",
    "    #axes[1].legend(loc=2)  \n",
    "    #fig2.savefig(\"/Users/taylorely/Documents/OceanModeling/settlement_subplot_n500_site.png\")\n"
   ]
  },
  {
   "cell_type": "code",
   "execution_count": 6,
   "id": "a8c00b98",
   "metadata": {},
   "outputs": [],
   "source": [
    "def nearest_neighbor_divided(model_data, subsetting1,subsetting2, presettlement,PLD, settle_dist):\n",
    "    # load the data\n",
    "    lon = model_data.variables['lon'][subsetting1:subsetting2,:]\n",
    "    lat = model_data.variables['lat'][subsetting1:subsetting2,:]\n",
    "    age= model_data.variables['age'][subsetting1:subsetting2,:]\n",
    "    site = model_data.variables['releaseSite'][subsetting1:subsetting2,:]\n",
    "    trajectory = model_data.variables['trajectory'][subsetting1:subsetting2,:]\n",
    "    \n",
    "    # this just retrieves a label for each particle\n",
    "    trajectory = trajectory[:,presettlement:PLD]\n",
    "    labeled = np.reshape(trajectory, -1)\n",
    "    trajectory = pd.DataFrame(trajectory)\n",
    "    particle = trajectory.iloc[:, 0]\n",
    "    del(trajectory)\n",
    "    \n",
    "    # remove the first 15 columns because those are before settling age and remove\n",
    "    lon = lon[:,presettlement:PLD]\n",
    "    lat = lat[:,presettlement:PLD]\n",
    "    age = age[:,presettlement:PLD]\n",
    "    \n",
    "    site = pd.DataFrame(site)\n",
    "    site_label = site.iloc[:, 0]\n",
    "    del(site)\n",
    "    \n",
    "    #replace numbers with names of places\n",
    "    site_label = site_label.replace(to_replace =1,value =\"Guam\")\n",
    "    site_label = site_label.replace(to_replace =2,value =\"Saipan\")\n",
    "    site_label = site_label.replace(to_replace =3,value =\"Majuro\")\n",
    "    site_label = site_label.replace(to_replace =4,value =\"Rongelap\")\n",
    "    site_label = site_label.replace(to_replace =5,value =\"Kiritimati\")\n",
    "    site_label = site_label.replace(to_replace =6,value =\"Pohnpei\")\n",
    "    site_label = site_label.replace(to_replace =7,value =\"Okinawa\")\n",
    "    site_label = site_label.replace(to_replace =10,value =\"FrenchFrigateShoal\")\n",
    "    site_label = site_label.replace(to_replace =11,value =\"Johnston\")\n",
    "    site_label = site_label.replace(to_replace =12,value =\"Wake\")\n",
    "    \n",
    "    # convert to vectors\n",
    "    lat = np.reshape(lat, -1)\n",
    "    lon = np.reshape(lon, -1)\n",
    "    age = np.reshape(age, -1)\n",
    "    # convert to days from seconds\n",
    "    age = age/86400\n",
    "    \n",
    "    # convert coordinates to radians\n",
    "    rad_lon = np.deg2rad(lon)\n",
    "    rad_lat = np.deg2rad(lat)\n",
    "    del(lon)\n",
    "    del(lat)\n",
    "    \n",
    "    # combine\n",
    "    combined = np.vstack((rad_lat,rad_lon,labeled)).T\n",
    "    del(rad_lat)\n",
    "    del(rad_lon)\n",
    "    del(labeled)\n",
    "    coord = pd.DataFrame(data=combined, columns=['lat','lon','particle'])\n",
    "    del(combined)\n",
    "    coord['age'] = age\n",
    "    del(age)\n",
    "    \n",
    "    # remove NAs so the next steps work\n",
    "    coord = coord.dropna()\n",
    "    \n",
    "    # NOW, actually start search for nearest neighbor\n",
    "    distances, indices = ball.query(coord[[\"lat\", \"lon\"]].values, k = 1)\n",
    "    \n",
    "    # add data to dataframe\n",
    "    coord['closest_point'] = indices\n",
    "    coord['closest_distance'] = distances\n",
    "    \n",
    "    closest = coord.loc[coord.groupby('particle')['closest_distance'].idxmin()]\n",
    "    del(coord)\n",
    "    \n",
    "    site_data = pd.DataFrame(data=[particle,site_label]).T\n",
    "    del(site_label)\n",
    "    del(particle)\n",
    "    site_data.columns = ['particle','release_site']\n",
    "    merge = closest.set_index('particle').join(site_data.set_index('particle'))\n",
    "    \n",
    "    #convert raidians to km\n",
    "    merge['closest_dist_km'] = 6371 * merge['closest_distance']\n",
    "    \n",
    "    # add column of island code for settled\n",
    "    points = merge['closest_point'].values\n",
    "    island = []\n",
    "    for x in points:\n",
    "        add = land.loc[x,'island']\n",
    "        island.append(add)\n",
    "    \n",
    "    # convert island code to name\n",
    "    island_names = []\n",
    "    for x in island:\n",
    "        add = names.loc[x,'IslandName']\n",
    "        island_names.append(add)\n",
    "    merge['closest_island'] = island_names\n",
    "    \n",
    "    #make a column of settled or not if = or less than 5km and then graph the results and get summary statistics\n",
    "    merge.loc[merge['closest_dist_km'] <= settle_dist, 'Settled'] = 'Settled' \n",
    "    merge.loc[merge['closest_dist_km'] > settle_dist, 'Settled'] = 'Not close enough'\n",
    "    #merge.to_csv('/Users/taylorely/Documents/OceanModeling/nearest_island_and_settled_n500_site.csv', sep='\\t')\n",
    "    #settled_per_release_site = merge.groupby(['release_site', 'Settled']).size().reset_index(name='count')\n",
    "    #settled_per_release_site.to_csv('/Users/taylorely/Documents/OceanModeling/settled_per__release_site_n500_site.csv', sep='\\t')\n",
    "    #settled_per_settled_site = merge.groupby(['closest_island', 'Settled']).size().reset_index(name='count')\n",
    "    #settled_per_settled_site.to_csv('/Users/taylorely/Documents/OceanModeling/settled_per_settled_site_n500_site.csv', sep='\\t')\n",
    "    \n",
    "    # make dataset for each settled island to see where the ones settling are coming from\n",
    "    settled_per_release_and_settledsite = merge.groupby(['release_site','closest_island', 'Settled']).size().reset_index(name='count')\n",
    "    settled_per_release_and_settledsite.to_csv('/Users/taylorely/Documents/OceanModeling/settled_per_release_and_settledsite_n500_site.csv', sep='\\t')\n",
    "    #only_settled_per_release_and_settledsite = settled_per_release_and_settledsite[settled_per_release_and_settledsite['Settled'] == 'Settled'] \n",
    "    #only_settled_per_release_and_settledsite = only_settled_per_release_and_settledsite.drop(columns=['Settled'])\n",
    "    \n",
    "    #correct_format_to_plot_settlement = only_settled_per_release_and_settledsite.pivot_table(index=\"release_site\", columns='closest_island', values='count')\n",
    "    #correct_format_to_plot_settlement = correct_format_to_plot_settlement.fillna(0)\n",
    "    \n",
    "    #fig1, axs = plt.subplots(figsize=(20, 12))\n",
    "    #ax = correct_format_to_plot_settlement.plot.bar(rot=0, ax=axs)\n",
    "    #axs.set_ylabel(\"count\")\n",
    "    #axs.set_title('settlement to each island by release site')\n",
    "    #fig1.savefig(\"/Users/taylorely/Documents/OceanModeling/settlement_n500_site.png\")\n",
    "    \n",
    "    #fig2, axs = plt.subplots(figsize=(8, 50))\n",
    "    #axes = correct_format_to_plot_settlement.plot.bar(rot=0, subplots=True, ax=axs)\n",
    "    #axes[1].legend(loc=2)  \n",
    "    #fig2.savefig(\"/Users/taylorely/Documents/OceanModeling/settlement_subplot_n500_site.png\")\n"
   ]
  },
  {
   "cell_type": "code",
   "execution_count": 7,
   "id": "8f4c2782",
   "metadata": {},
   "outputs": [],
   "source": [
    "avg25 = netCDF4.Dataset('LAPS_sensitivity_n1_pld180_25avg_Kh0_nday545_daily_2013_2.nc')\n",
    "nearest_neighbor(avg25, 15, 30, 10)\n",
    "os.rename('/Users/taylorely/Documents/OceanModeling/settled_per_release_and_settledsite_n500_site.csv','/Users/taylorely/Documents/OceanModeling/settled_25avg_n1_PLD30_settledist10.csv')\n",
    "nearest_neighbor(avg25, 15, 60, 10)\n",
    "os.rename('/Users/taylorely/Documents/OceanModeling/settled_per_release_and_settledsite_n500_site.csv','/Users/taylorely/Documents/OceanModeling/settled_25avg_n1_PLD60_settledist10.csv')\n",
    "nearest_neighbor(avg25, 15, 90, 10)\n",
    "os.rename('/Users/taylorely/Documents/OceanModeling/settled_per_release_and_settledsite_n500_site.csv','/Users/taylorely/Documents/OceanModeling/settled_25avg_n1_PLD90_settledist10.csv')\n",
    "nearest_neighbor(avg25, 15, 180, 10)\n",
    "os.rename('/Users/taylorely/Documents/OceanModeling/settled_per_release_and_settledsite_n500_site.csv','/Users/taylorely/Documents/OceanModeling/settled_25avg_n1_PLD180_settledist10.csv')\n"
   ]
  },
  {
   "cell_type": "code",
   "execution_count": 10,
   "id": "a7559295",
   "metadata": {},
   "outputs": [],
   "source": [
    "avg50 = netCDF4.Dataset('LAPS_sensitivity_n1_pld180_50avg_Kh0_nday545_daily_2013_2.nc')\n",
    "nearest_neighbor(avg50, 15, 30, 10)\n",
    "os.rename('/Users/taylorely/Documents/OceanModeling/settled_per_release_and_settledsite_n500_site.csv','/Users/taylorely/Documents/OceanModeling/settled_50avg_n1_PLD30_settledist10.csv')\n",
    "nearest_neighbor(avg50, 15, 60, 10)\n",
    "os.rename('/Users/taylorely/Documents/OceanModeling/settled_per_release_and_settledsite_n500_site.csv','/Users/taylorely/Documents/OceanModeling/settled_50avg_n1_PLD60_settledist10.csv')\n",
    "nearest_neighbor(avg50, 15, 90, 10)\n",
    "os.rename('/Users/taylorely/Documents/OceanModeling/settled_per_release_and_settledsite_n500_site.csv','/Users/taylorely/Documents/OceanModeling/settled_50avg_n1_PLD90_settledist10.csv')\n",
    "nearest_neighbor(avg50, 15, 180, 10)\n",
    "os.rename('/Users/taylorely/Documents/OceanModeling/settled_per_release_and_settledsite_n500_site.csv','/Users/taylorely/Documents/OceanModeling/settled_50avg_n1_PLD180_settledist10.csv')\n"
   ]
  },
  {
   "cell_type": "code",
   "execution_count": 11,
   "id": "61c97613",
   "metadata": {},
   "outputs": [],
   "source": [
    "depth0m = netCDF4.Dataset('LAPS_sensitivity_n1_pld180_0m_Kh0_nday545_daily_2013_2.nc')\n",
    "nearest_neighbor(depth0m, 15, 30, 10)\n",
    "os.rename('/Users/taylorely/Documents/OceanModeling/settled_per_release_and_settledsite_n500_site.csv','/Users/taylorely/Documents/OceanModeling/settled_0m_n1_PLD30_settledist10.csv')\n",
    "nearest_neighbor(depth0m, 15, 60, 10)\n",
    "os.rename('/Users/taylorely/Documents/OceanModeling/settled_per_release_and_settledsite_n500_site.csv','/Users/taylorely/Documents/OceanModeling/settled_0m_n1_PLD60_settledist10.csv')\n",
    "nearest_neighbor(depth0m, 15, 90, 10)\n",
    "os.rename('/Users/taylorely/Documents/OceanModeling/settled_per_release_and_settledsite_n500_site.csv','/Users/taylorely/Documents/OceanModeling/settled_0m_n1_PLD90_settledist10.csv')\n",
    "nearest_neighbor(depth0m, 15, 180, 10)\n",
    "os.rename('/Users/taylorely/Documents/OceanModeling/settled_per_release_and_settledsite_n500_site.csv','/Users/taylorely/Documents/OceanModeling/settled_0m_n1_PLD180_settledist10.csv')\n"
   ]
  },
  {
   "cell_type": "code",
   "execution_count": 12,
   "id": "300e810a",
   "metadata": {},
   "outputs": [],
   "source": [
    "depth5m = netCDF4.Dataset('LAPS_sensitivity_n1_pld180_5m_Kh0_nday545_daily_2013_2.nc')\n",
    "nearest_neighbor(depth5m, 15, 30, 10)\n",
    "os.rename('/Users/taylorely/Documents/OceanModeling/settled_per_release_and_settledsite_n500_site.csv','/Users/taylorely/Documents/OceanModeling/settled_5m_n1_PLD30_settledist10.csv')\n",
    "nearest_neighbor(depth5m, 15, 60, 10)\n",
    "os.rename('/Users/taylorely/Documents/OceanModeling/settled_per_release_and_settledsite_n500_site.csv','/Users/taylorely/Documents/OceanModeling/settled_5m_n1_PLD60_settledist10.csv')\n",
    "nearest_neighbor(depth5m, 15, 90, 10)\n",
    "os.rename('/Users/taylorely/Documents/OceanModeling/settled_per_release_and_settledsite_n500_site.csv','/Users/taylorely/Documents/OceanModeling/settled_5m_n1_PLD90_settledist10.csv')\n",
    "nearest_neighbor(depth5m, 15, 180, 10)\n",
    "os.rename('/Users/taylorely/Documents/OceanModeling/settled_per_release_and_settledsite_n500_site.csv','/Users/taylorely/Documents/OceanModeling/settled_5m_n1_PLD180_settledist10.csv')\n"
   ]
  },
  {
   "cell_type": "code",
   "execution_count": 13,
   "id": "8497b0d4",
   "metadata": {},
   "outputs": [],
   "source": [
    "depth10m = netCDF4.Dataset('LAPS_sensitivity_n1_pld180_10m_Kh0_nday545_daily_2013_2.nc')\n",
    "nearest_neighbor(depth10m, 15, 30, 10)\n",
    "os.rename('/Users/taylorely/Documents/OceanModeling/settled_per_release_and_settledsite_n500_site.csv','/Users/taylorely/Documents/OceanModeling/settled_10m_n1_PLD30_settledist10.csv')\n",
    "nearest_neighbor(depth10m, 15, 60, 10)\n",
    "os.rename('/Users/taylorely/Documents/OceanModeling/settled_per_release_and_settledsite_n500_site.csv','/Users/taylorely/Documents/OceanModeling/settled_10m_n1_PLD60_settledist10.csv')\n",
    "nearest_neighbor(depth10m, 15, 90, 10)\n",
    "os.rename('/Users/taylorely/Documents/OceanModeling/settled_per_release_and_settledsite_n500_site.csv','/Users/taylorely/Documents/OceanModeling/settled_10m_n1_PLD90_settledist10.csv')\n",
    "nearest_neighbor(depth10m, 15, 180, 10)\n",
    "os.rename('/Users/taylorely/Documents/OceanModeling/settled_per_release_and_settledsite_n500_site.csv','/Users/taylorely/Documents/OceanModeling/settled_10m_n1_PLD180_settledist10.csv')\n"
   ]
  },
  {
   "cell_type": "code",
   "execution_count": 14,
   "id": "7911759a",
   "metadata": {},
   "outputs": [],
   "source": [
    "depth20m = netCDF4.Dataset('LAPS_sensitivity_n1_pld180_20m_Kh0_nday545_daily_2013_2.nc')\n",
    "nearest_neighbor(depth20m, 15, 30, 10)\n",
    "os.rename('/Users/taylorely/Documents/OceanModeling/settled_per_release_and_settledsite_n500_site.csv','/Users/taylorely/Documents/OceanModeling/settled_20m_n1_PLD30_settledist10.csv')\n",
    "nearest_neighbor(depth20m, 15, 60, 10)\n",
    "os.rename('/Users/taylorely/Documents/OceanModeling/settled_per_release_and_settledsite_n500_site.csv','/Users/taylorely/Documents/OceanModeling/settled_20m_n1_PLD60_settledist10.csv')\n",
    "nearest_neighbor(depth20m, 15, 90, 10)\n",
    "os.rename('/Users/taylorely/Documents/OceanModeling/settled_per_release_and_settledsite_n500_site.csv','/Users/taylorely/Documents/OceanModeling/settled_20m_n1_PLD90_settledist10.csv')\n",
    "nearest_neighbor(depth20m, 15, 180, 10)\n",
    "os.rename('/Users/taylorely/Documents/OceanModeling/settled_per_release_and_settledsite_n500_site.csv','/Users/taylorely/Documents/OceanModeling/settled_20m_n1_PLD180_settledist10.csv')\n"
   ]
  },
  {
   "cell_type": "code",
   "execution_count": 15,
   "id": "90648784",
   "metadata": {},
   "outputs": [],
   "source": [
    "depth30m = netCDF4.Dataset('LAPS_sensitivity_n1_pld180_30m_Kh0_nday545_daily_2013_2.nc')\n",
    "nearest_neighbor(depth30m, 15, 30, 10)\n",
    "os.rename('/Users/taylorely/Documents/OceanModeling/settled_per_release_and_settledsite_n500_site.csv','/Users/taylorely/Documents/OceanModeling/settled_30m_n1_PLD30_settledist10.csv')\n",
    "nearest_neighbor(depth30m, 15, 60, 10)\n",
    "os.rename('/Users/taylorely/Documents/OceanModeling/settled_per_release_and_settledsite_n500_site.csv','/Users/taylorely/Documents/OceanModeling/settled_30m_n1_PLD60_settledist10.csv')\n",
    "nearest_neighbor(depth30m, 15, 90, 10)\n",
    "os.rename('/Users/taylorely/Documents/OceanModeling/settled_per_release_and_settledsite_n500_site.csv','/Users/taylorely/Documents/OceanModeling/settled_30m_n1_PLD90_settledist10.csv')\n",
    "nearest_neighbor(depth30m, 15, 180, 10)\n",
    "os.rename('/Users/taylorely/Documents/OceanModeling/settled_per_release_and_settledsite_n500_site.csv','/Users/taylorely/Documents/OceanModeling/settled_30m_n1_PLD180_settledist10.csv')\n"
   ]
  },
  {
   "cell_type": "code",
   "execution_count": 16,
   "id": "26438080",
   "metadata": {},
   "outputs": [],
   "source": [
    "depth50m = netCDF4.Dataset('LAPS_sensitivity_n1_pld180_50m_Kh0_nday545_daily_2013_2.nc')\n",
    "nearest_neighbor(depth50m, 15, 30, 10)\n",
    "os.rename('/Users/taylorely/Documents/OceanModeling/settled_per_release_and_settledsite_n500_site.csv','/Users/taylorely/Documents/OceanModeling/settled_50m_n1_PLD30_settledist10.csv')\n",
    "nearest_neighbor(depth50m, 15, 60, 10)\n",
    "os.rename('/Users/taylorely/Documents/OceanModeling/settled_per_release_and_settledsite_n500_site.csv','/Users/taylorely/Documents/OceanModeling/settled_50m_n1_PLD60_settledist10.csv')\n",
    "nearest_neighbor(depth50m, 15, 90, 10)\n",
    "os.rename('/Users/taylorely/Documents/OceanModeling/settled_per_release_and_settledsite_n500_site.csv','/Users/taylorely/Documents/OceanModeling/settled_50m_n1_PLD90_settledist10.csv')\n",
    "nearest_neighbor(depth50m, 15, 180, 10)\n",
    "os.rename('/Users/taylorely/Documents/OceanModeling/settled_per_release_and_settledsite_n500_site.csv','/Users/taylorely/Documents/OceanModeling/settled_50m_n1_PLD180_settledist10.csv')\n"
   ]
  },
  {
   "cell_type": "code",
   "execution_count": null,
   "id": "48146d10",
   "metadata": {},
   "outputs": [],
   "source": []
  },
  {
   "cell_type": "code",
   "execution_count": 7,
   "id": "b6c3f610",
   "metadata": {},
   "outputs": [],
   "source": [
    "n250 = netCDF4.Dataset('LAPS_sensitivity_n250_pld180_5m_Kh10_nday545_daily_07012012_FreeSlipSettle_newKiritimati_redo_2ndrun.nc')\n",
    "nearest_neighbor(n250, 15,30,10)\n",
    "os.rename('/Users/taylorely/Documents/OceanModeling/settled_per_release_and_settledsite_n500_site.csv','/Users/taylorely/Documents/OceanModeling/settled_per_release_and_settledsite_particlesredo_n250_PLD30_settledist10_repeat.csv')"
   ]
  },
  {
   "cell_type": "code",
   "execution_count": 8,
   "id": "be3448a3",
   "metadata": {},
   "outputs": [],
   "source": [
    "nearest_neighbor(n250, 15,60,10)\n",
    "os.rename('/Users/taylorely/Documents/OceanModeling/settled_per_release_and_settledsite_n500_site.csv','/Users/taylorely/Documents/OceanModeling/settled_per_release_and_settledsite_particlesredo_n250_PLD60_settledist10_repeat.csv')"
   ]
  },
  {
   "cell_type": "code",
   "execution_count": 9,
   "id": "b6adb658",
   "metadata": {},
   "outputs": [],
   "source": [
    "nearest_neighbor(n250, 15,90,10)\n",
    "os.rename('/Users/taylorely/Documents/OceanModeling/settled_per_release_and_settledsite_n500_site.csv','/Users/taylorely/Documents/OceanModeling/settled_per_release_and_settledsite_particlesredo_n250_PLD90_settledist10_repeat.csv')"
   ]
  },
  {
   "cell_type": "code",
   "execution_count": 10,
   "id": "ce7bc6be",
   "metadata": {},
   "outputs": [
    {
     "name": "stdout",
     "output_type": "stream",
     "text": [
      "(3751500, 181)\n"
     ]
    }
   ],
   "source": [
    "# should be 3751500 in length\n",
    "lon = n250.variables['lon'][:]\n",
    "print(lon.shape)"
   ]
  },
  {
   "cell_type": "code",
   "execution_count": 11,
   "id": "257f618f",
   "metadata": {},
   "outputs": [],
   "source": [
    "nearest_neighbor_divided(n250,0,1875750,15,180,10)\n",
    "os.rename('/Users/taylorely/Documents/OceanModeling/settled_per_release_and_settledsite_n500_site.csv','/Users/taylorely/Documents/OceanModeling/settled_per_release_and_settledsite_particlesredo_n250_PLD180_settledist10_repeat_part1.csv')"
   ]
  },
  {
   "cell_type": "code",
   "execution_count": 7,
   "id": "f065cbb1",
   "metadata": {},
   "outputs": [],
   "source": [
    "n250 = netCDF4.Dataset('LAPS_sensitivity_n250_pld180_5m_Kh10_nday545_daily_07012012_FreeSlipSettle_newKiritimati_redo_2ndrun.nc')\n",
    "nearest_neighbor_divided(n250,1875750,3751500,15,180,10)\n",
    "os.rename('/Users/taylorely/Documents/OceanModeling/settled_per_release_and_settledsite_n500_site.csv','/Users/taylorely/Documents/OceanModeling/settled_per_release_and_settledsite_particlesredo_n250_PLD180_settledist10_repeat_part2.csv')"
   ]
  },
  {
   "cell_type": "code",
   "execution_count": 6,
   "id": "7a9015b9",
   "metadata": {},
   "outputs": [],
   "source": [
    "n1000_1 = netCDF4.Dataset('LAPS_sensitivity_n1000_pld180_5m_Kh10_nday545_daily_07012012_FreeSlipSettle_newKiritimati_redo_site1.nc')\n",
    "nearest_neighbor(n1000_1, 15,30,10)\n",
    "os.rename('/Users/taylorely/Documents/OceanModeling/settled_per_release_and_settledsite_n500_site.csv','/Users/taylorely/Documents/OceanModeling/settled_per_release_and_settledsite_particlesredo_n1000_PLD30_settledist10_site1.csv')"
   ]
  },
  {
   "cell_type": "code",
   "execution_count": 7,
   "id": "1e5ac9c1",
   "metadata": {},
   "outputs": [],
   "source": [
    "nearest_neighbor(n1000_1, 15,60,10)\n",
    "os.rename('/Users/taylorely/Documents/OceanModeling/settled_per_release_and_settledsite_n500_site.csv','/Users/taylorely/Documents/OceanModeling/settled_per_release_and_settledsite_particlesredo_n1000_PLD60_settledist10_site1.csv')"
   ]
  },
  {
   "cell_type": "code",
   "execution_count": 8,
   "id": "519bd85e",
   "metadata": {},
   "outputs": [],
   "source": [
    "nearest_neighbor(n1000_1, 15,90,10)\n",
    "os.rename('/Users/taylorely/Documents/OceanModeling/settled_per_release_and_settledsite_n500_site.csv','/Users/taylorely/Documents/OceanModeling/settled_per_release_and_settledsite_particlesredo_n1000_PLD90_settledist10_site1.csv')"
   ]
  },
  {
   "cell_type": "code",
   "execution_count": 23,
   "id": "28a85c60",
   "metadata": {},
   "outputs": [
    {
     "name": "stdout",
     "output_type": "stream",
     "text": [
      "(2196000, 181)\n"
     ]
    }
   ],
   "source": [
    "n1000_1 = netCDF4.Dataset('LAPS_sensitivity_n1000_pld180_5m_Kh10_nday545_daily_07012012_FreeSlipSettle_newKiritimati_redo_site1.nc')\n",
    "lon = n1000_1.variables['lon'][:]\n",
    "print(lon.shape)"
   ]
  },
  {
   "cell_type": "code",
   "execution_count": 24,
   "id": "8087f79a",
   "metadata": {},
   "outputs": [],
   "source": [
    "nearest_neighbor_divided(n1000_1,0,1098000,15,180,10)\n",
    "os.rename('/Users/taylorely/Documents/OceanModeling/settled_per_release_and_settledsite_n500_site.csv','/Users/taylorely/Documents/OceanModeling/settled_per_release_and_settledsite_particlesredo_n1000_PLD180_settledist10_site1_1.csv')"
   ]
  },
  {
   "cell_type": "code",
   "execution_count": 25,
   "id": "fc0cce54",
   "metadata": {},
   "outputs": [],
   "source": [
    "nearest_neighbor_divided(n1000_1,1098000,2196000,15,180,10)\n",
    "os.rename('/Users/taylorely/Documents/OceanModeling/settled_per_release_and_settledsite_n500_site.csv','/Users/taylorely/Documents/OceanModeling/settled_per_release_and_settledsite_particlesredo_n1000_PLD180_settledist10_site1_2.csv')"
   ]
  },
  {
   "cell_type": "code",
   "execution_count": 6,
   "id": "151de4e8",
   "metadata": {},
   "outputs": [],
   "source": [
    "n1000_2 = netCDF4.Dataset('LAPS_sensitivity_n1000_pld180_5m_Kh10_nday545_daily_07012012_FreeSlipSettle_newKiritimati_redo_site2.nc')\n",
    "nearest_neighbor(n1000_2, 15,30,10)\n",
    "os.rename('/Users/taylorely/Documents/OceanModeling/settled_per_release_and_settledsite_n500_site.csv','/Users/taylorely/Documents/OceanModeling/settled_per_release_and_settledsite_particlesredo_n1000_PLD30_settledist10_site2.csv')"
   ]
  },
  {
   "cell_type": "code",
   "execution_count": 7,
   "id": "814906a4",
   "metadata": {},
   "outputs": [],
   "source": [
    "nearest_neighbor(n1000_2, 15,60,10)\n",
    "os.rename('/Users/taylorely/Documents/OceanModeling/settled_per_release_and_settledsite_n500_site.csv','/Users/taylorely/Documents/OceanModeling/settled_per_release_and_settledsite_particlesredo_n1000_PLD60_settledist10_site2.csv')"
   ]
  },
  {
   "cell_type": "code",
   "execution_count": 8,
   "id": "4c8fe4e1",
   "metadata": {},
   "outputs": [],
   "source": [
    "nearest_neighbor(n1000_2, 15,90,10)\n",
    "os.rename('/Users/taylorely/Documents/OceanModeling/settled_per_release_and_settledsite_n500_site.csv','/Users/taylorely/Documents/OceanModeling/settled_per_release_and_settledsite_particlesredo_n1000_PLD90_settledist10_site2.csv')"
   ]
  },
  {
   "cell_type": "code",
   "execution_count": 7,
   "id": "db9bf95c",
   "metadata": {},
   "outputs": [
    {
     "name": "stdout",
     "output_type": "stream",
     "text": [
      "(2196000, 181)\n"
     ]
    }
   ],
   "source": [
    "n1000_2 = netCDF4.Dataset('LAPS_sensitivity_n1000_pld180_5m_Kh10_nday545_daily_07012012_FreeSlipSettle_newKiritimati_redo_site2.nc')\n",
    "lon = n1000_2.variables['lon'][:]\n",
    "print(lon.shape)"
   ]
  },
  {
   "cell_type": "code",
   "execution_count": 8,
   "id": "1879be57",
   "metadata": {},
   "outputs": [],
   "source": [
    "nearest_neighbor_divided(n1000_2,0,1098000, 15,180,10)\n",
    "os.rename('/Users/taylorely/Documents/OceanModeling/settled_per_release_and_settledsite_n500_site.csv','/Users/taylorely/Documents/OceanModeling/settled_per_release_and_settledsite_particlesredo_n1000_PLD180_settledist10_site2_1.csv')"
   ]
  },
  {
   "cell_type": "code",
   "execution_count": 9,
   "id": "e3d5b5e1",
   "metadata": {},
   "outputs": [],
   "source": [
    "nearest_neighbor_divided(n1000_2,1098000,2196000, 15,180,10)\n",
    "os.rename('/Users/taylorely/Documents/OceanModeling/settled_per_release_and_settledsite_n500_site.csv','/Users/taylorely/Documents/OceanModeling/settled_per_release_and_settledsite_particlesredo_n1000_PLD180_settledist10_site2_2.csv')"
   ]
  },
  {
   "cell_type": "code",
   "execution_count": 6,
   "id": "c384c0a4",
   "metadata": {},
   "outputs": [],
   "source": [
    "n1000_6 = netCDF4.Dataset('LAPS_sensitivity_n1000_pld180_5m_Kh10_nday545_daily_07012012_FreeSlipSettle_newKiritimati_redo_site6.nc')\n",
    "nearest_neighbor(n1000_6, 15,30,10)\n",
    "os.rename('/Users/taylorely/Documents/OceanModeling/settled_per_release_and_settledsite_n500_site.csv','/Users/taylorely/Documents/OceanModeling/settled_per_release_and_settledsite_particlesredo_n1000_PLD30_settledist10_site6.csv')"
   ]
  },
  {
   "cell_type": "code",
   "execution_count": 7,
   "id": "8b73a256",
   "metadata": {},
   "outputs": [],
   "source": [
    "nearest_neighbor(n1000_6, 15,60,10)\n",
    "os.rename('/Users/taylorely/Documents/OceanModeling/settled_per_release_and_settledsite_n500_site.csv','/Users/taylorely/Documents/OceanModeling/settled_per_release_and_settledsite_particlesredo_n1000_PLD60_settledist10_site6.csv')"
   ]
  },
  {
   "cell_type": "code",
   "execution_count": 8,
   "id": "f72e3043",
   "metadata": {},
   "outputs": [],
   "source": [
    "nearest_neighbor(n1000_6, 15,90,10)\n",
    "os.rename('/Users/taylorely/Documents/OceanModeling/settled_per_release_and_settledsite_n500_site.csv','/Users/taylorely/Documents/OceanModeling/settled_per_release_and_settledsite_particlesredo_n1000_PLD90_settledist10_site6.csv')"
   ]
  },
  {
   "cell_type": "code",
   "execution_count": 10,
   "id": "15c71100",
   "metadata": {},
   "outputs": [
    {
     "name": "stdout",
     "output_type": "stream",
     "text": [
      "(2196000, 181)\n"
     ]
    }
   ],
   "source": [
    "n1000_6 = netCDF4.Dataset('LAPS_sensitivity_n1000_pld180_5m_Kh10_nday545_daily_07012012_FreeSlipSettle_newKiritimati_redo_site6.nc')\n",
    "lon = n1000_6.variables['lon'][:]\n",
    "print(lon.shape)"
   ]
  },
  {
   "cell_type": "code",
   "execution_count": 11,
   "id": "d1e2785b",
   "metadata": {},
   "outputs": [],
   "source": [
    "nearest_neighbor_divided(n1000_6,0,1098000,15,180,10)\n",
    "os.rename('/Users/taylorely/Documents/OceanModeling/settled_per_release_and_settledsite_n500_site.csv','/Users/taylorely/Documents/OceanModeling/settled_per_release_and_settledsite_particlesredo_n1000_PLD180_settledist10_site6_1.csv')"
   ]
  },
  {
   "cell_type": "code",
   "execution_count": 12,
   "id": "fd7b9445",
   "metadata": {},
   "outputs": [],
   "source": [
    "nearest_neighbor_divided(n1000_6,1098000,2196000, 15,180,10)\n",
    "os.rename('/Users/taylorely/Documents/OceanModeling/settled_per_release_and_settledsite_n500_site.csv','/Users/taylorely/Documents/OceanModeling/settled_per_release_and_settledsite_particlesredo_n1000_PLD180_settledist10_site6_2.csv')"
   ]
  },
  {
   "cell_type": "code",
   "execution_count": 9,
   "id": "bafcd1d9",
   "metadata": {},
   "outputs": [],
   "source": [
    "n1000_7_1 = netCDF4.Dataset('LAPS_sensitivity_n1000_pld180_5m_Kh10_nday545_daily_07012012_FreeSlipSettle_newKiritimati_redo_site7_1.nc')\n",
    "nearest_neighbor(n1000_7_1, 15,30,10)\n",
    "os.rename('/Users/taylorely/Documents/OceanModeling/settled_per_release_and_settledsite_n500_site.csv','/Users/taylorely/Documents/OceanModeling/settled_per_release_and_settledsite_particlesredo_n1000_PLD30_settledist10_site7_1.csv')"
   ]
  },
  {
   "cell_type": "code",
   "execution_count": 10,
   "id": "3a30b18b",
   "metadata": {},
   "outputs": [],
   "source": [
    "nearest_neighbor(n1000_7_1, 15,60,10)\n",
    "os.rename('/Users/taylorely/Documents/OceanModeling/settled_per_release_and_settledsite_n500_site.csv','/Users/taylorely/Documents/OceanModeling/settled_per_release_and_settledsite_particlesredo_n1000_PLD60_settledist10_site7_1.csv')"
   ]
  },
  {
   "cell_type": "code",
   "execution_count": 11,
   "id": "17fc6674",
   "metadata": {},
   "outputs": [],
   "source": [
    "nearest_neighbor(n1000_7_1, 15,90,10)\n",
    "os.rename('/Users/taylorely/Documents/OceanModeling/settled_per_release_and_settledsite_n500_site.csv','/Users/taylorely/Documents/OceanModeling/settled_per_release_and_settledsite_particlesredo_n1000_PLD90_settledist10_site7_1.csv')"
   ]
  },
  {
   "cell_type": "code",
   "execution_count": 13,
   "id": "ed53cfdf",
   "metadata": {},
   "outputs": [
    {
     "name": "stdout",
     "output_type": "stream",
     "text": [
      "(2562000, 181)\n"
     ]
    }
   ],
   "source": [
    "n1000_7_1 = netCDF4.Dataset('LAPS_sensitivity_n1000_pld180_5m_Kh10_nday545_daily_07012012_FreeSlipSettle_newKiritimati_redo_site7_1.nc')\n",
    "lon = n1000_7_1.variables['lon'][:]\n",
    "print(lon.shape)"
   ]
  },
  {
   "cell_type": "code",
   "execution_count": 15,
   "id": "b002b121",
   "metadata": {},
   "outputs": [],
   "source": [
    "nearest_neighbor_divided(n1000_7_1, 0,1281000,15,180,10)\n",
    "os.rename('/Users/taylorely/Documents/OceanModeling/settled_per_release_and_settledsite_n500_site.csv','/Users/taylorely/Documents/OceanModeling/settled_per_release_and_settledsite_particlesredo_n1000_PLD180_settledist10_site7_1_part1.csv')"
   ]
  },
  {
   "cell_type": "code",
   "execution_count": 16,
   "id": "22e7c2e8",
   "metadata": {},
   "outputs": [],
   "source": [
    "nearest_neighbor_divided(n1000_7_1,1281000,2562000, 15,180,10)\n",
    "os.rename('/Users/taylorely/Documents/OceanModeling/settled_per_release_and_settledsite_n500_site.csv','/Users/taylorely/Documents/OceanModeling/settled_per_release_and_settledsite_particlesredo_n1000_PLD180_settledist10_site7_1_part2.csv')"
   ]
  },
  {
   "cell_type": "code",
   "execution_count": 12,
   "id": "88feeb53",
   "metadata": {},
   "outputs": [],
   "source": [
    "n1000_7_2 = netCDF4.Dataset('LAPS_sensitivity_n1000_pld180_5m_Kh10_nday545_daily_07012012_FreeSlipSettle_newKiritimati_redo_site7_2.nc')\n",
    "nearest_neighbor(n1000_7_2, 15,30,10)\n",
    "os.rename('/Users/taylorely/Documents/OceanModeling/settled_per_release_and_settledsite_n500_site.csv','/Users/taylorely/Documents/OceanModeling/settled_per_release_and_settledsite_particlesredo_n1000_PLD30_settledist10_site7_2.csv')"
   ]
  },
  {
   "cell_type": "code",
   "execution_count": 13,
   "id": "71337557",
   "metadata": {},
   "outputs": [],
   "source": [
    "nearest_neighbor(n1000_7_2, 15,60,10)\n",
    "os.rename('/Users/taylorely/Documents/OceanModeling/settled_per_release_and_settledsite_n500_site.csv','/Users/taylorely/Documents/OceanModeling/settled_per_release_and_settledsite_particlesredo_n1000_PLD60_settledist10_site7_2.csv')"
   ]
  },
  {
   "cell_type": "code",
   "execution_count": 14,
   "id": "d5a5578c",
   "metadata": {},
   "outputs": [],
   "source": [
    "nearest_neighbor(n1000_7_2, 15,90,10)\n",
    "os.rename('/Users/taylorely/Documents/OceanModeling/settled_per_release_and_settledsite_n500_site.csv','/Users/taylorely/Documents/OceanModeling/settled_per_release_and_settledsite_particlesredo_n1000_PLD90_settledist10_site7_2.csv')"
   ]
  },
  {
   "cell_type": "code",
   "execution_count": 14,
   "id": "deda72fa",
   "metadata": {},
   "outputs": [
    {
     "name": "stdout",
     "output_type": "stream",
     "text": [
      "(2562000, 181)\n"
     ]
    }
   ],
   "source": [
    "n1000_7_2 = netCDF4.Dataset('LAPS_sensitivity_n1000_pld180_5m_Kh10_nday545_daily_07012012_FreeSlipSettle_newKiritimati_redo_site7_2.nc')\n",
    "lon = n1000_7_1.variables['lon'][:]\n",
    "print(lon.shape)"
   ]
  },
  {
   "cell_type": "code",
   "execution_count": 18,
   "id": "b33bd8b0",
   "metadata": {},
   "outputs": [],
   "source": [
    "nearest_neighbor_divided(n1000_7_2,0,1281000,15,180,10)\n",
    "os.rename('/Users/taylorely/Documents/OceanModeling/settled_per_release_and_settledsite_n500_site.csv','/Users/taylorely/Documents/OceanModeling/settled_per_release_and_settledsite_particlesredo_n1000_PLD180_settledist10_site7_2_part1.csv')"
   ]
  },
  {
   "cell_type": "code",
   "execution_count": 19,
   "id": "d57cd700",
   "metadata": {},
   "outputs": [],
   "source": [
    "nearest_neighbor_divided(n1000_7_2,1281000,2562000,15,180,10)\n",
    "os.rename('/Users/taylorely/Documents/OceanModeling/settled_per_release_and_settledsite_n500_site.csv','/Users/taylorely/Documents/OceanModeling/settled_per_release_and_settledsite_particlesredo_n1000_PLD180_settledist10_site7_2_part2.csv')"
   ]
  },
  {
   "cell_type": "code",
   "execution_count": 15,
   "id": "5473852a",
   "metadata": {},
   "outputs": [],
   "source": [
    "n1000_12 = netCDF4.Dataset('LAPS_sensitivity_n1000_pld180_5m_Kh10_nday545_daily_07012012_FreeSlipSettle_newKiritimati_redo_site12.nc')\n",
    "nearest_neighbor(n1000_12, 15,30,10)\n",
    "os.rename('/Users/taylorely/Documents/OceanModeling/settled_per_release_and_settledsite_n500_site.csv','/Users/taylorely/Documents/OceanModeling/settled_per_release_and_settledsite_particlesredo_n1000_PLD30_settledist10_site12.csv')"
   ]
  },
  {
   "cell_type": "code",
   "execution_count": 16,
   "id": "50534812",
   "metadata": {},
   "outputs": [],
   "source": [
    "nearest_neighbor(n1000_12, 15,60,10)\n",
    "os.rename('/Users/taylorely/Documents/OceanModeling/settled_per_release_and_settledsite_n500_site.csv','/Users/taylorely/Documents/OceanModeling/settled_per_release_and_settledsite_particlesredo_n1000_PLD60_settledist10_site12.csv')"
   ]
  },
  {
   "cell_type": "code",
   "execution_count": 17,
   "id": "6469abc3",
   "metadata": {},
   "outputs": [],
   "source": [
    "nearest_neighbor(n1000_12, 15,90,10)\n",
    "os.rename('/Users/taylorely/Documents/OceanModeling/settled_per_release_and_settledsite_n500_site.csv','/Users/taylorely/Documents/OceanModeling/settled_per_release_and_settledsite_particlesredo_n1000_PLD90_settledist10_site12.csv')"
   ]
  },
  {
   "cell_type": "code",
   "execution_count": 20,
   "id": "505989d5",
   "metadata": {},
   "outputs": [
    {
     "name": "stdout",
     "output_type": "stream",
     "text": [
      "(1464000, 181)\n"
     ]
    }
   ],
   "source": [
    "n1000_12 = netCDF4.Dataset('LAPS_sensitivity_n1000_pld180_5m_Kh10_nday545_daily_07012012_FreeSlipSettle_newKiritimati_redo_site12.nc')\n",
    "lon = n1000_12.variables['lon'][:]\n",
    "print(lon.shape)"
   ]
  },
  {
   "cell_type": "code",
   "execution_count": 21,
   "id": "c5b64ac3",
   "metadata": {},
   "outputs": [],
   "source": [
    "nearest_neighbor_divided(n1000_12,0,732000,15,180,10)\n",
    "os.rename('/Users/taylorely/Documents/OceanModeling/settled_per_release_and_settledsite_n500_site.csv','/Users/taylorely/Documents/OceanModeling/settled_per_release_and_settledsite_particlesredo_n1000_PLD180_settledist10_site12_part1.csv')"
   ]
  },
  {
   "cell_type": "code",
   "execution_count": 22,
   "id": "42a69742",
   "metadata": {},
   "outputs": [],
   "source": [
    "nearest_neighbor_divided(n1000_12,732000,1464000,15,180,10)\n",
    "os.rename('/Users/taylorely/Documents/OceanModeling/settled_per_release_and_settledsite_n500_site.csv','/Users/taylorely/Documents/OceanModeling/settled_per_release_and_settledsite_particlesredo_n1000_PLD180_settledist10_site12_part2.csv')"
   ]
  },
  {
   "cell_type": "code",
   "execution_count": 18,
   "id": "54119892",
   "metadata": {},
   "outputs": [],
   "source": [
    "n1000_other = netCDF4.Dataset('LAPS_sensitivity_n1000_pld180_5m_Kh10_nday545_daily_07012012_FreeSlipSettle_newKiritimati_redo_siteother.nc')\n",
    "nearest_neighbor(n1000_other, 15,30,10)\n",
    "os.rename('/Users/taylorely/Documents/OceanModeling/settled_per_release_and_settledsite_n500_site.csv','/Users/taylorely/Documents/OceanModeling/settled_per_release_and_settledsite_particlesredo_n1000_PLD30_settledist10_siteother.csv')"
   ]
  },
  {
   "cell_type": "code",
   "execution_count": 19,
   "id": "ba128fcf",
   "metadata": {},
   "outputs": [],
   "source": [
    "nearest_neighbor(n1000_other, 15,60,10)\n",
    "os.rename('/Users/taylorely/Documents/OceanModeling/settled_per_release_and_settledsite_n500_site.csv','/Users/taylorely/Documents/OceanModeling/settled_per_release_and_settledsite_particlesredo_n1000_PLD60_settledist10_siteother.csv')"
   ]
  },
  {
   "cell_type": "code",
   "execution_count": 20,
   "id": "a4b7f1c8",
   "metadata": {},
   "outputs": [],
   "source": [
    "nearest_neighbor(n1000_other, 15,90,10)\n",
    "os.rename('/Users/taylorely/Documents/OceanModeling/settled_per_release_and_settledsite_n500_site.csv','/Users/taylorely/Documents/OceanModeling/settled_per_release_and_settledsite_particlesredo_n1000_PLD90_settledist10_siteother.csv')"
   ]
  },
  {
   "cell_type": "code",
   "execution_count": 23,
   "id": "a40e59b7",
   "metadata": {},
   "outputs": [
    {
     "name": "stdout",
     "output_type": "stream",
     "text": [
      "(1830000, 181)\n"
     ]
    }
   ],
   "source": [
    "n1000_other = netCDF4.Dataset('LAPS_sensitivity_n1000_pld180_5m_Kh10_nday545_daily_07012012_FreeSlipSettle_newKiritimati_redo_siteother.nc')\n",
    "lon = n1000_other.variables['lon'][:]\n",
    "print(lon.shape)"
   ]
  },
  {
   "cell_type": "code",
   "execution_count": 24,
   "id": "d63d723f",
   "metadata": {},
   "outputs": [],
   "source": [
    "nearest_neighbor_divided(n1000_other,0,915000,15,180,10)\n",
    "os.rename('/Users/taylorely/Documents/OceanModeling/settled_per_release_and_settledsite_n500_site.csv','/Users/taylorely/Documents/OceanModeling/settled_per_release_and_settledsite_particlesredo_n1000_PLD180_settledist10_siteother_part1.csv')"
   ]
  },
  {
   "cell_type": "code",
   "execution_count": 25,
   "id": "bea0ccb7",
   "metadata": {},
   "outputs": [],
   "source": [
    "nearest_neighbor_divided(n1000_other,915000,1830000,15,180,10)\n",
    "os.rename('/Users/taylorely/Documents/OceanModeling/settled_per_release_and_settledsite_n500_site.csv','/Users/taylorely/Documents/OceanModeling/settled_per_release_and_settledsite_particlesredo_n1000_PLD180_settledist10_siteother_part2.csv')"
   ]
  },
  {
   "cell_type": "code",
   "execution_count": 27,
   "id": "3a0c1902",
   "metadata": {},
   "outputs": [],
   "source": [
    "site1 = pd.read_csv('/Users/taylorely/Documents/OceanModeling/settled_per_release_and_settledsite_particlesredo_n1000_PLD30_settledist10_site1.csv', sep = '\\t')\n",
    "site2 = pd.read_csv('/Users/taylorely/Documents/OceanModeling/settled_per_release_and_settledsite_particlesredo_n1000_PLD30_settledist10_site2.csv', sep = '\\t')\n",
    "site6 = pd.read_csv('/Users/taylorely/Documents/OceanModeling/settled_per_release_and_settledsite_particlesredo_n1000_PLD30_settledist10_site6.csv', sep = '\\t')\n",
    "site7 = pd.read_csv('/Users/taylorely/Documents/OceanModeling/settled_per_release_and_settledsite_particlesredo_n1000_PLD30_settledist10_site7_1.csv', sep = '\\t')\n",
    "site72 = pd.read_csv('/Users/taylorely/Documents/OceanModeling/settled_per_release_and_settledsite_particlesredo_n1000_PLD30_settledist10_site7_2.csv', sep = '\\t')\n",
    "site12 = pd.read_csv('/Users/taylorely/Documents/OceanModeling/settled_per_release_and_settledsite_particlesredo_n1000_PLD30_settledist10_site12.csv', sep = '\\t')\n",
    "siteother = pd.read_csv('/Users/taylorely/Documents/OceanModeling/settled_per_release_and_settledsite_particlesredo_n1000_PLD30_settledist10_siteother.csv', sep = '\\t')\n",
    "merge_sites = pd.concat([site1,site2,site6,site7,site72,site12,siteother])\n",
    "merge_sites.to_csv('/Users/taylorely/Documents/OceanModeling/settled_per_release_and_settledsite_particlesredo_n1000_PLD30_settledist10_newKiritimati.csv', sep='\\t')"
   ]
  },
  {
   "cell_type": "code",
   "execution_count": 28,
   "id": "a6c958a3",
   "metadata": {},
   "outputs": [],
   "source": [
    "site1 = pd.read_csv('/Users/taylorely/Documents/OceanModeling/settled_per_release_and_settledsite_particlesredo_n1000_PLD60_settledist10_site1.csv', sep = '\\t')\n",
    "site2 = pd.read_csv('/Users/taylorely/Documents/OceanModeling/settled_per_release_and_settledsite_particlesredo_n1000_PLD60_settledist10_site2.csv', sep = '\\t')\n",
    "site6 = pd.read_csv('/Users/taylorely/Documents/OceanModeling/settled_per_release_and_settledsite_particlesredo_n1000_PLD60_settledist10_site6.csv', sep = '\\t')\n",
    "site7 = pd.read_csv('/Users/taylorely/Documents/OceanModeling/settled_per_release_and_settledsite_particlesredo_n1000_PLD60_settledist10_site7_1.csv', sep = '\\t')\n",
    "site72 = pd.read_csv('/Users/taylorely/Documents/OceanModeling/settled_per_release_and_settledsite_particlesredo_n1000_PLD60_settledist10_site7_2.csv', sep = '\\t')\n",
    "site12 = pd.read_csv('/Users/taylorely/Documents/OceanModeling/settled_per_release_and_settledsite_particlesredo_n1000_PLD60_settledist10_site12.csv', sep = '\\t')\n",
    "siteother = pd.read_csv('/Users/taylorely/Documents/OceanModeling/settled_per_release_and_settledsite_particlesredo_n1000_PLD60_settledist10_siteother.csv', sep = '\\t')\n",
    "merge_sites = pd.concat([site1,site2,site6,site7,site72,site12,siteother])\n",
    "merge_sites.to_csv('/Users/taylorely/Documents/OceanModeling/settled_per_release_and_settledsite_particlesredo_n1000_PLD60_settledist10_newKiritimati.csv', sep='\\t')"
   ]
  },
  {
   "cell_type": "code",
   "execution_count": 29,
   "id": "76d83f44",
   "metadata": {},
   "outputs": [],
   "source": [
    "site1 = pd.read_csv('/Users/taylorely/Documents/OceanModeling/settled_per_release_and_settledsite_particlesredo_n1000_PLD90_settledist10_site1.csv', sep = '\\t')\n",
    "site2 = pd.read_csv('/Users/taylorely/Documents/OceanModeling/settled_per_release_and_settledsite_particlesredo_n1000_PLD90_settledist10_site2.csv', sep = '\\t')\n",
    "site6 = pd.read_csv('/Users/taylorely/Documents/OceanModeling/settled_per_release_and_settledsite_particlesredo_n1000_PLD90_settledist10_site6.csv', sep = '\\t')\n",
    "site7 = pd.read_csv('/Users/taylorely/Documents/OceanModeling/settled_per_release_and_settledsite_particlesredo_n1000_PLD90_settledist10_site7_1.csv', sep = '\\t')\n",
    "site72 = pd.read_csv('/Users/taylorely/Documents/OceanModeling/settled_per_release_and_settledsite_particlesredo_n1000_PLD90_settledist10_site7_2.csv', sep = '\\t')\n",
    "site12 = pd.read_csv('/Users/taylorely/Documents/OceanModeling/settled_per_release_and_settledsite_particlesredo_n1000_PLD90_settledist10_site12.csv', sep = '\\t')\n",
    "siteother = pd.read_csv('/Users/taylorely/Documents/OceanModeling/settled_per_release_and_settledsite_particlesredo_n1000_PLD90_settledist10_siteother.csv', sep = '\\t')\n",
    "merge_sites = pd.concat([site1,site2,site6,site7,site72,site12,siteother])\n",
    "merge_sites.to_csv('/Users/taylorely/Documents/OceanModeling/settled_per_release_and_settledsite_particlesredo_n1000_PLD90_settledist10_newKiritimati.csv', sep='\\t')"
   ]
  },
  {
   "cell_type": "code",
   "execution_count": 32,
   "id": "6d66bcd2",
   "metadata": {},
   "outputs": [],
   "source": [
    "site1_1 = pd.read_csv('/Users/taylorely/Documents/OceanModeling/settled_per_release_and_settledsite_particlesredo_n1000_PLD180_settledist10_site1_1.csv', sep = '\\t')\n",
    "site1_2 = pd.read_csv('/Users/taylorely/Documents/OceanModeling/settled_per_release_and_settledsite_particlesredo_n1000_PLD180_settledist10_site1_2.csv', sep = '\\t')\n",
    "site2_1 = pd.read_csv('/Users/taylorely/Documents/OceanModeling/settled_per_release_and_settledsite_particlesredo_n1000_PLD180_settledist10_site2_1.csv', sep = '\\t')\n",
    "site2_2 = pd.read_csv('/Users/taylorely/Documents/OceanModeling/settled_per_release_and_settledsite_particlesredo_n1000_PLD180_settledist10_site2_2.csv', sep = '\\t')\n",
    "site6_1 = pd.read_csv('/Users/taylorely/Documents/OceanModeling/settled_per_release_and_settledsite_particlesredo_n1000_PLD180_settledist10_site6_1.csv', sep = '\\t')\n",
    "site6_2 = pd.read_csv('/Users/taylorely/Documents/OceanModeling/settled_per_release_and_settledsite_particlesredo_n1000_PLD180_settledist10_site6_2.csv', sep = '\\t')\n",
    "site7_1 = pd.read_csv('/Users/taylorely/Documents/OceanModeling/settled_per_release_and_settledsite_particlesredo_n1000_PLD180_settledist10_site7_1_part1.csv', sep = '\\t')\n",
    "site7_2 = pd.read_csv('/Users/taylorely/Documents/OceanModeling/settled_per_release_and_settledsite_particlesredo_n1000_PLD180_settledist10_site7_1_part2.csv', sep = '\\t')\n",
    "site72_1 = pd.read_csv('/Users/taylorely/Documents/OceanModeling/settled_per_release_and_settledsite_particlesredo_n1000_PLD180_settledist10_site7_2_part1.csv', sep = '\\t')\n",
    "site72_2 = pd.read_csv('/Users/taylorely/Documents/OceanModeling/settled_per_release_and_settledsite_particlesredo_n1000_PLD180_settledist10_site7_2_part2.csv', sep = '\\t')\n",
    "site12_1 = pd.read_csv('/Users/taylorely/Documents/OceanModeling/settled_per_release_and_settledsite_particlesredo_n1000_PLD180_settledist10_site12_part1.csv', sep = '\\t')\n",
    "site12_2 = pd.read_csv('/Users/taylorely/Documents/OceanModeling/settled_per_release_and_settledsite_particlesredo_n1000_PLD180_settledist10_site12_part2.csv', sep = '\\t')\n",
    "siteother_1 = pd.read_csv('/Users/taylorely/Documents/OceanModeling/settled_per_release_and_settledsite_particlesredo_n1000_PLD180_settledist10_siteother_part1.csv', sep = '\\t')\n",
    "siteother_2 = pd.read_csv('/Users/taylorely/Documents/OceanModeling/settled_per_release_and_settledsite_particlesredo_n1000_PLD180_settledist10_siteother_part2.csv', sep = '\\t')\n",
    "\n",
    "merge_sites = pd.concat([site1_1,site1_2,site2_1,site2_2,site6_1,site6_2,site7_1,site7_2,site72_1,site72_2,site12_1,site12_2,siteother_1,siteother_2])\n",
    "merge_sites.to_csv('/Users/taylorely/Documents/OceanModeling/settled_per_release_and_settledsite_particlesredo_n1000_PLD180_settledist10_newKiritimati.csv', sep='\\t')"
   ]
  },
  {
   "cell_type": "code",
   "execution_count": 6,
   "id": "70e2ff67",
   "metadata": {},
   "outputs": [],
   "source": [
    "n100 = netCDF4.Dataset('LAPS_sensitivity_n100_pld180_5m_Kh10_nday545_daily_07012012_FreeSlipSettle_newKiritimati.nc')\n",
    "nearest_neighbor(n100, 15,30,10)\n",
    "os.rename('/Users/taylorely/Documents/OceanModeling/settled_per_release_and_settledsite_n500_site.csv','/Users/taylorely/Documents/OceanModeling/settled_per_release_and_settledsite_particlesredo_n100_PLD30_settledist10.csv')"
   ]
  },
  {
   "cell_type": "code",
   "execution_count": 7,
   "id": "0901b392",
   "metadata": {},
   "outputs": [],
   "source": [
    "nearest_neighbor(n100, 15,60,10)\n",
    "os.rename('/Users/taylorely/Documents/OceanModeling/settled_per_release_and_settledsite_n500_site.csv','/Users/taylorely/Documents/OceanModeling/settled_per_release_and_settledsite_particlesredo_n100_PLD60_settledist10.csv')"
   ]
  },
  {
   "cell_type": "code",
   "execution_count": 8,
   "id": "0997c30e",
   "metadata": {},
   "outputs": [],
   "source": [
    "nearest_neighbor(n100, 15,90,10)\n",
    "os.rename('/Users/taylorely/Documents/OceanModeling/settled_per_release_and_settledsite_n500_site.csv','/Users/taylorely/Documents/OceanModeling/settled_per_release_and_settledsite_particlesredo_n100_PLD90_settledist10.csv')"
   ]
  },
  {
   "cell_type": "code",
   "execution_count": 9,
   "id": "42c5c23b",
   "metadata": {},
   "outputs": [],
   "source": [
    "nearest_neighbor(n100, 15,180,10)\n",
    "os.rename('/Users/taylorely/Documents/OceanModeling/settled_per_release_and_settledsite_n500_site.csv','/Users/taylorely/Documents/OceanModeling/settled_per_release_and_settledsite_particlesredo_n100_PLD180_settledist10.csv')"
   ]
  },
  {
   "cell_type": "code",
   "execution_count": 10,
   "id": "230fa2dd",
   "metadata": {},
   "outputs": [],
   "source": [
    "n250=netCDF4.Dataset('LAPS_sensitivity_n250_pld180_5m_Kh10_nday545_daily_07012012_FreeSlipSettle_newKiritimati.nc')\n",
    "nearest_neighbor(n250, 15,30,10)\n",
    "os.rename('/Users/taylorely/Documents/OceanModeling/settled_per_release_and_settledsite_n500_site.csv','/Users/taylorely/Documents/OceanModeling/settled_per_release_and_settledsite_particlesredo_n250_PLD30_settledist10.csv')"
   ]
  },
  {
   "cell_type": "code",
   "execution_count": 11,
   "id": "abf8a7e0",
   "metadata": {},
   "outputs": [],
   "source": [
    "nearest_neighbor(n250, 15,60,10)\n",
    "os.rename('/Users/taylorely/Documents/OceanModeling/settled_per_release_and_settledsite_n500_site.csv','/Users/taylorely/Documents/OceanModeling/settled_per_release_and_settledsite_particlesredo_n250_PLD60_settledist10.csv')"
   ]
  },
  {
   "cell_type": "code",
   "execution_count": 12,
   "id": "fa4f4a3f",
   "metadata": {},
   "outputs": [],
   "source": [
    "nearest_neighbor(n250, 15,90,10)\n",
    "os.rename('/Users/taylorely/Documents/OceanModeling/settled_per_release_and_settledsite_n500_site.csv','/Users/taylorely/Documents/OceanModeling/settled_per_release_and_settledsite_particlesredo_n250_PLD90_settledist10.csv')"
   ]
  },
  {
   "cell_type": "code",
   "execution_count": null,
   "id": "1741c160",
   "metadata": {},
   "outputs": [],
   "source": []
  },
  {
   "cell_type": "code",
   "execution_count": 6,
   "id": "2ef6b339",
   "metadata": {},
   "outputs": [],
   "source": [
    "n500_1=netCDF4.Dataset('n500_1.nc')\n",
    "nearest_neighbor(n500_1,15,30,10)\n",
    "os.rename('/Users/taylorely/Documents/OceanModeling/settled_per_release_and_settledsite_n500_site.csv','/Users/taylorely/Documents/OceanModeling/settled_per_release_and_settledsite_particlesredo_n500_PLD30_settledist10_site1.csv')\n",
    "nearest_neighbor(n500_1,15,60,10)\n",
    "os.rename('/Users/taylorely/Documents/OceanModeling/settled_per_release_and_settledsite_n500_site.csv','/Users/taylorely/Documents/OceanModeling/settled_per_release_and_settledsite_particlesredo_n500_PLD60_settledist10_site1.csv')\n",
    "nearest_neighbor(n500_1,15,90,10)\n",
    "os.rename('/Users/taylorely/Documents/OceanModeling/settled_per_release_and_settledsite_n500_site.csv','/Users/taylorely/Documents/OceanModeling/settled_per_release_and_settledsite_particlesredo_n500_PLD90_settledist10_site1.csv')\n",
    "nearest_neighbor(n500_1,15,180,10)\n",
    "os.rename('/Users/taylorely/Documents/OceanModeling/settled_per_release_and_settledsite_n500_site.csv','/Users/taylorely/Documents/OceanModeling/settled_per_release_and_settledsite_particlesredo_n500_PLD180_settledist10_site1.csv')"
   ]
  },
  {
   "cell_type": "code",
   "execution_count": 7,
   "id": "5234f0d3",
   "metadata": {},
   "outputs": [],
   "source": [
    "n500_2=netCDF4.Dataset('n500_2.nc')\n",
    "nearest_neighbor(n500_2,15,30,10)\n",
    "os.rename('/Users/taylorely/Documents/OceanModeling/settled_per_release_and_settledsite_n500_site.csv','/Users/taylorely/Documents/OceanModeling/settled_per_release_and_settledsite_particlesredo_n500_PLD30_settledist10_site2.csv')\n",
    "nearest_neighbor(n500_2,15,60,10)\n",
    "os.rename('/Users/taylorely/Documents/OceanModeling/settled_per_release_and_settledsite_n500_site.csv','/Users/taylorely/Documents/OceanModeling/settled_per_release_and_settledsite_particlesredo_n500_PLD60_settledist10_site2.csv')\n",
    "nearest_neighbor(n500_2,15,90,10)\n",
    "os.rename('/Users/taylorely/Documents/OceanModeling/settled_per_release_and_settledsite_n500_site.csv','/Users/taylorely/Documents/OceanModeling/settled_per_release_and_settledsite_particlesredo_n500_PLD90_settledist10_site2.csv')\n",
    "nearest_neighbor(n500_2,15,180,10)\n",
    "os.rename('/Users/taylorely/Documents/OceanModeling/settled_per_release_and_settledsite_n500_site.csv','/Users/taylorely/Documents/OceanModeling/settled_per_release_and_settledsite_particlesredo_n500_PLD180_settledist10_site2.csv')"
   ]
  },
  {
   "cell_type": "code",
   "execution_count": 8,
   "id": "9e162277",
   "metadata": {},
   "outputs": [],
   "source": [
    "n500_3=netCDF4.Dataset('n500_3.nc')\n",
    "nearest_neighbor(n500_3,15,30,10)\n",
    "os.rename('/Users/taylorely/Documents/OceanModeling/settled_per_release_and_settledsite_n500_site.csv','/Users/taylorely/Documents/OceanModeling/settled_per_release_and_settledsite_particlesredo_n500_PLD30_settledist10_site3.csv')\n",
    "nearest_neighbor(n500_3,15,60,10)\n",
    "os.rename('/Users/taylorely/Documents/OceanModeling/settled_per_release_and_settledsite_n500_site.csv','/Users/taylorely/Documents/OceanModeling/settled_per_release_and_settledsite_particlesredo_n500_PLD60_settledist10_site3.csv')\n",
    "nearest_neighbor(n500_3,15,90,10)\n",
    "os.rename('/Users/taylorely/Documents/OceanModeling/settled_per_release_and_settledsite_n500_site.csv','/Users/taylorely/Documents/OceanModeling/settled_per_release_and_settledsite_particlesredo_n500_PLD90_settledist10_site3.csv')\n",
    "nearest_neighbor(n500_3,15,180,10)\n",
    "os.rename('/Users/taylorely/Documents/OceanModeling/settled_per_release_and_settledsite_n500_site.csv','/Users/taylorely/Documents/OceanModeling/settled_per_release_and_settledsite_particlesredo_n500_PLD180_settledist10_site3.csv')"
   ]
  },
  {
   "cell_type": "code",
   "execution_count": 9,
   "id": "eacf471e",
   "metadata": {},
   "outputs": [],
   "source": [
    "n500_4=netCDF4.Dataset('n500_4.nc')\n",
    "nearest_neighbor(n500_4,15,30,10)\n",
    "os.rename('/Users/taylorely/Documents/OceanModeling/settled_per_release_and_settledsite_n500_site.csv','/Users/taylorely/Documents/OceanModeling/settled_per_release_and_settledsite_particlesredo_n500_PLD30_settledist10_site4.csv')\n",
    "nearest_neighbor(n500_4,15,60,10)\n",
    "os.rename('/Users/taylorely/Documents/OceanModeling/settled_per_release_and_settledsite_n500_site.csv','/Users/taylorely/Documents/OceanModeling/settled_per_release_and_settledsite_particlesredo_n500_PLD60_settledist10_site4.csv')\n",
    "nearest_neighbor(n500_4,15,90,10)\n",
    "os.rename('/Users/taylorely/Documents/OceanModeling/settled_per_release_and_settledsite_n500_site.csv','/Users/taylorely/Documents/OceanModeling/settled_per_release_and_settledsite_particlesredo_n500_PLD90_settledist10_site4.csv')\n",
    "nearest_neighbor(n500_4,15,180,10)\n",
    "os.rename('/Users/taylorely/Documents/OceanModeling/settled_per_release_and_settledsite_n500_site.csv','/Users/taylorely/Documents/OceanModeling/settled_per_release_and_settledsite_particlesredo_n500_PLD180_settledist10_site4.csv')"
   ]
  },
  {
   "cell_type": "code",
   "execution_count": 10,
   "id": "9ae95fef",
   "metadata": {},
   "outputs": [],
   "source": [
    "n500_5=netCDF4.Dataset('n500_5.nc')\n",
    "nearest_neighbor(n500_5,15,30,10)\n",
    "os.rename('/Users/taylorely/Documents/OceanModeling/settled_per_release_and_settledsite_n500_site.csv','/Users/taylorely/Documents/OceanModeling/settled_per_release_and_settledsite_particlesredo_n500_PLD30_settledist10_site5.csv')\n",
    "nearest_neighbor(n500_5,15,60,10)\n",
    "os.rename('/Users/taylorely/Documents/OceanModeling/settled_per_release_and_settledsite_n500_site.csv','/Users/taylorely/Documents/OceanModeling/settled_per_release_and_settledsite_particlesredo_n500_PLD60_settledist10_site5.csv')\n",
    "nearest_neighbor(n500_5,15,90,10)\n",
    "os.rename('/Users/taylorely/Documents/OceanModeling/settled_per_release_and_settledsite_n500_site.csv','/Users/taylorely/Documents/OceanModeling/settled_per_release_and_settledsite_particlesredo_n500_PLD90_settledist10_site5.csv')\n",
    "nearest_neighbor(n500_5,15,180,10)\n",
    "os.rename('/Users/taylorely/Documents/OceanModeling/settled_per_release_and_settledsite_n500_site.csv','/Users/taylorely/Documents/OceanModeling/settled_per_release_and_settledsite_particlesredo_n500_PLD180_settledist10_site5.csv')"
   ]
  },
  {
   "cell_type": "code",
   "execution_count": 11,
   "id": "90e12eb4",
   "metadata": {},
   "outputs": [],
   "source": [
    "n500_6=netCDF4.Dataset('n500_6.nc')\n",
    "nearest_neighbor(n500_6,15,30,10)\n",
    "os.rename('/Users/taylorely/Documents/OceanModeling/settled_per_release_and_settledsite_n500_site.csv','/Users/taylorely/Documents/OceanModeling/settled_per_release_and_settledsite_particlesredo_n500_PLD30_settledist10_site6.csv')\n",
    "nearest_neighbor(n500_6,15,60,10)\n",
    "os.rename('/Users/taylorely/Documents/OceanModeling/settled_per_release_and_settledsite_n500_site.csv','/Users/taylorely/Documents/OceanModeling/settled_per_release_and_settledsite_particlesredo_n500_PLD60_settledist10_site6.csv')\n",
    "nearest_neighbor(n500_6,15,90,10)\n",
    "os.rename('/Users/taylorely/Documents/OceanModeling/settled_per_release_and_settledsite_n500_site.csv','/Users/taylorely/Documents/OceanModeling/settled_per_release_and_settledsite_particlesredo_n500_PLD90_settledist10_site6.csv')\n",
    "nearest_neighbor(n500_6,15,180,10)\n",
    "os.rename('/Users/taylorely/Documents/OceanModeling/settled_per_release_and_settledsite_n500_site.csv','/Users/taylorely/Documents/OceanModeling/settled_per_release_and_settledsite_particlesredo_n500_PLD180_settledist10_site6.csv')"
   ]
  },
  {
   "cell_type": "code",
   "execution_count": null,
   "id": "134dc46d",
   "metadata": {},
   "outputs": [],
   "source": [
    "n500_7=netCDF4.Dataset('n500_7.nc')\n",
    "nearest_neighbor(n500_7,15,30,10)\n",
    "os.rename('/Users/taylorely/Documents/OceanModeling/settled_per_release_and_settledsite_n500_site.csv','/Users/taylorely/Documents/OceanModeling/settled_per_release_and_settledsite_particlesredo_n500_PLD30_settledist10_site7.csv')\n",
    "nearest_neighbor(n500_7,15,60,10)\n",
    "os.rename('/Users/taylorely/Documents/OceanModeling/settled_per_release_and_settledsite_n500_site.csv','/Users/taylorely/Documents/OceanModeling/settled_per_release_and_settledsite_particlesredo_n500_PLD60_settledist10_site7.csv')\n",
    "nearest_neighbor(n500_7,15,90,10)\n",
    "os.rename('/Users/taylorely/Documents/OceanModeling/settled_per_release_and_settledsite_n500_site.csv','/Users/taylorely/Documents/OceanModeling/settled_per_release_and_settledsite_particlesredo_n500_PLD90_settledist10_site7.csv')\n",
    "nearest_neighbor(n500_7,15,180,10)\n",
    "os.rename('/Users/taylorely/Documents/OceanModeling/settled_per_release_and_settledsite_n500_site.csv','/Users/taylorely/Documents/OceanModeling/settled_per_release_and_settledsite_particlesredo_n500_PLD180_settledist10_site7.csv')"
   ]
  },
  {
   "cell_type": "code",
   "execution_count": 6,
   "id": "31884cf0",
   "metadata": {},
   "outputs": [],
   "source": [
    "n500_10=netCDF4.Dataset('n500_10.nc')\n",
    "nearest_neighbor(n500_10,15,30,10)\n",
    "os.rename('/Users/taylorely/Documents/OceanModeling/settled_per_release_and_settledsite_n500_site.csv','/Users/taylorely/Documents/OceanModeling/settled_per_release_and_settledsite_particlesredo_n500_PLD30_settledist10_site10.csv')\n",
    "nearest_neighbor(n500_10,15,60,10)\n",
    "os.rename('/Users/taylorely/Documents/OceanModeling/settled_per_release_and_settledsite_n500_site.csv','/Users/taylorely/Documents/OceanModeling/settled_per_release_and_settledsite_particlesredo_n500_PLD60_settledist10_site10.csv')\n",
    "nearest_neighbor(n500_10,15,90,10)\n",
    "os.rename('/Users/taylorely/Documents/OceanModeling/settled_per_release_and_settledsite_n500_site.csv','/Users/taylorely/Documents/OceanModeling/settled_per_release_and_settledsite_particlesredo_n500_PLD90_settledist10_site10.csv')\n",
    "nearest_neighbor(n500_10,15,180,10)\n",
    "os.rename('/Users/taylorely/Documents/OceanModeling/settled_per_release_and_settledsite_n500_site.csv','/Users/taylorely/Documents/OceanModeling/settled_per_release_and_settledsite_particlesredo_n500_PLD180_settledist10_site10.csv')"
   ]
  },
  {
   "cell_type": "code",
   "execution_count": 7,
   "id": "0eee55c0",
   "metadata": {},
   "outputs": [],
   "source": [
    "n500_11=netCDF4.Dataset('n500_11.nc')\n",
    "nearest_neighbor(n500_11,15,30,10)\n",
    "os.rename('/Users/taylorely/Documents/OceanModeling/settled_per_release_and_settledsite_n500_site.csv','/Users/taylorely/Documents/OceanModeling/settled_per_release_and_settledsite_particlesredo_n500_PLD30_settledist10_site11.csv')\n",
    "nearest_neighbor(n500_11,15,60,10)\n",
    "os.rename('/Users/taylorely/Documents/OceanModeling/settled_per_release_and_settledsite_n500_site.csv','/Users/taylorely/Documents/OceanModeling/settled_per_release_and_settledsite_particlesredo_n500_PLD60_settledist10_site11.csv')\n",
    "nearest_neighbor(n500_11,15,90,10)\n",
    "os.rename('/Users/taylorely/Documents/OceanModeling/settled_per_release_and_settledsite_n500_site.csv','/Users/taylorely/Documents/OceanModeling/settled_per_release_and_settledsite_particlesredo_n500_PLD90_settledist10_site11.csv')\n",
    "nearest_neighbor(n500_11,15,180,10)\n",
    "os.rename('/Users/taylorely/Documents/OceanModeling/settled_per_release_and_settledsite_n500_site.csv','/Users/taylorely/Documents/OceanModeling/settled_per_release_and_settledsite_particlesredo_n500_PLD180_settledist10_site11.csv')"
   ]
  },
  {
   "cell_type": "code",
   "execution_count": 8,
   "id": "2681af71",
   "metadata": {},
   "outputs": [],
   "source": [
    "n500_12=netCDF4.Dataset('n500_12.nc')\n",
    "nearest_neighbor(n500_12,15,30,10)\n",
    "os.rename('/Users/taylorely/Documents/OceanModeling/settled_per_release_and_settledsite_n500_site.csv','/Users/taylorely/Documents/OceanModeling/settled_per_release_and_settledsite_particlesredo_n500_PLD30_settledist10_site12.csv')\n",
    "nearest_neighbor(n500_12,15,60,10)\n",
    "os.rename('/Users/taylorely/Documents/OceanModeling/settled_per_release_and_settledsite_n500_site.csv','/Users/taylorely/Documents/OceanModeling/settled_per_release_and_settledsite_particlesredo_n500_PLD60_settledist10_site12.csv')\n",
    "nearest_neighbor(n500_12,15,90,10)\n",
    "os.rename('/Users/taylorely/Documents/OceanModeling/settled_per_release_and_settledsite_n500_site.csv','/Users/taylorely/Documents/OceanModeling/settled_per_release_and_settledsite_particlesredo_n500_PLD90_settledist10_site12.csv')\n",
    "nearest_neighbor(n500_12,15,180,10)\n",
    "os.rename('/Users/taylorely/Documents/OceanModeling/settled_per_release_and_settledsite_n500_site.csv','/Users/taylorely/Documents/OceanModeling/settled_per_release_and_settledsite_particlesredo_n500_PLD180_settledist10_site12.csv')"
   ]
  },
  {
   "cell_type": "markdown",
   "id": "71d1dd85",
   "metadata": {},
   "source": [
    "# Johanna's Depth Runs"
   ]
  },
  {
   "cell_type": "code",
   "execution_count": 10,
   "id": "b1255ac2",
   "metadata": {},
   "outputs": [],
   "source": [
    "depth0_kh0 = netCDF4.Dataset('LAPS_sensitivity_n1_pld180_0m_Kh0_nday545_daily_07012012.nc')\n",
    "nearest_neighbor(depth0_kh0, 15,30,10)\n",
    "os.rename('/Users/taylorely/Documents/OceanModeling/settled_per_release_and_settledsite_n500_site.csv','/Users/taylorely/Documents/OceanModeling/settled_per_release_and_settledsite_n1_kh0_depth0m_PLD30_settledist10_Johanna.csv')\n",
    "nearest_neighbor(depth0_kh0, 15,60,10)\n",
    "os.rename('/Users/taylorely/Documents/OceanModeling/settled_per_release_and_settledsite_n500_site.csv','/Users/taylorely/Documents/OceanModeling/settled_per_release_and_settledsite_n1_kh0_depth0m_PLD60_settledist10_Johanna.csv')\n",
    "nearest_neighbor(depth0_kh0, 15,90,10)\n",
    "os.rename('/Users/taylorely/Documents/OceanModeling/settled_per_release_and_settledsite_n500_site.csv','/Users/taylorely/Documents/OceanModeling/settled_per_release_and_settledsite_n1_kh0_depth0m_PLD90_settledist10_Johanna.csv')\n",
    "nearest_neighbor(depth0_kh0, 15,180,10)\n",
    "os.rename('/Users/taylorely/Documents/OceanModeling/settled_per_release_and_settledsite_n500_site.csv','/Users/taylorely/Documents/OceanModeling/settled_per_release_and_settledsite_n1_kh0_depth0m_PLD180_settledist10_Johanna.csv')\n",
    "del(depth0_kh0)"
   ]
  },
  {
   "cell_type": "code",
   "execution_count": 11,
   "id": "4648007d",
   "metadata": {},
   "outputs": [],
   "source": [
    "depth5_kh0 = netCDF4.Dataset('LAPS_sensitivity_n1_pld180_5m_Kh0_nday545_daily_07012012.nc')\n",
    "nearest_neighbor(depth5_kh0, 15,30,10)\n",
    "os.rename('/Users/taylorely/Documents/OceanModeling/settled_per_release_and_settledsite_n500_site.csv','/Users/taylorely/Documents/OceanModeling/settled_per_release_and_settledsite_n1_kh0_depth5m_PLD30_settledist10_Johanna.csv')\n",
    "nearest_neighbor(depth5_kh0, 15,60,10)\n",
    "os.rename('/Users/taylorely/Documents/OceanModeling/settled_per_release_and_settledsite_n500_site.csv','/Users/taylorely/Documents/OceanModeling/settled_per_release_and_settledsite_n1_kh0_depth5m_PLD60_settledist10_Johanna.csv')\n",
    "nearest_neighbor(depth5_kh0, 15,90,10)\n",
    "os.rename('/Users/taylorely/Documents/OceanModeling/settled_per_release_and_settledsite_n500_site.csv','/Users/taylorely/Documents/OceanModeling/settled_per_release_and_settledsite_n1_kh0_depth5m_PLD90_settledist10_Johanna.csv')\n",
    "nearest_neighbor(depth5_kh0, 15,180,10)\n",
    "os.rename('/Users/taylorely/Documents/OceanModeling/settled_per_release_and_settledsite_n500_site.csv','/Users/taylorely/Documents/OceanModeling/settled_per_release_and_settledsite_n1_kh0_depth5m_PLD180_settledist10_Johanna.csv')\n",
    "del(depth5_kh0)"
   ]
  },
  {
   "cell_type": "code",
   "execution_count": 12,
   "id": "506b6fac",
   "metadata": {},
   "outputs": [],
   "source": [
    "depth10_kh0 = netCDF4.Dataset('LAPS_sensitivity_n1_pld180_10m_Kh0_nday545_daily_07012012.nc')\n",
    "nearest_neighbor(depth10_kh0, 15,30,10)\n",
    "os.rename('/Users/taylorely/Documents/OceanModeling/settled_per_release_and_settledsite_n500_site.csv','/Users/taylorely/Documents/OceanModeling/settled_per_release_and_settledsite_n1_kh0_depth10m_PLD30_settledist10_Johanna.csv')\n",
    "nearest_neighbor(depth10_kh0, 15,60,10)\n",
    "os.rename('/Users/taylorely/Documents/OceanModeling/settled_per_release_and_settledsite_n500_site.csv','/Users/taylorely/Documents/OceanModeling/settled_per_release_and_settledsite_n1_kh0_depth10m_PLD60_settledist10_Johanna.csv')\n",
    "nearest_neighbor(depth10_kh0, 15,90,10)\n",
    "os.rename('/Users/taylorely/Documents/OceanModeling/settled_per_release_and_settledsite_n500_site.csv','/Users/taylorely/Documents/OceanModeling/settled_per_release_and_settledsite_n1_kh0_depth10m_PLD90_settledist10_Johanna.csv')\n",
    "nearest_neighbor(depth10_kh0, 15,180,10)\n",
    "os.rename('/Users/taylorely/Documents/OceanModeling/settled_per_release_and_settledsite_n500_site.csv','/Users/taylorely/Documents/OceanModeling/settled_per_release_and_settledsite_n1_kh0_depth10m_PLD180_settledist10_Johanna.csv')\n",
    "del(depth10_kh0)"
   ]
  },
  {
   "cell_type": "code",
   "execution_count": 13,
   "id": "d2b9131c",
   "metadata": {},
   "outputs": [],
   "source": [
    "depth20_kh0 = netCDF4.Dataset('LAPS_sensitivity_n1_pld180_20m_Kh0_nday545_daily_07012012.nc')\n",
    "nearest_neighbor(depth20_kh0, 15,30,10)\n",
    "os.rename('/Users/taylorely/Documents/OceanModeling/settled_per_release_and_settledsite_n500_site.csv','/Users/taylorely/Documents/OceanModeling/settled_per_release_and_settledsite_n1_kh0_depth20m_PLD30_settledist10_Johanna.csv')\n",
    "nearest_neighbor(depth20_kh0, 15,60,10)\n",
    "os.rename('/Users/taylorely/Documents/OceanModeling/settled_per_release_and_settledsite_n500_site.csv','/Users/taylorely/Documents/OceanModeling/settled_per_release_and_settledsite_n1_kh0_depth20m_PLD60_settledist10_Johanna.csv')\n",
    "nearest_neighbor(depth20_kh0, 15,90,10)\n",
    "os.rename('/Users/taylorely/Documents/OceanModeling/settled_per_release_and_settledsite_n500_site.csv','/Users/taylorely/Documents/OceanModeling/settled_per_release_and_settledsite_n1_kh0_depth20m_PLD90_settledist10_Johanna.csv')\n",
    "nearest_neighbor(depth20_kh0, 15,180,10)\n",
    "os.rename('/Users/taylorely/Documents/OceanModeling/settled_per_release_and_settledsite_n500_site.csv','/Users/taylorely/Documents/OceanModeling/settled_per_release_and_settledsite_n1_kh0_depth20m_PLD180_settledist10_Johanna.csv')\n",
    "del(depth20_kh0)"
   ]
  },
  {
   "cell_type": "code",
   "execution_count": 14,
   "id": "ad74bcb9",
   "metadata": {},
   "outputs": [],
   "source": [
    "depth30_kh0 = netCDF4.Dataset('LAPS_sensitivity_n1_pld180_30m_Kh0_nday545_daily_07012012.nc')\n",
    "nearest_neighbor(depth30_kh0, 15,30,10)\n",
    "os.rename('/Users/taylorely/Documents/OceanModeling/settled_per_release_and_settledsite_n500_site.csv','/Users/taylorely/Documents/OceanModeling/settled_per_release_and_settledsite_n1_kh0_depth30m_PLD30_settledist10_Johanna.csv')\n",
    "nearest_neighbor(depth30_kh0, 15,60,10)\n",
    "os.rename('/Users/taylorely/Documents/OceanModeling/settled_per_release_and_settledsite_n500_site.csv','/Users/taylorely/Documents/OceanModeling/settled_per_release_and_settledsite_n1_kh0_depth30m_PLD60_settledist10_Johanna.csv')\n",
    "nearest_neighbor(depth30_kh0, 15,90,10)\n",
    "os.rename('/Users/taylorely/Documents/OceanModeling/settled_per_release_and_settledsite_n500_site.csv','/Users/taylorely/Documents/OceanModeling/settled_per_release_and_settledsite_n1_kh0_depth30m_PLD90_settledist10_Johanna.csv')\n",
    "nearest_neighbor(depth30_kh0, 15,180,10)\n",
    "os.rename('/Users/taylorely/Documents/OceanModeling/settled_per_release_and_settledsite_n500_site.csv','/Users/taylorely/Documents/OceanModeling/settled_per_release_and_settledsite_n1_kh0_depth30m_PLD180_settledist10_Johanna.csv')\n",
    "del(depth30_kh0)"
   ]
  },
  {
   "cell_type": "code",
   "execution_count": 15,
   "id": "2f38bc34",
   "metadata": {},
   "outputs": [],
   "source": [
    "depth50_kh0 = netCDF4.Dataset('LAPS_sensitivity_n1_pld180_50m_Kh0_nday545_daily_07012012.nc')\n",
    "nearest_neighbor(depth50_kh0, 15,30,10)\n",
    "os.rename('/Users/taylorely/Documents/OceanModeling/settled_per_release_and_settledsite_n500_site.csv','/Users/taylorely/Documents/OceanModeling/settled_per_release_and_settledsite_n1_kh0_depth50m_PLD30_settledist10_Johanna.csv')\n",
    "nearest_neighbor(depth50_kh0, 15,60,10)\n",
    "os.rename('/Users/taylorely/Documents/OceanModeling/settled_per_release_and_settledsite_n500_site.csv','/Users/taylorely/Documents/OceanModeling/settled_per_release_and_settledsite_n1_kh0_depth50m_PLD60_settledist10_Johanna.csv')\n",
    "nearest_neighbor(depth50_kh0, 15,90,10)\n",
    "os.rename('/Users/taylorely/Documents/OceanModeling/settled_per_release_and_settledsite_n500_site.csv','/Users/taylorely/Documents/OceanModeling/settled_per_release_and_settledsite_n1_kh0_depth50m_PLD90_settledist10_Johanna.csv')\n",
    "nearest_neighbor(depth50_kh0, 15,180,10)\n",
    "os.rename('/Users/taylorely/Documents/OceanModeling/settled_per_release_and_settledsite_n500_site.csv','/Users/taylorely/Documents/OceanModeling/settled_per_release_and_settledsite_n1_kh0_depth50m_PLD180_settledist10_Johanna.csv')\n",
    "del(depth50_kh0)"
   ]
  },
  {
   "cell_type": "code",
   "execution_count": 16,
   "id": "07550038",
   "metadata": {},
   "outputs": [],
   "source": [
    "depth_av0_25_kh0 = netCDF4.Dataset('LAPS_sensitivity_n1_pld180_25avg_Kh0_nday545_daily_07012012.nc')\n",
    "nearest_neighbor(depth_av0_25_kh0, 15,30,10)\n",
    "os.rename('/Users/taylorely/Documents/OceanModeling/settled_per_release_and_settledsite_n500_site.csv','/Users/taylorely/Documents/OceanModeling/settled_per_release_and_settledsite_n1_kh0_depth_av0_25m_PLD30_settledist10_Johanna.csv')\n",
    "nearest_neighbor(depth_av0_25_kh0, 15,60,10)\n",
    "os.rename('/Users/taylorely/Documents/OceanModeling/settled_per_release_and_settledsite_n500_site.csv','/Users/taylorely/Documents/OceanModeling/settled_per_release_and_settledsite_n1_kh0_depth_av0_25m_PLD60_settledist10_Johanna.csv')\n",
    "nearest_neighbor(depth_av0_25_kh0, 15,90,10)\n",
    "os.rename('/Users/taylorely/Documents/OceanModeling/settled_per_release_and_settledsite_n500_site.csv','/Users/taylorely/Documents/OceanModeling/settled_per_release_and_settledsite_n1_kh0_depth_av0_25m_PLD90_settledist10_Johanna.csv')\n",
    "nearest_neighbor(depth_av0_25_kh0, 15,180,10)\n",
    "os.rename('/Users/taylorely/Documents/OceanModeling/settled_per_release_and_settledsite_n500_site.csv','/Users/taylorely/Documents/OceanModeling/settled_per_release_and_settledsite_n1_kh0_depth_av0_25m_PLD180_settledist10_Johanna.csv')\n",
    "del(depth_av0_25_kh0)"
   ]
  },
  {
   "cell_type": "code",
   "execution_count": 17,
   "id": "b4049470",
   "metadata": {},
   "outputs": [],
   "source": [
    "depth_av_0_50_kh0 = netCDF4.Dataset('LAPS_sensitivity_n1_pld180_50avg_Kh0_nday545_daily_07012012.nc')\n",
    "nearest_neighbor(depth_av_0_50_kh0, 15,30,10)\n",
    "os.rename('/Users/taylorely/Documents/OceanModeling/settled_per_release_and_settledsite_n500_site.csv','/Users/taylorely/Documents/OceanModeling/settled_per_release_and_settledsite_n1_kh0_depth_av_0_50m_PLD30_settledist10_Johanna.csv')\n",
    "nearest_neighbor(depth_av_0_50_kh0, 15,60,10)\n",
    "os.rename('/Users/taylorely/Documents/OceanModeling/settled_per_release_and_settledsite_n500_site.csv','/Users/taylorely/Documents/OceanModeling/settled_per_release_and_settledsite_n1_kh0_depth_av_0_50m_PLD60_settledist10_Johanna.csv')\n",
    "nearest_neighbor(depth_av_0_50_kh0, 15,90,10)\n",
    "os.rename('/Users/taylorely/Documents/OceanModeling/settled_per_release_and_settledsite_n500_site.csv','/Users/taylorely/Documents/OceanModeling/settled_per_release_and_settledsite_n1_kh0_depth_av_0_50m_PLD90_settledist10_Johanna.csv')\n",
    "nearest_neighbor(depth_av_0_50_kh0, 15,180,10)\n",
    "os.rename('/Users/taylorely/Documents/OceanModeling/settled_per_release_and_settledsite_n500_site.csv','/Users/taylorely/Documents/OceanModeling/settled_per_release_and_settledsite_n1_kh0_depth_av_0_50m_PLD180_settledist10_Johanna.csv')\n",
    "del(depth_av_0_50_kh0)"
   ]
  },
  {
   "cell_type": "markdown",
   "id": "720f7957",
   "metadata": {},
   "source": [
    "# Depth runs that I did"
   ]
  },
  {
   "cell_type": "code",
   "execution_count": 7,
   "id": "084bbf55",
   "metadata": {},
   "outputs": [
    {
     "ename": "KeyboardInterrupt",
     "evalue": "",
     "output_type": "error",
     "traceback": [
      "\u001b[0;31m---------------------------------------------------------------------------\u001b[0m",
      "\u001b[0;31mKeyboardInterrupt\u001b[0m                         Traceback (most recent call last)",
      "\u001b[0;32m<ipython-input-7-3888b2ec90b5>\u001b[0m in \u001b[0;36m<module>\u001b[0;34m\u001b[0m\n\u001b[1;32m      2\u001b[0m \u001b[0mnearest_neighbor\u001b[0m\u001b[0;34m(\u001b[0m\u001b[0mdepth0_kh0\u001b[0m\u001b[0;34m,\u001b[0m \u001b[0;36m15\u001b[0m\u001b[0;34m,\u001b[0m\u001b[0;36m30\u001b[0m\u001b[0;34m,\u001b[0m\u001b[0;36m10\u001b[0m\u001b[0;34m)\u001b[0m\u001b[0;34m\u001b[0m\u001b[0;34m\u001b[0m\u001b[0m\n\u001b[1;32m      3\u001b[0m \u001b[0mos\u001b[0m\u001b[0;34m.\u001b[0m\u001b[0mrename\u001b[0m\u001b[0;34m(\u001b[0m\u001b[0;34m'/Users/taylorely/Documents/OceanModeling/settled_per_release_and_settledsite_n500_site.csv'\u001b[0m\u001b[0;34m,\u001b[0m\u001b[0;34m'/Users/taylorely/Documents/OceanModeling/settled_per_release_and_settledsite_n1_kh0_depth0m_PLD30_settledist10.csv'\u001b[0m\u001b[0;34m)\u001b[0m\u001b[0;34m\u001b[0m\u001b[0;34m\u001b[0m\u001b[0m\n\u001b[0;32m----> 4\u001b[0;31m \u001b[0mnearest_neighbor\u001b[0m\u001b[0;34m(\u001b[0m\u001b[0mdepth0_kh0\u001b[0m\u001b[0;34m,\u001b[0m \u001b[0;36m15\u001b[0m\u001b[0;34m,\u001b[0m\u001b[0;36m60\u001b[0m\u001b[0;34m,\u001b[0m\u001b[0;36m10\u001b[0m\u001b[0;34m)\u001b[0m\u001b[0;34m\u001b[0m\u001b[0;34m\u001b[0m\u001b[0m\n\u001b[0m\u001b[1;32m      5\u001b[0m \u001b[0mos\u001b[0m\u001b[0;34m.\u001b[0m\u001b[0mrename\u001b[0m\u001b[0;34m(\u001b[0m\u001b[0;34m'/Users/taylorely/Documents/OceanModeling/settled_per_release_and_settledsite_n500_site.csv'\u001b[0m\u001b[0;34m,\u001b[0m\u001b[0;34m'/Users/taylorely/Documents/OceanModeling/settled_per_release_and_settledsite_n1_kh0_depth0m_PLD60_settledist10.csv'\u001b[0m\u001b[0;34m)\u001b[0m\u001b[0;34m\u001b[0m\u001b[0;34m\u001b[0m\u001b[0m\n\u001b[1;32m      6\u001b[0m \u001b[0mnearest_neighbor\u001b[0m\u001b[0;34m(\u001b[0m\u001b[0mdepth0_kh0\u001b[0m\u001b[0;34m,\u001b[0m \u001b[0;36m15\u001b[0m\u001b[0;34m,\u001b[0m\u001b[0;36m90\u001b[0m\u001b[0;34m,\u001b[0m\u001b[0;36m10\u001b[0m\u001b[0;34m)\u001b[0m\u001b[0;34m\u001b[0m\u001b[0;34m\u001b[0m\u001b[0m\n",
      "\u001b[0;32m<ipython-input-6-a27b3feb17d8>\u001b[0m in \u001b[0;36mnearest_neighbor\u001b[0;34m(model_data, presettlement, PLD, settle_dist)\u001b[0m\n\u001b[1;32m     62\u001b[0m \u001b[0;34m\u001b[0m\u001b[0m\n\u001b[1;32m     63\u001b[0m     \u001b[0;31m# NOW, actually start search for nearest neighbor\u001b[0m\u001b[0;34m\u001b[0m\u001b[0;34m\u001b[0m\u001b[0;34m\u001b[0m\u001b[0m\n\u001b[0;32m---> 64\u001b[0;31m     \u001b[0mdistances\u001b[0m\u001b[0;34m,\u001b[0m \u001b[0mindices\u001b[0m \u001b[0;34m=\u001b[0m \u001b[0mball\u001b[0m\u001b[0;34m.\u001b[0m\u001b[0mquery\u001b[0m\u001b[0;34m(\u001b[0m\u001b[0mcoord\u001b[0m\u001b[0;34m[\u001b[0m\u001b[0;34m[\u001b[0m\u001b[0;34m\"lat\"\u001b[0m\u001b[0;34m,\u001b[0m \u001b[0;34m\"lon\"\u001b[0m\u001b[0;34m]\u001b[0m\u001b[0;34m]\u001b[0m\u001b[0;34m.\u001b[0m\u001b[0mvalues\u001b[0m\u001b[0;34m,\u001b[0m \u001b[0mk\u001b[0m \u001b[0;34m=\u001b[0m \u001b[0;36m1\u001b[0m\u001b[0;34m)\u001b[0m\u001b[0;34m\u001b[0m\u001b[0;34m\u001b[0m\u001b[0m\n\u001b[0m\u001b[1;32m     65\u001b[0m \u001b[0;34m\u001b[0m\u001b[0m\n\u001b[1;32m     66\u001b[0m     \u001b[0;31m# add data to dataframe\u001b[0m\u001b[0;34m\u001b[0m\u001b[0;34m\u001b[0m\u001b[0;34m\u001b[0m\u001b[0m\n",
      "\u001b[0;31mKeyboardInterrupt\u001b[0m: "
     ]
    }
   ],
   "source": [
    "depth0_kh0 = netCDF4.Dataset('LAPS_sensitivity_n1_pld180_0m_Kh0_nday545_daily_07012012.nc')\n",
    "nearest_neighbor(depth0_kh0, 15,30,10)\n",
    "os.rename('/Users/taylorely/Documents/OceanModeling/settled_per_release_and_settledsite_n500_site.csv','/Users/taylorely/Documents/OceanModeling/settled_per_release_and_settledsite_n1_kh0_depth0m_PLD30_settledist10.csv')\n",
    "nearest_neighbor(depth0_kh0, 15,60,10)\n",
    "os.rename('/Users/taylorely/Documents/OceanModeling/settled_per_release_and_settledsite_n500_site.csv','/Users/taylorely/Documents/OceanModeling/settled_per_release_and_settledsite_n1_kh0_depth0m_PLD60_settledist10.csv')\n",
    "nearest_neighbor(depth0_kh0, 15,90,10)\n",
    "os.rename('/Users/taylorely/Documents/OceanModeling/settled_per_release_and_settledsite_n500_site.csv','/Users/taylorely/Documents/OceanModeling/settled_per_release_and_settledsite_n1_kh0_depth0m_PLD90_settledist10.csv')\n",
    "nearest_neighbor(depth0_kh0, 15,180,10)\n",
    "os.rename('/Users/taylorely/Documents/OceanModeling/settled_per_release_and_settledsite_n500_site.csv','/Users/taylorely/Documents/OceanModeling/settled_per_release_and_settledsite_n1_kh0_depth0m_PLD180_settledist10.csv')\n",
    "del(depth0_kh0)"
   ]
  },
  {
   "cell_type": "code",
   "execution_count": 7,
   "id": "0bcc5f59",
   "metadata": {},
   "outputs": [],
   "source": [
    "depth5_kh0 = netCDF4.Dataset('LAPS_sensitivity_n1_pld180_5m_Kh0_nday545_daily_07012012.nc')\n",
    "nearest_neighbor(depth5_kh0, 15,30,10)\n",
    "os.rename('/Users/taylorely/Documents/OceanModeling/settled_per_release_and_settledsite_n500_site.csv','/Users/taylorely/Documents/OceanModeling/settled_per_release_and_settledsite_n1_kh0_depth5m_PLD30_settledist10.csv')\n",
    "nearest_neighbor(depth5_kh0, 15,60,10)\n",
    "os.rename('/Users/taylorely/Documents/OceanModeling/settled_per_release_and_settledsite_n500_site.csv','/Users/taylorely/Documents/OceanModeling/settled_per_release_and_settledsite_n1_kh0_depth5m_PLD60_settledist10.csv')\n",
    "nearest_neighbor(depth5_kh0, 15,90,10)\n",
    "os.rename('/Users/taylorely/Documents/OceanModeling/settled_per_release_and_settledsite_n500_site.csv','/Users/taylorely/Documents/OceanModeling/settled_per_release_and_settledsite_n1_kh0_depth5m_PLD90_settledist10.csv')\n",
    "nearest_neighbor(depth5_kh0, 15,180,10)\n",
    "os.rename('/Users/taylorely/Documents/OceanModeling/settled_per_release_and_settledsite_n500_site.csv','/Users/taylorely/Documents/OceanModeling/settled_per_release_and_settledsite_n1_kh0_depth5m_PLD180_settledist10.csv')\n",
    "del(depth5_kh0)"
   ]
  },
  {
   "cell_type": "code",
   "execution_count": 11,
   "id": "7c61a941",
   "metadata": {},
   "outputs": [
    {
     "ename": "NameError",
     "evalue": "name 'depth5_kh0' is not defined",
     "output_type": "error",
     "traceback": [
      "\u001b[0;31m---------------------------------------------------------------------------\u001b[0m",
      "\u001b[0;31mNameError\u001b[0m                                 Traceback (most recent call last)",
      "\u001b[0;32m<ipython-input-11-a55498338502>\u001b[0m in \u001b[0;36m<module>\u001b[0;34m\u001b[0m\n\u001b[1;32m      8\u001b[0m \u001b[0mnearest_neighbor\u001b[0m\u001b[0;34m(\u001b[0m\u001b[0mdepth10_kh0\u001b[0m\u001b[0;34m,\u001b[0m \u001b[0;36m15\u001b[0m\u001b[0;34m,\u001b[0m\u001b[0;36m180\u001b[0m\u001b[0;34m,\u001b[0m\u001b[0;36m10\u001b[0m\u001b[0;34m)\u001b[0m\u001b[0;34m\u001b[0m\u001b[0;34m\u001b[0m\u001b[0m\n\u001b[1;32m      9\u001b[0m \u001b[0mos\u001b[0m\u001b[0;34m.\u001b[0m\u001b[0mrename\u001b[0m\u001b[0;34m(\u001b[0m\u001b[0;34m'/Users/taylorely/Documents/OceanModeling/settled_per_release_and_settledsite_n500_site.csv'\u001b[0m\u001b[0;34m,\u001b[0m\u001b[0;34m'/Users/taylorely/Documents/OceanModeling/settled_per_release_and_settledsite_n1_kh0_depth10m_PLD180_settledist10.csv'\u001b[0m\u001b[0;34m)\u001b[0m\u001b[0;34m\u001b[0m\u001b[0;34m\u001b[0m\u001b[0m\n\u001b[0;32m---> 10\u001b[0;31m \u001b[0;32mdel\u001b[0m\u001b[0;34m(\u001b[0m\u001b[0mdepth5_kh0\u001b[0m\u001b[0;34m)\u001b[0m\u001b[0;34m\u001b[0m\u001b[0;34m\u001b[0m\u001b[0m\n\u001b[0m",
      "\u001b[0;31mNameError\u001b[0m: name 'depth5_kh0' is not defined"
     ]
    }
   ],
   "source": [
    "depth10_kh0 = netCDF4.Dataset('LAPS_sensitivity_n1_pld180_10m_Kh0_nday545_daily_07012012.nc')\n",
    "nearest_neighbor(depth10_kh0, 15,30,10)\n",
    "os.rename('/Users/taylorely/Documents/OceanModeling/settled_per_release_and_settledsite_n500_site.csv','/Users/taylorely/Documents/OceanModeling/settled_per_release_and_settledsite_n1_kh0_depth10m_PLD30_settledist10.csv')\n",
    "nearest_neighbor(depth10_kh0, 15,60,10)\n",
    "os.rename('/Users/taylorely/Documents/OceanModeling/settled_per_release_and_settledsite_n500_site.csv','/Users/taylorely/Documents/OceanModeling/settled_per_release_and_settledsite_n1_kh0_depth10m_PLD60_settledist10.csv')\n",
    "nearest_neighbor(depth10_kh0, 15,90,10)\n",
    "os.rename('/Users/taylorely/Documents/OceanModeling/settled_per_release_and_settledsite_n500_site.csv','/Users/taylorely/Documents/OceanModeling/settled_per_release_and_settledsite_n1_kh0_depth10m_PLD90_settledist10.csv')\n",
    "nearest_neighbor(depth10_kh0, 15,180,10)\n",
    "os.rename('/Users/taylorely/Documents/OceanModeling/settled_per_release_and_settledsite_n500_site.csv','/Users/taylorely/Documents/OceanModeling/settled_per_release_and_settledsite_n1_kh0_depth10m_PLD180_settledist10.csv')\n",
    "del(depth10_kh0)"
   ]
  },
  {
   "cell_type": "code",
   "execution_count": 8,
   "id": "155a2906",
   "metadata": {},
   "outputs": [],
   "source": [
    "depth25_kh0 = netCDF4.Dataset('LAPS_sensitivity_n1_pld180_25m_Kh0_nday545_daily_07012012.nc')\n",
    "nearest_neighbor(depth25_kh0, 15,30,10)\n",
    "os.rename('/Users/taylorely/Documents/OceanModeling/settled_per_release_and_settledsite_n500_site.csv','/Users/taylorely/Documents/OceanModeling/settled_per_release_and_settledsite_n1_kh0_depth25m_PLD30_settledist10.csv')\n",
    "nearest_neighbor(depth25_kh0, 15,60,10)\n",
    "os.rename('/Users/taylorely/Documents/OceanModeling/settled_per_release_and_settledsite_n500_site.csv','/Users/taylorely/Documents/OceanModeling/settled_per_release_and_settledsite_n1_kh0_depth25m_PLD60_settledist10.csv')\n",
    "nearest_neighbor(depth25_kh0, 15,90,10)\n",
    "os.rename('/Users/taylorely/Documents/OceanModeling/settled_per_release_and_settledsite_n500_site.csv','/Users/taylorely/Documents/OceanModeling/settled_per_release_and_settledsite_n1_kh0_depth25m_PLD90_settledist10.csv')\n",
    "nearest_neighbor(depth25_kh0, 15,180,10)\n",
    "os.rename('/Users/taylorely/Documents/OceanModeling/settled_per_release_and_settledsite_n500_site.csv','/Users/taylorely/Documents/OceanModeling/settled_per_release_and_settledsite_n1_kh0_depth25m_PLD180_settledist10.csv')\n",
    "del(depth25_kh0)"
   ]
  },
  {
   "cell_type": "code",
   "execution_count": null,
   "id": "7a4a6313",
   "metadata": {},
   "outputs": [],
   "source": [
    "depth25_kh10 = netCDF4.Dataset('LAPS_sensitivity_n250_pld180_25m_Kh10_nday545_daily_07012012.nc')\n",
    "nearest_neighbor(depth25_kh10, 15,30,10)\n",
    "os.rename('/Users/taylorely/Documents/OceanModeling/settled_per_release_and_settledsite_n500_site.csv','/Users/taylorely/Documents/OceanModeling/settled_per_release_and_settledsite_n250_kh10_depth25m_PLD30_settledist10.csv')\n",
    "nearest_neighbor(depth25_kh10, 15,60,10)\n",
    "os.rename('/Users/taylorely/Documents/OceanModeling/settled_per_release_and_settledsite_n500_site.csv','/Users/taylorely/Documents/OceanModeling/settled_per_release_and_settledsite_n250_kh10_depth25m_PLD60_settledist10.csv')\n",
    "nearest_neighbor(depth25_kh10, 15,90,10)\n",
    "os.rename('/Users/taylorely/Documents/OceanModeling/settled_per_release_and_settledsite_n500_site.csv','/Users/taylorely/Documents/OceanModeling/settled_per_release_and_settledsite_n250_kh10_depth25m_PLD90_settledist10.csv')"
   ]
  },
  {
   "cell_type": "code",
   "execution_count": 7,
   "id": "fd32f4be",
   "metadata": {},
   "outputs": [
    {
     "name": "stdout",
     "output_type": "stream",
     "text": [
      "(3751500, 181)\n"
     ]
    }
   ],
   "source": [
    "depth25_kh10 = netCDF4.Dataset('LAPS_sensitivity_n250_pld180_25m_Kh10_nday545_daily_07012012.nc')\n",
    "lon25 = depth25_kh10.variables['lon'][:]\n",
    "print(lon25.shape)"
   ]
  },
  {
   "cell_type": "code",
   "execution_count": 8,
   "id": "a02051c8",
   "metadata": {},
   "outputs": [],
   "source": [
    "nearest_neighbor_divided(depth25_kh10,0,1875750, 15, 180, 10)\n",
    "os.rename('/Users/taylorely/Documents/OceanModeling/settled_per_release_and_settledsite_n500_site.csv','/Users/taylorely/Documents/OceanModeling/settled_per_release_and_settledsite_n250_depth25m_kh10_PLD180_part1_settledist10.csv')\n"
   ]
  },
  {
   "cell_type": "code",
   "execution_count": 9,
   "id": "f8a5abba",
   "metadata": {},
   "outputs": [],
   "source": [
    "nearest_neighbor_divided(depth25_kh10,1875750,3751500, 15, 180, 10)\n",
    "os.rename('/Users/taylorely/Documents/OceanModeling/settled_per_release_and_settledsite_n500_site.csv','/Users/taylorely/Documents/OceanModeling/settled_per_release_and_settledsite_n250_depth25m_kh10_PLD180_part2_settledist10.csv')"
   ]
  },
  {
   "cell_type": "code",
   "execution_count": 10,
   "id": "dac4b896",
   "metadata": {},
   "outputs": [],
   "source": [
    "depth251 = pd.read_csv('settled_per_release_and_settledsite_n250_depth25m_kh10_PLD180_part1_settledist10.csv', sep = '\\t')\n",
    "depth252 = pd.read_csv('settled_per_release_and_settledsite_n250_depth25m_kh10_PLD180_part2_settledist10.csv', sep = '\\t')\n",
    "merge_sites = pd.concat([depth251,depth252])\n",
    "merge_sites.to_csv('/Users/taylorely/Documents/OceanModeling/settled_per_release_and_settledsite_n250_depth25m_kh10_PLD180_settledist10.csv', sep='\\t')"
   ]
  },
  {
   "cell_type": "code",
   "execution_count": 47,
   "id": "9a8d23d0",
   "metadata": {},
   "outputs": [],
   "source": [
    "depth0_kh10 = netCDF4.Dataset('LAPS_sensitivity_n250_pld180_0m_Kh10_nday545_daily_07012012.nc')\n",
    "nearest_neighbor(depth0_kh10,15,30,10)\n",
    "os.rename('/Users/taylorely/Documents/OceanModeling/settled_per_release_and_settledsite_n500_site.csv','/Users/taylorely/Documents/OceanModeling/settled_per_release_and_settledsite_n250_kh10_depth0m_PLD30_settledist10.csv')\n",
    "nearest_neighbor(depth0_kh10,15,60,10)\n",
    "os.rename('/Users/taylorely/Documents/OceanModeling/settled_per_release_and_settledsite_n500_site.csv','/Users/taylorely/Documents/OceanModeling/settled_per_release_and_settledsite_n250_kh10_depth0m_PLD60_settledist10.csv')\n",
    "nearest_neighbor(depth0_kh10,15,90,10)\n",
    "os.rename('/Users/taylorely/Documents/OceanModeling/settled_per_release_and_settledsite_n500_site.csv','/Users/taylorely/Documents/OceanModeling/settled_per_release_and_settledsite_n250_kh10_depth0m_PLD90_settledist10.csv')"
   ]
  },
  {
   "cell_type": "code",
   "execution_count": 8,
   "id": "d1755bb3",
   "metadata": {},
   "outputs": [],
   "source": [
    "nearest_neighbor_divided(depth0_kh10,0,1875750, 15, 180, 10)\n",
    "os.rename('/Users/taylorely/Documents/OceanModeling/settled_per_release_and_settledsite_n500_site.csv','/Users/taylorely/Documents/OceanModeling/settled_per_release_and_settledsite_n250_depth0m_kh10_PLD180_part1_settledist10.csv')\n"
   ]
  },
  {
   "cell_type": "code",
   "execution_count": 8,
   "id": "e403f7b0",
   "metadata": {},
   "outputs": [],
   "source": [
    "depth0_kh10 = netCDF4.Dataset('LAPS_sensitivity_n250_pld180_0m_Kh10_nday545_daily_07012012.nc')\n",
    "nearest_neighbor_divided(depth0_kh10,1875750,3751500, 15, 180, 10)\n",
    "os.rename('/Users/taylorely/Documents/OceanModeling/settled_per_release_and_settledsite_n500_site.csv','/Users/taylorely/Documents/OceanModeling/settled_per_release_and_settledsite_n250_depth0m_kh10_PLD180_part2_settledist10.csv')"
   ]
  },
  {
   "cell_type": "code",
   "execution_count": 9,
   "id": "f9f51e13",
   "metadata": {},
   "outputs": [],
   "source": [
    "depth01 = pd.read_csv('settled_per_release_and_settledsite_n250_depth0m_kh10_PLD180_part1_settledist10.csv', sep = '\\t')\n",
    "depth02 = pd.read_csv('settled_per_release_and_settledsite_n250_depth0m_kh10_PLD180_part2_settledist10.csv', sep = '\\t')\n",
    "merge_sites = pd.concat([depth01,depth02])\n",
    "merge_sites.to_csv('/Users/taylorely/Documents/OceanModeling/settled_per_release_and_settledsite_n250_depth0m_kh10_PLD180_settledist10.csv', sep='\\t')"
   ]
  },
  {
   "cell_type": "code",
   "execution_count": 10,
   "id": "064cbf2e",
   "metadata": {},
   "outputs": [],
   "source": [
    "depth15_kh0 = netCDF4.Dataset('LAPS_sensitivity_n1_pld180_15m_Kh0_nday545_daily_07012012.nc')\n",
    "nearest_neighbor(depth15_kh0, 15,30,10)\n",
    "os.rename('/Users/taylorely/Documents/OceanModeling/settled_per_release_and_settledsite_n500_site.csv','/Users/taylorely/Documents/OceanModeling/settled_per_release_and_settledsite_n1_kh0_depth15m_PLD30_settledist10.csv')\n",
    "nearest_neighbor(depth15_kh0, 15,60,10)\n",
    "os.rename('/Users/taylorely/Documents/OceanModeling/settled_per_release_and_settledsite_n500_site.csv','/Users/taylorely/Documents/OceanModeling/settled_per_release_and_settledsite_n1_kh0_depth15m_PLD60_settledist10.csv')\n",
    "nearest_neighbor(depth15_kh0, 15,90,10)\n",
    "os.rename('/Users/taylorely/Documents/OceanModeling/settled_per_release_and_settledsite_n500_site.csv','/Users/taylorely/Documents/OceanModeling/settled_per_release_and_settledsite_n1_kh0_depth15m_PLD90_settledist10.csv')\n",
    "nearest_neighbor(depth15_kh0, 15,180,10)\n",
    "os.rename('/Users/taylorely/Documents/OceanModeling/settled_per_release_and_settledsite_n500_site.csv','/Users/taylorely/Documents/OceanModeling/settled_per_release_and_settledsite_n1_kh0_depth15m_PLD180_settledist10.csv')\n",
    "del(depth15_kh0)"
   ]
  },
  {
   "cell_type": "code",
   "execution_count": 8,
   "id": "2720754c",
   "metadata": {},
   "outputs": [
    {
     "name": "stdout",
     "output_type": "stream",
     "text": [
      "(3751500, 181)\n"
     ]
    }
   ],
   "source": [
    "depth15_kh10 = netCDF4.Dataset('LAPS_sensitivity_n250_pld180_15m_Kh10_nday545_daily_07012012.nc')\n",
    "lon15 = depth15_kh10.variables['lon'][:]\n",
    "print(lon15.shape)"
   ]
  },
  {
   "cell_type": "code",
   "execution_count": 8,
   "id": "b1535437",
   "metadata": {},
   "outputs": [
    {
     "ename": "KeyboardInterrupt",
     "evalue": "",
     "output_type": "error",
     "traceback": [
      "\u001b[0;31m---------------------------------------------------------------------------\u001b[0m",
      "\u001b[0;31mKeyboardInterrupt\u001b[0m                         Traceback (most recent call last)",
      "\u001b[0;32m<ipython-input-8-4c478ff7f1dc>\u001b[0m in \u001b[0;36m<module>\u001b[0;34m\u001b[0m\n\u001b[0;32m----> 1\u001b[0;31m \u001b[0mnearest_neighbor\u001b[0m\u001b[0;34m(\u001b[0m\u001b[0mdepth15_kh10\u001b[0m\u001b[0;34m,\u001b[0m\u001b[0;36m15\u001b[0m\u001b[0;34m,\u001b[0m\u001b[0;36m30\u001b[0m\u001b[0;34m,\u001b[0m\u001b[0;36m10\u001b[0m\u001b[0;34m)\u001b[0m\u001b[0;34m\u001b[0m\u001b[0;34m\u001b[0m\u001b[0m\n\u001b[0m\u001b[1;32m      2\u001b[0m \u001b[0mos\u001b[0m\u001b[0;34m.\u001b[0m\u001b[0mrename\u001b[0m\u001b[0;34m(\u001b[0m\u001b[0;34m'/Users/taylorely/Documents/OceanModeling/settled_per_release_and_settledsite_n500_site.csv'\u001b[0m\u001b[0;34m,\u001b[0m\u001b[0;34m'/Users/taylorely/Documents/OceanModeling/settled_per_release_and_settledsite_n250_kh10_depth15m_PLD30_settledist10.csv'\u001b[0m\u001b[0;34m)\u001b[0m\u001b[0;34m\u001b[0m\u001b[0;34m\u001b[0m\u001b[0m\n",
      "\u001b[0;32m<ipython-input-5-a27b3feb17d8>\u001b[0m in \u001b[0;36mnearest_neighbor\u001b[0;34m(model_data, presettlement, PLD, settle_dist)\u001b[0m\n\u001b[1;32m      4\u001b[0m     \u001b[0mlat\u001b[0m \u001b[0;34m=\u001b[0m \u001b[0mmodel_data\u001b[0m\u001b[0;34m.\u001b[0m\u001b[0mvariables\u001b[0m\u001b[0;34m[\u001b[0m\u001b[0;34m'lat'\u001b[0m\u001b[0;34m]\u001b[0m\u001b[0;34m[\u001b[0m\u001b[0;34m:\u001b[0m\u001b[0;34m]\u001b[0m\u001b[0;34m\u001b[0m\u001b[0;34m\u001b[0m\u001b[0m\n\u001b[1;32m      5\u001b[0m     \u001b[0mage\u001b[0m\u001b[0;34m=\u001b[0m \u001b[0mmodel_data\u001b[0m\u001b[0;34m.\u001b[0m\u001b[0mvariables\u001b[0m\u001b[0;34m[\u001b[0m\u001b[0;34m'age'\u001b[0m\u001b[0;34m]\u001b[0m\u001b[0;34m[\u001b[0m\u001b[0;34m:\u001b[0m\u001b[0;34m]\u001b[0m\u001b[0;34m\u001b[0m\u001b[0;34m\u001b[0m\u001b[0m\n\u001b[0;32m----> 6\u001b[0;31m     \u001b[0msite\u001b[0m \u001b[0;34m=\u001b[0m \u001b[0mmodel_data\u001b[0m\u001b[0;34m.\u001b[0m\u001b[0mvariables\u001b[0m\u001b[0;34m[\u001b[0m\u001b[0;34m'releaseSite'\u001b[0m\u001b[0;34m]\u001b[0m\u001b[0;34m[\u001b[0m\u001b[0;34m:\u001b[0m\u001b[0;34m]\u001b[0m\u001b[0;34m\u001b[0m\u001b[0;34m\u001b[0m\u001b[0m\n\u001b[0m\u001b[1;32m      7\u001b[0m     \u001b[0mtrajectory\u001b[0m \u001b[0;34m=\u001b[0m \u001b[0mmodel_data\u001b[0m\u001b[0;34m.\u001b[0m\u001b[0mvariables\u001b[0m\u001b[0;34m[\u001b[0m\u001b[0;34m'trajectory'\u001b[0m\u001b[0;34m]\u001b[0m\u001b[0;34m[\u001b[0m\u001b[0;34m:\u001b[0m\u001b[0;34m]\u001b[0m\u001b[0;34m\u001b[0m\u001b[0;34m\u001b[0m\u001b[0m\n\u001b[1;32m      8\u001b[0m \u001b[0;34m\u001b[0m\u001b[0m\n",
      "\u001b[0;32msrc/netCDF4/_netCDF4.pyx\u001b[0m in \u001b[0;36mnetCDF4._netCDF4.Variable.__getitem__\u001b[0;34m()\u001b[0m\n",
      "\u001b[0;32msrc/netCDF4/_netCDF4.pyx\u001b[0m in \u001b[0;36mnetCDF4._netCDF4.Variable._toma\u001b[0;34m()\u001b[0m\n",
      "\u001b[0;32m~/opt/miniconda3/envs/py3_parcels/lib/python3.7/site-packages/numpy/core/_methods.py\u001b[0m in \u001b[0;36m_any\u001b[0;34m(a, axis, dtype, out, keepdims, where)\u001b[0m\n\u001b[1;32m     52\u001b[0m     \u001b[0;32mreturn\u001b[0m \u001b[0mumr_prod\u001b[0m\u001b[0;34m(\u001b[0m\u001b[0ma\u001b[0m\u001b[0;34m,\u001b[0m \u001b[0maxis\u001b[0m\u001b[0;34m,\u001b[0m \u001b[0mdtype\u001b[0m\u001b[0;34m,\u001b[0m \u001b[0mout\u001b[0m\u001b[0;34m,\u001b[0m \u001b[0mkeepdims\u001b[0m\u001b[0;34m,\u001b[0m \u001b[0minitial\u001b[0m\u001b[0;34m,\u001b[0m \u001b[0mwhere\u001b[0m\u001b[0;34m)\u001b[0m\u001b[0;34m\u001b[0m\u001b[0;34m\u001b[0m\u001b[0m\n\u001b[1;32m     53\u001b[0m \u001b[0;34m\u001b[0m\u001b[0m\n\u001b[0;32m---> 54\u001b[0;31m \u001b[0;32mdef\u001b[0m \u001b[0m_any\u001b[0m\u001b[0;34m(\u001b[0m\u001b[0ma\u001b[0m\u001b[0;34m,\u001b[0m \u001b[0maxis\u001b[0m\u001b[0;34m=\u001b[0m\u001b[0;32mNone\u001b[0m\u001b[0;34m,\u001b[0m \u001b[0mdtype\u001b[0m\u001b[0;34m=\u001b[0m\u001b[0;32mNone\u001b[0m\u001b[0;34m,\u001b[0m \u001b[0mout\u001b[0m\u001b[0;34m=\u001b[0m\u001b[0;32mNone\u001b[0m\u001b[0;34m,\u001b[0m \u001b[0mkeepdims\u001b[0m\u001b[0;34m=\u001b[0m\u001b[0;32mFalse\u001b[0m\u001b[0;34m,\u001b[0m \u001b[0;34m*\u001b[0m\u001b[0;34m,\u001b[0m \u001b[0mwhere\u001b[0m\u001b[0;34m=\u001b[0m\u001b[0;32mTrue\u001b[0m\u001b[0;34m)\u001b[0m\u001b[0;34m:\u001b[0m\u001b[0;34m\u001b[0m\u001b[0;34m\u001b[0m\u001b[0m\n\u001b[0m\u001b[1;32m     55\u001b[0m     \u001b[0;31m# Parsing keyword arguments is currently fairly slow, so avoid it for now\u001b[0m\u001b[0;34m\u001b[0m\u001b[0;34m\u001b[0m\u001b[0;34m\u001b[0m\u001b[0m\n\u001b[1;32m     56\u001b[0m     \u001b[0;32mif\u001b[0m \u001b[0mwhere\u001b[0m \u001b[0;32mis\u001b[0m \u001b[0;32mTrue\u001b[0m\u001b[0;34m:\u001b[0m\u001b[0;34m\u001b[0m\u001b[0;34m\u001b[0m\u001b[0m\n",
      "\u001b[0;31mKeyboardInterrupt\u001b[0m: "
     ]
    }
   ],
   "source": [
    "nearest_neighbor(depth15_kh10,15,30,10)\n",
    "os.rename('/Users/taylorely/Documents/OceanModeling/settled_per_release_and_settledsite_n500_site.csv','/Users/taylorely/Documents/OceanModeling/settled_per_release_and_settledsite_n250_kh10_depth15m_PLD30_settledist10.csv')"
   ]
  },
  {
   "cell_type": "code",
   "execution_count": null,
   "id": "09abaab5",
   "metadata": {},
   "outputs": [],
   "source": [
    "nearest_neighbor(depth15_kh10,15,60,10)\n",
    "os.rename('/Users/taylorely/Documents/OceanModeling/settled_per_release_and_settledsite_n500_site.csv','/Users/taylorely/Documents/OceanModeling/settled_per_release_and_settledsite_n250_kh10_depth15m_PLD60_settledist10.csv')"
   ]
  },
  {
   "cell_type": "code",
   "execution_count": null,
   "id": "2e1ea841",
   "metadata": {},
   "outputs": [],
   "source": [
    "nearest_neighbor(depth15_kh10,15,90,10)\n",
    "os.rename('/Users/taylorely/Documents/OceanModeling/settled_per_release_and_settledsite_n500_site.csv','/Users/taylorely/Documents/OceanModeling/settled_per_release_and_settledsite_n250_kh10_depth15m_PLD90_settledist10.csv')"
   ]
  },
  {
   "cell_type": "code",
   "execution_count": null,
   "id": "66cfff45",
   "metadata": {},
   "outputs": [],
   "source": [
    "nearest_neighbor_divided(depth15_kh10,0,1875750, 15, 180, 10)\n",
    "os.rename('/Users/taylorely/Documents/OceanModeling/settled_per_release_and_settledsite_n500_site.csv','/Users/taylorely/Documents/OceanModeling/settled_per_release_and_settledsite_n250_depth15m_kh10_PLD180_part1_settledist10.csv')\n"
   ]
  },
  {
   "cell_type": "code",
   "execution_count": null,
   "id": "efaf532a",
   "metadata": {},
   "outputs": [],
   "source": [
    "nearest_neighbor_divided(depth15_kh10,1875750,3751500, 15, 180, 10)\n",
    "os.rename('/Users/taylorely/Documents/OceanModeling/settled_per_release_and_settledsite_n500_site.csv','/Users/taylorely/Documents/OceanModeling/settled_per_release_and_settledsite_n250_depth15m_kh10_PLD180_part2_settledist10.csv')"
   ]
  },
  {
   "cell_type": "code",
   "execution_count": null,
   "id": "b81fea8d",
   "metadata": {},
   "outputs": [],
   "source": [
    "depth151 = pd.read_csv('settled_per_release_and_settledsite_n250_depth15m_kh10_PLD180_part1_settledist10.csv', sep = '\\t')\n",
    "depth152 = pd.read_csv('settled_per_release_and_settledsite_n250_depth15m_kh10_PLD180_part2_settledist10.csv', sep = '\\t')\n",
    "merge_sites = pd.concat([depth151,depth152])\n",
    "merge_sites.to_csv('/Users/taylorely/Documents/OceanModeling/settled_per_release_and_settledsite_n250_depth15m_kh10_PLD180_settledist10.csv', sep='\\t')"
   ]
  },
  {
   "cell_type": "markdown",
   "id": "d19cb5ca",
   "metadata": {},
   "source": [
    "# Number Particles Released"
   ]
  },
  {
   "cell_type": "code",
   "execution_count": 6,
   "id": "bdb53d26",
   "metadata": {},
   "outputs": [],
   "source": [
    "n100 = netCDF4.Dataset('LAPS_sensitivity_n100_pld180_5m_Kh10_nday545_daily_07012012.nc')\n",
    "nearest_neighbor(n100, 15,30,10)\n",
    "#os.rename('/Users/taylorely/Documents/OceanModeling/nearest_island_and_settled_n500_site.csv', '/Users/taylorely/Documents/OceanModeling/nearest_island_and_settled_n100.csv')\n",
    "#os.rename('/Users/taylorely/Documents/OceanModeling/settled_per__release_site_n500_site.csv','/Users/taylorely/Documents/OceanModeling/settled_per__release_site_n100.csv')\n",
    "#os.rename('/Users/taylorely/Documents/OceanModeling/settled_per_settled_site_n500_site.csv','/Users/taylorely/Documents/OceanModeling/settled_per_settled_site_n100.csv')\n",
    "os.rename('/Users/taylorely/Documents/OceanModeling/settled_per_release_and_settledsite_n500_site.csv','/Users/taylorely/Documents/OceanModeling/settled_per_release_and_settledsite_n100_PLD30_settledist10.csv')\n",
    "#os.rename(\"/Users/taylorely/Documents/OceanModeling/settlement_n500_site.png\",\"/Users/taylorely/Documents/OceanModeling/settlement_n100.png\")\n",
    "#os.rename(\"/Users/taylorely/Documents/OceanModeling/settlement_subplot_n500_site.png\",\"/Users/taylorely/Documents/OceanModeling/settlement_subplot_n100.png\")"
   ]
  },
  {
   "cell_type": "code",
   "execution_count": null,
   "id": "fa4e4a83",
   "metadata": {},
   "outputs": [],
   "source": [
    "nearest_neighbor(n100, 15,60,10)\n",
    "os.rename('/Users/taylorely/Documents/OceanModeling/settled_per_release_and_settledsite_n500_site.csv','/Users/taylorely/Documents/OceanModeling/settled_per_release_and_settledsite_n100_PLD60_settledist10.csv')"
   ]
  },
  {
   "cell_type": "code",
   "execution_count": null,
   "id": "1d130a54",
   "metadata": {},
   "outputs": [],
   "source": [
    "nearest_neighbor(n100, 15,90,10)\n",
    "os.rename('/Users/taylorely/Documents/OceanModeling/settled_per_release_and_settledsite_n500_site.csv','/Users/taylorely/Documents/OceanModeling/settled_per_release_and_settledsite_n100_PLD90_settledist10.csv')"
   ]
  },
  {
   "cell_type": "code",
   "execution_count": null,
   "id": "bed4c5b2",
   "metadata": {},
   "outputs": [],
   "source": [
    "nearest_neighbor(n100, 15,180,10)\n",
    "os.rename('/Users/taylorely/Documents/OceanModeling/settled_per_release_and_settledsite_n500_site.csv','/Users/taylorely/Documents/OceanModeling/settled_per_release_and_settledsite_n100_PLD180_settledist10.csv')\n",
    "del(n100)"
   ]
  },
  {
   "cell_type": "code",
   "execution_count": null,
   "id": "09357291",
   "metadata": {},
   "outputs": [],
   "source": [
    "n100_repeat = netCDF4.Dataset('LAPS_sensitivity_n100_pld180_5m_Kh10_nday545_daily_07012012_repeattest.nc')\n",
    "nearest_neighbor(n100_repeat, 15, 30, 10)\n",
    "os.rename('/Users/taylorely/Documents/OceanModeling/settled_per_release_and_settledsite_n500_site.csv','/Users/taylorely/Documents/OceanModeling/settled_per_release_and_settledsite_n100_repeat_PLD30_settledist10.csv')\n",
    "nearest_neighbor(n100_repeat, 15, 60, 10)\n",
    "os.rename('/Users/taylorely/Documents/OceanModeling/settled_per_release_and_settledsite_n500_site.csv','/Users/taylorely/Documents/OceanModeling/settled_per_release_and_settledsite_n100_repeat_PLD60_settledist10.csv')\n",
    "nearest_neighbor(n100_repeat, 15, 90, 10)\n",
    "os.rename('/Users/taylorely/Documents/OceanModeling/settled_per_release_and_settledsite_n500_site.csv','/Users/taylorely/Documents/OceanModeling/settled_per_release_and_settledsite_n100_repeat_PLD90_settledist10.csv')\n",
    "nearest_neighbor(n100_repeat, 15, 180, 10)\n",
    "os.rename('/Users/taylorely/Documents/OceanModeling/settled_per_release_and_settledsite_n500_site.csv','/Users/taylorely/Documents/OceanModeling/settled_per_release_and_settledsite_n100_repeat_PLD180_settledist10.csv')\n",
    "del(n100_repeat)"
   ]
  },
  {
   "cell_type": "code",
   "execution_count": null,
   "id": "e9c60f00",
   "metadata": {},
   "outputs": [],
   "source": [
    "subset_1 = netCDF4.Dataset('n500_1.nc')\n",
    "nearest_neighbor(subset_1, 15, 30, 10)\n",
    "os.rename('/Users/taylorely/Documents/OceanModeling/settled_per_release_and_settledsite_n500_site.csv','/Users/taylorely/Documents/OceanModeling/settled_per_release_and_settledsite_n500_site1_PLD30_settledist10.csv')\n",
    "nearest_neighbor(subset_1, 15, 60, 10)\n",
    "os.rename('/Users/taylorely/Documents/OceanModeling/settled_per_release_and_settledsite_n500_site.csv','/Users/taylorely/Documents/OceanModeling/settled_per_release_and_settledsite_n500_site1_PLD60_settledist10.csv')\n",
    "nearest_neighbor(subset_1, 15, 90, 10)\n",
    "os.rename('/Users/taylorely/Documents/OceanModeling/settled_per_release_and_settledsite_n500_site.csv','/Users/taylorely/Documents/OceanModeling/settled_per_release_and_settledsite_n500_site1_PLD90_settledist10.csv')\n",
    "nearest_neighbor(subset_1, 15, 180, 10)\n",
    "os.rename('/Users/taylorely/Documents/OceanModeling/settled_per_release_and_settledsite_n500_site.csv','/Users/taylorely/Documents/OceanModeling/settled_per_release_and_settledsite_n500_site1_PLD180_settledist10.csv')\n",
    "del(subset_1)"
   ]
  },
  {
   "cell_type": "raw",
   "id": "83fd0b13",
   "metadata": {},
   "source": [
    "os.rename('/Users/taylorely/Documents/OceanModeling/nearest_island_and_settled_n500_site.csv', '/Users/taylorely/Documents/OceanModeling/nearest_island_and_settled_n500_site1.csv')\n",
    "os.rename('/Users/taylorely/Documents/OceanModeling/settled_per__release_site_n500_site.csv','/Users/taylorely/Documents/OceanModeling/settled_per__release_site_n500_site1.csv')\n",
    "os.rename('/Users/taylorely/Documents/OceanModeling/settled_per_settled_site_n500_site.csv','/Users/taylorely/Documents/OceanModeling/settled_per_settled_site_n500_site1.csv')\n",
    "os.rename('/Users/taylorely/Documents/OceanModeling/settled_per_release_and_settledsite_n500_site.csv','/Users/taylorely/Documents/OceanModeling/settled_per_release_and_settledsite_n500_site1.csv')\n",
    "os.rename(\"/Users/taylorely/Documents/OceanModeling/settlement_n500_site.png\",\"/Users/taylorely/Documents/OceanModeling/settlement_n500_site1.png\")\n",
    "os.rename(\"/Users/taylorely/Documents/OceanModeling/settlement_subplot_n500_site.png\",\"/Users/taylorely/Documents/OceanModeling/settlement_subplot_n500_site1.png\")"
   ]
  },
  {
   "cell_type": "code",
   "execution_count": null,
   "id": "ef5f0055",
   "metadata": {},
   "outputs": [],
   "source": [
    "subset_2 = netCDF4.Dataset('n500_2.nc')\n",
    "nearest_neighbor(subset_2, 15, 30, 10)\n",
    "os.rename('/Users/taylorely/Documents/OceanModeling/settled_per_release_and_settledsite_n500_site.csv','/Users/taylorely/Documents/OceanModeling/settled_per_release_and_settledsite_n500_site2_PLD30_settledist10.csv')\n",
    "nearest_neighbor(subset_2, 15, 60, 10)\n",
    "os.rename('/Users/taylorely/Documents/OceanModeling/settled_per_release_and_settledsite_n500_site.csv','/Users/taylorely/Documents/OceanModeling/settled_per_release_and_settledsite_n500_site2_PLD60_settledist10.csv')\n",
    "nearest_neighbor(subset_2, 15, 90, 10)\n",
    "os.rename('/Users/taylorely/Documents/OceanModeling/settled_per_release_and_settledsite_n500_site.csv','/Users/taylorely/Documents/OceanModeling/settled_per_release_and_settledsite_n500_site2_PLD90_settledist10.csv')\n",
    "nearest_neighbor(subset_2, 15, 180, 10)\n",
    "os.rename('/Users/taylorely/Documents/OceanModeling/settled_per_release_and_settledsite_n500_site.csv','/Users/taylorely/Documents/OceanModeling/settled_per_release_and_settledsite_n500_site2_PLD180_settledist10.csv')\n",
    "del(subset_2)\n",
    "#os.rename('/Users/taylorely/Documents/OceanModeling/nearest_island_and_settled_n500_site.csv', '/Users/taylorely/Documents/OceanModeling/nearest_island_and_settled_n500_site2.csv')\n",
    "#os.rename('/Users/taylorely/Documents/OceanModeling/settled_per__release_site_n500_site.csv','/Users/taylorely/Documents/OceanModeling/settled_per__release_site_n500_site2.csv')\n",
    "#os.rename('/Users/taylorely/Documents/OceanModeling/settled_per_settled_site_n500_site.csv','/Users/taylorely/Documents/OceanModeling/settled_per_settled_site_n500_site2.csv')\n",
    "#os.rename('/Users/taylorely/Documents/OceanModeling/settled_per_release_and_settledsite_n500_site.csv','/Users/taylorely/Documents/OceanModeling/settled_per_release_and_settledsite_n500_site2.csv')\n",
    "#os.rename(\"/Users/taylorely/Documents/OceanModeling/settlement_n500_site.png\",\"/Users/taylorely/Documents/OceanModeling/settlement_n500_site2.png\")\n",
    "#os.rename(\"/Users/taylorely/Documents/OceanModeling/settlement_subplot_n500_site.png\",\"/Users/taylorely/Documents/OceanModeling/settlement_subplot_n500_site2.png\")"
   ]
  },
  {
   "cell_type": "code",
   "execution_count": null,
   "id": "a6b61633",
   "metadata": {},
   "outputs": [],
   "source": [
    "subset_3 = netCDF4.Dataset('n500_3.nc')\n",
    "nearest_neighbor(subset_3, 15, 30, 10)\n",
    "os.rename('/Users/taylorely/Documents/OceanModeling/settled_per_release_and_settledsite_n500_site.csv','/Users/taylorely/Documents/OceanModeling/settled_per_release_and_settledsite_n500_site3_PLD30_settledist10.csv')\n",
    "nearest_neighbor(subset_3, 15, 60, 10)\n",
    "os.rename('/Users/taylorely/Documents/OceanModeling/settled_per_release_and_settledsite_n500_site.csv','/Users/taylorely/Documents/OceanModeling/settled_per_release_and_settledsite_n500_site3_PLD60_settledist10.csv')\n",
    "nearest_neighbor(subset_3, 15, 90, 10)\n",
    "os.rename('/Users/taylorely/Documents/OceanModeling/settled_per_release_and_settledsite_n500_site.csv','/Users/taylorely/Documents/OceanModeling/settled_per_release_and_settledsite_n500_site3_PLD90_settledist10.csv')\n",
    "nearest_neighbor(subset_3, 15, 180, 10)\n",
    "os.rename('/Users/taylorely/Documents/OceanModeling/settled_per_release_and_settledsite_n500_site.csv','/Users/taylorely/Documents/OceanModeling/settled_per_release_and_settledsite_n500_site3_PLD180_settledist10.csv')\n",
    "del(subset_3)\n",
    "\n",
    "#os.rename('/Users/taylorely/Documents/OceanModeling/nearest_island_and_settled_n500_site.csv', '/Users/taylorely/Documents/OceanModeling/nearest_island_and_settled_n500_site3.csv')\n",
    "#os.rename('/Users/taylorely/Documents/OceanModeling/settled_per__release_site_n500_site.csv','/Users/taylorely/Documents/OceanModeling/settled_per__release_site_n500_site3.csv')\n",
    "#os.rename('/Users/taylorely/Documents/OceanModeling/settled_per_settled_site_n500_site.csv','/Users/taylorely/Documents/OceanModeling/settled_per_settled_site_n500_site3.csv')\n",
    "#os.rename('/Users/taylorely/Documents/OceanModeling/settled_per_release_and_settledsite_n500_site.csv','/Users/taylorely/Documents/OceanModeling/settled_per_release_and_settledsite_n500_site3.csv')\n",
    "#os.rename(\"/Users/taylorely/Documents/OceanModeling/settlement_n500_site.png\",\"/Users/taylorely/Documents/OceanModeling/settlement_n500_site3.png\")\n",
    "#os.rename(\"/Users/taylorely/Documents/OceanModeling/settlement_subplot_n500_site.png\",\"/Users/taylorely/Documents/OceanModeling/settlement_subplot_n500_site3.png\")\n"
   ]
  },
  {
   "cell_type": "code",
   "execution_count": null,
   "id": "e3be795c",
   "metadata": {},
   "outputs": [],
   "source": [
    "subset_4 = netCDF4.Dataset('n500_4.nc')\n",
    "nearest_neighbor(subset_4, 15, 30, 10)\n",
    "os.rename('/Users/taylorely/Documents/OceanModeling/settled_per_release_and_settledsite_n500_site.csv','/Users/taylorely/Documents/OceanModeling/settled_per_release_and_settledsite_n500_site4_PLD30_settledist10.csv')\n",
    "nearest_neighbor(subset_4, 15, 60, 10)\n",
    "os.rename('/Users/taylorely/Documents/OceanModeling/settled_per_release_and_settledsite_n500_site.csv','/Users/taylorely/Documents/OceanModeling/settled_per_release_and_settledsite_n500_site4_PLD60_settledist10.csv')\n",
    "nearest_neighbor(subset_4, 15, 90, 10)\n",
    "os.rename('/Users/taylorely/Documents/OceanModeling/settled_per_release_and_settledsite_n500_site.csv','/Users/taylorely/Documents/OceanModeling/settled_per_release_and_settledsite_n500_site4_PLD90_settledist10.csv')\n",
    "nearest_neighbor(subset_4, 15, 180, 10)\n",
    "os.rename('/Users/taylorely/Documents/OceanModeling/settled_per_release_and_settledsite_n500_site.csv','/Users/taylorely/Documents/OceanModeling/settled_per_release_and_settledsite_n500_site4_PLD180_settledist10.csv')\n",
    "del(subset_4)\n",
    "#os.rename('/Users/taylorely/Documents/OceanModeling/nearest_island_and_settled_n500_site.csv', '/Users/taylorely/Documents/OceanModeling/nearest_island_and_settled_n500_site4.csv')\n",
    "#os.rename('/Users/taylorely/Documents/OceanModeling/settled_per__release_site_n500_site.csv','/Users/taylorely/Documents/OceanModeling/settled_per__release_site_n500_site4.csv')\n",
    "#os.rename('/Users/taylorely/Documents/OceanModeling/settled_per_settled_site_n500_site.csv','/Users/taylorely/Documents/OceanModeling/settled_per_settled_site_n500_site4.csv')\n",
    "#os.rename('/Users/taylorely/Documents/OceanModeling/settled_per_release_and_settledsite_n500_site.csv','/Users/taylorely/Documents/OceanModeling/settled_per_release_and_settledsite_n500_site4.csv')\n",
    "#os.rename(\"/Users/taylorely/Documents/OceanModeling/settlement_n500_site.png\",\"/Users/taylorely/Documents/OceanModeling/settlement_n500_site4.png\")\n",
    "#os.rename(\"/Users/taylorely/Documents/OceanModeling/settlement_subplot_n500_site.png\",\"/Users/taylorely/Documents/OceanModeling/settlement_subplot_n500_site4.png\")"
   ]
  },
  {
   "cell_type": "code",
   "execution_count": null,
   "id": "cd700cbd",
   "metadata": {},
   "outputs": [],
   "source": [
    "subset_5 = netCDF4.Dataset('n500_5.nc')\n",
    "nearest_neighbor(subset_5, 15, 30, 10)\n",
    "os.rename('/Users/taylorely/Documents/OceanModeling/settled_per_release_and_settledsite_n500_site.csv','/Users/taylorely/Documents/OceanModeling/settled_per_release_and_settledsite_n500_site5_PLD30_settledist10.csv')\n",
    "nearest_neighbor(subset_5, 15, 60, 10)\n",
    "os.rename('/Users/taylorely/Documents/OceanModeling/settled_per_release_and_settledsite_n500_site.csv','/Users/taylorely/Documents/OceanModeling/settled_per_release_and_settledsite_n500_site5_PLD60_settledist10.csv')\n",
    "nearest_neighbor(subset_5, 15, 90, 10)\n",
    "os.rename('/Users/taylorely/Documents/OceanModeling/settled_per_release_and_settledsite_n500_site.csv','/Users/taylorely/Documents/OceanModeling/settled_per_release_and_settledsite_n500_site5_PLD90_settledist10.csv')\n",
    "nearest_neighbor(subset_5, 15, 180, 10)\n",
    "os.rename('/Users/taylorely/Documents/OceanModeling/settled_per_release_and_settledsite_n500_site.csv','/Users/taylorely/Documents/OceanModeling/settled_per_release_and_settledsite_n500_site5_PLD180_settledist10.csv')\n",
    "del(subset_5)\n",
    "\n",
    "#os.rename('/Users/taylorely/Documents/OceanModeling/nearest_island_and_settled_n500_site.csv', '/Users/taylorely/Documents/OceanModeling/nearest_island_and_settled_n500_site5.csv')\n",
    "#os.rename('/Users/taylorely/Documents/OceanModeling/settled_per__release_site_n500_site.csv','/Users/taylorely/Documents/OceanModeling/settled_per__release_site_n500_site5.csv')\n",
    "#os.rename('/Users/taylorely/Documents/OceanModeling/settled_per_settled_site_n500_site.csv','/Users/taylorely/Documents/OceanModeling/settled_per_settled_site_n500_site5.csv')\n",
    "#os.rename('/Users/taylorely/Documents/OceanModeling/settled_per_release_and_settledsite_n500_site.csv','/Users/taylorely/Documents/OceanModeling/settled_per_release_and_settledsite_n500_site5.csv')\n",
    "#os.rename(\"/Users/taylorely/Documents/OceanModeling/settlement_n500_site.png\",\"/Users/taylorely/Documents/OceanModeling/settlement_n500_site5.png\")\n",
    "#os.rename(\"/Users/taylorely/Documents/OceanModeling/settlement_subplot_n500_site.png\",\"/Users/taylorely/Documents/OceanModeling/settlement_subplot_n500_site5.png\")"
   ]
  },
  {
   "cell_type": "code",
   "execution_count": null,
   "id": "238fb492",
   "metadata": {},
   "outputs": [],
   "source": [
    "subset_6 = netCDF4.Dataset('n500_6.nc')\n",
    "nearest_neighbor(subset_6, 15, 30, 10)\n",
    "os.rename('/Users/taylorely/Documents/OceanModeling/settled_per_release_and_settledsite_n500_site.csv','/Users/taylorely/Documents/OceanModeling/settled_per_release_and_settledsite_n500_site6_PLD30_settledist10.csv')\n",
    "nearest_neighbor(subset_6, 15, 60, 10)\n",
    "os.rename('/Users/taylorely/Documents/OceanModeling/settled_per_release_and_settledsite_n500_site.csv','/Users/taylorely/Documents/OceanModeling/settled_per_release_and_settledsite_n500_site6_PLD60_settledist10.csv')\n",
    "nearest_neighbor(subset_6, 15, 90, 10)\n",
    "os.rename('/Users/taylorely/Documents/OceanModeling/settled_per_release_and_settledsite_n500_site.csv','/Users/taylorely/Documents/OceanModeling/settled_per_release_and_settledsite_n500_site6_PLD90_settledist10.csv')\n",
    "nearest_neighbor(subset_6, 15, 180, 10)\n",
    "os.rename('/Users/taylorely/Documents/OceanModeling/settled_per_release_and_settledsite_n500_site.csv','/Users/taylorely/Documents/OceanModeling/settled_per_release_and_settledsite_n500_site6_PLD180_settledist10.csv')\n",
    "del(subset_6)\n",
    "\n",
    "#os.rename('/Users/taylorely/Documents/OceanModeling/nearest_island_and_settled_n500_site.csv', '/Users/taylorely/Documents/OceanModeling/nearest_island_and_settled_n500_site6.csv')\n",
    "#os.rename('/Users/taylorely/Documents/OceanModeling/settled_per__release_site_n500_site.csv','/Users/taylorely/Documents/OceanModeling/settled_per__release_site_n500_site6.csv')\n",
    "#os.rename('/Users/taylorely/Documents/OceanModeling/settled_per_settled_site_n500_site.csv','/Users/taylorely/Documents/OceanModeling/settled_per_settled_site_n500_site6.csv')\n",
    "#os.rename('/Users/taylorely/Documents/OceanModeling/settled_per_release_and_settledsite_n500_site.csv','/Users/taylorely/Documents/OceanModeling/settled_per_release_and_settledsite_n500_site6.csv')\n",
    "#os.rename(\"/Users/taylorely/Documents/OceanModeling/settlement_n500_site.png\",\"/Users/taylorely/Documents/OceanModeling/settlement_n500_site6.png\")\n",
    "#os.rename(\"/Users/taylorely/Documents/OceanModeling/settlement_subplot_n500_site.png\",\"/Users/taylorely/Documents/OceanModeling/settlement_subplot_n500_site6.png\")\n"
   ]
  },
  {
   "cell_type": "code",
   "execution_count": null,
   "id": "838b61a8",
   "metadata": {},
   "outputs": [],
   "source": [
    "subset_10 = netCDF4.Dataset('n500_10.nc')\n",
    "nearest_neighbor(subset_10, 15, 30, 10)\n",
    "os.rename('/Users/taylorely/Documents/OceanModeling/settled_per_release_and_settledsite_n500_site.csv','/Users/taylorely/Documents/OceanModeling/settled_per_release_and_settledsite_n500_site10_PLD30_settledist10.csv')\n",
    "nearest_neighbor(subset_10, 15, 60, 10)\n",
    "os.rename('/Users/taylorely/Documents/OceanModeling/settled_per_release_and_settledsite_n500_site.csv','/Users/taylorely/Documents/OceanModeling/settled_per_release_and_settledsite_n500_site10_PLD60_settledist10.csv')\n",
    "nearest_neighbor(subset_10, 15, 90, 10)\n",
    "os.rename('/Users/taylorely/Documents/OceanModeling/settled_per_release_and_settledsite_n500_site.csv','/Users/taylorely/Documents/OceanModeling/settled_per_release_and_settledsite_n500_site10_PLD90_settledist10.csv')\n",
    "nearest_neighbor(subset_10, 15, 180, 10)\n",
    "os.rename('/Users/taylorely/Documents/OceanModeling/settled_per_release_and_settledsite_n500_site.csv','/Users/taylorely/Documents/OceanModeling/settled_per_release_and_settledsite_n500_site10_PLD180_settledist10.csv')\n",
    "del(subset_10)\n",
    "\n",
    "#os.rename('/Users/taylorely/Documents/OceanModeling/nearest_island_and_settled_n500_site.csv', '/Users/taylorely/Documents/OceanModeling/nearest_island_and_settled_n500_site10.csv')\n",
    "#os.rename('/Users/taylorely/Documents/OceanModeling/settled_per__release_site_n500_site.csv','/Users/taylorely/Documents/OceanModeling/settled_per__release_site_n500_site10.csv')\n",
    "#os.rename('/Users/taylorely/Documents/OceanModeling/settled_per_settled_site_n500_site.csv','/Users/taylorely/Documents/OceanModeling/settled_per_settled_site_n500_site10.csv')\n",
    "#os.rename('/Users/taylorely/Documents/OceanModeling/settled_per_release_and_settledsite_n500_site.csv','/Users/taylorely/Documents/OceanModeling/settled_per_release_and_settledsite_n500_site10.csv')\n",
    "#os.rename(\"/Users/taylorely/Documents/OceanModeling/settlement_n500_site.png\",\"/Users/taylorely/Documents/OceanModeling/settlement_n500_site10.png\")\n",
    "#os.rename(\"/Users/taylorely/Documents/OceanModeling/settlement_subplot_n500_site.png\",\"/Users/taylorely/Documents/OceanModeling/settlement_subplot_n500_site10.png\")\n"
   ]
  },
  {
   "cell_type": "code",
   "execution_count": null,
   "id": "d86b526a",
   "metadata": {},
   "outputs": [],
   "source": [
    "subset_11 = netCDF4.Dataset('n500_11.nc')\n",
    "nearest_neighbor(subset_11, 15, 30, 10)\n",
    "os.rename('/Users/taylorely/Documents/OceanModeling/settled_per_release_and_settledsite_n500_site.csv','/Users/taylorely/Documents/OceanModeling/settled_per_release_and_settledsite_n500_site11_PLD30_settledist10.csv')\n",
    "nearest_neighbor(subset_11, 15, 60, 10)\n",
    "os.rename('/Users/taylorely/Documents/OceanModeling/settled_per_release_and_settledsite_n500_site.csv','/Users/taylorely/Documents/OceanModeling/settled_per_release_and_settledsite_n500_site11_PLD60_settledist10.csv')\n",
    "nearest_neighbor(subset_11, 15, 90, 10)\n",
    "os.rename('/Users/taylorely/Documents/OceanModeling/settled_per_release_and_settledsite_n500_site.csv','/Users/taylorely/Documents/OceanModeling/settled_per_release_and_settledsite_n500_site11_PLD90_settledist10.csv')\n",
    "nearest_neighbor(subset_11, 15, 180, 10)\n",
    "os.rename('/Users/taylorely/Documents/OceanModeling/settled_per_release_and_settledsite_n500_site.csv','/Users/taylorely/Documents/OceanModeling/settled_per_release_and_settledsite_n500_site11_PLD180_settledist10.csv')\n",
    "del(subset_11)\n",
    "\n",
    "#os.rename('/Users/taylorely/Documents/OceanModeling/nearest_island_and_settled_n500_site.csv', '/Users/taylorely/Documents/OceanModeling/nearest_island_and_settled_n500_site11.csv')\n",
    "#os.rename('/Users/taylorely/Documents/OceanModeling/settled_per__release_site_n500_site.csv','/Users/taylorely/Documents/OceanModeling/settled_per__release_site_n500_site11.csv')\n",
    "#os.rename('/Users/taylorely/Documents/OceanModeling/settled_per_settled_site_n500_site.csv','/Users/taylorely/Documents/OceanModeling/settled_per_settled_site_n500_site11.csv')\n",
    "#os.rename('/Users/taylorely/Documents/OceanModeling/settled_per_release_and_settledsite_n500_site.csv','/Users/taylorely/Documents/OceanModeling/settled_per_release_and_settledsite_n500_site11.csv')\n",
    "#os.rename(\"/Users/taylorely/Documents/OceanModeling/settlement_n500_site.png\",\"/Users/taylorely/Documents/OceanModeling/settlement_n500_site11.png\")\n",
    "#os.rename(\"/Users/taylorely/Documents/OceanModeling/settlement_subplot_n500_site.png\",\"/Users/taylorely/Documents/OceanModeling/settlement_subplot_n500_site11.png\")"
   ]
  },
  {
   "cell_type": "code",
   "execution_count": null,
   "id": "51607cae",
   "metadata": {},
   "outputs": [],
   "source": [
    "subset_12 = netCDF4.Dataset('n500_12.nc')\n",
    "nearest_neighbor(subset_12, 15, 30, 10)\n",
    "os.rename('/Users/taylorely/Documents/OceanModeling/settled_per_release_and_settledsite_n500_site.csv','/Users/taylorely/Documents/OceanModeling/settled_per_release_and_settledsite_n500_site12_PLD30_settledist10.csv')\n",
    "nearest_neighbor(subset_12, 15, 60, 10)\n",
    "os.rename('/Users/taylorely/Documents/OceanModeling/settled_per_release_and_settledsite_n500_site.csv','/Users/taylorely/Documents/OceanModeling/settled_per_release_and_settledsite_n500_site12_PLD60_settledist10.csv')\n",
    "nearest_neighbor(subset_12, 15, 90, 10)\n",
    "os.rename('/Users/taylorely/Documents/OceanModeling/settled_per_release_and_settledsite_n500_site.csv','/Users/taylorely/Documents/OceanModeling/settled_per_release_and_settledsite_n500_site12_PLD90_settledist10.csv')\n",
    "nearest_neighbor(subset_12, 15, 180, 10)\n",
    "os.rename('/Users/taylorely/Documents/OceanModeling/settled_per_release_and_settledsite_n500_site.csv','/Users/taylorely/Documents/OceanModeling/settled_per_release_and_settledsite_n500_site12_PLD180_settledist10.csv')\n",
    "del(subset_12)\n",
    "\n",
    "#os.rename('/Users/taylorely/Documents/OceanModeling/nearest_island_and_settled_n500_site.csv', '/Users/taylorely/Documents/OceanModeling/nearest_island_and_settled_n500_site12.csv')\n",
    "#os.rename('/Users/taylorely/Documents/OceanModeling/settled_per__release_site_n500_site.csv','/Users/taylorely/Documents/OceanModeling/settled_per__release_site_n500_site12.csv')\n",
    "#os.rename('/Users/taylorely/Documents/OceanModeling/settled_per_settled_site_n500_site.csv','/Users/taylorely/Documents/OceanModeling/settled_per_settled_site_n500_site12.csv')\n",
    "#os.rename('/Users/taylorely/Documents/OceanModeling/settled_per_release_and_settledsite_n500_site.csv','/Users/taylorely/Documents/OceanModeling/settled_per_release_and_settledsite_n500_site12.csv')\n",
    "#os.rename(\"/Users/taylorely/Documents/OceanModeling/settlement_n500_site.png\",\"/Users/taylorely/Documents/OceanModeling/settlement_n500_site12.png\")\n",
    "#os.rename(\"/Users/taylorely/Documents/OceanModeling/settlement_subplot_n500_site.png\",\"/Users/taylorely/Documents/OceanModeling/settlement_subplot_n500_site12.png\")"
   ]
  },
  {
   "cell_type": "code",
   "execution_count": null,
   "id": "3f3be4fc",
   "metadata": {},
   "outputs": [],
   "source": [
    "subset7 = netCDF4.Dataset('n500_7.nc')\n",
    "nearest_neighbor(subset7, 15, 30, 10)\n",
    "os.rename('/Users/taylorely/Documents/OceanModeling/settled_per_release_and_settledsite_n500_site.csv','/Users/taylorely/Documents/OceanModeling/settled_per_release_and_settledsite_n500_site7_PLD30_settledist10.csv')"
   ]
  },
  {
   "cell_type": "code",
   "execution_count": null,
   "id": "331b1e79",
   "metadata": {},
   "outputs": [],
   "source": [
    "nearest_neighbor(subset7, 15, 60, 10)\n",
    "os.rename('/Users/taylorely/Documents/OceanModeling/settled_per_release_and_settledsite_n500_site.csv','/Users/taylorely/Documents/OceanModeling/settled_per_release_and_settledsite_n500_site7_PLD60_settledist10.csv')"
   ]
  },
  {
   "cell_type": "code",
   "execution_count": null,
   "id": "3e4a7da4",
   "metadata": {},
   "outputs": [],
   "source": [
    "nearest_neighbor(subset7, 15, 90, 10)\n",
    "os.rename('/Users/taylorely/Documents/OceanModeling/settled_per_release_and_settledsite_n500_site.csv','/Users/taylorely/Documents/OceanModeling/settled_per_release_and_settledsite_n500_site7_PLD90_settledist10.csv')"
   ]
  },
  {
   "cell_type": "code",
   "execution_count": 10,
   "id": "e52789c1",
   "metadata": {},
   "outputs": [
    {
     "name": "stdout",
     "output_type": "stream",
     "text": [
      "(3751500, 181)\n"
     ]
    }
   ],
   "source": [
    "n250=netCDF4.Dataset('LAPS_sensitivity_n250_pld180_5m_Kh10_nday545_daily_07012012_FreeSlipSettle_newKiritimati.nc')\n",
    "lon = n250.variables['lon'][:]\n",
    "print(lon.shape)"
   ]
  },
  {
   "cell_type": "code",
   "execution_count": 12,
   "id": "71bee342",
   "metadata": {},
   "outputs": [],
   "source": [
    "nearest_neighbor_divided(n250,0,1875750,15,180,10)\n",
    "os.rename('/Users/taylorely/Documents/OceanModeling/settled_per_release_and_settledsite_n500_site.csv','/Users/taylorely/Documents/OceanModeling/settled_per_release_and_settledsite_particlesredo_n250_PLD180_settledist10_part1.csv')"
   ]
  },
  {
   "cell_type": "code",
   "execution_count": 13,
   "id": "5114bd9f",
   "metadata": {},
   "outputs": [],
   "source": [
    "nearest_neighbor_divided(n250,1875750,3751500,15,180,10)\n",
    "os.rename('/Users/taylorely/Documents/OceanModeling/settled_per_release_and_settledsite_n500_site.csv','/Users/taylorely/Documents/OceanModeling/settled_per_release_and_settledsite_particlesredo_n250_PLD180_settledist10_part2.csv')"
   ]
  },
  {
   "cell_type": "code",
   "execution_count": 17,
   "id": "e9ccaef0",
   "metadata": {},
   "outputs": [],
   "source": [
    "n250_1= pd.read_csv('/Users/taylorely/Documents/OceanModeling/settled_per_release_and_settledsite_particlesredo_n250_PLD180_settledist10_part1.csv', sep = '\\t')\n",
    "n250_2 = pd.read_csv('/Users/taylorely/Documents/OceanModeling/settled_per_release_and_settledsite_particlesredo_n250_PLD180_settledist10_part2.csv', sep = '\\t')\n",
    "merge_sites = pd.concat([n250_1,n250_2])\n",
    "merge_sites.to_csv('/Users/taylorely/Documents/OceanModeling/settled_per_release_and_settledsite_particlesredo_n250_PLD180_settledist10.csv', sep='\\t')"
   ]
  },
  {
   "cell_type": "code",
   "execution_count": 18,
   "id": "e3828906",
   "metadata": {},
   "outputs": [
    {
     "name": "stdout",
     "output_type": "stream",
     "text": [
      "(2562000, 181)\n"
     ]
    }
   ],
   "source": [
    "n500_7=netCDF4.Dataset('n500_7.nc')\n",
    "lon = n500_7.variables['lon'][:]\n",
    "print(lon.shape)"
   ]
  },
  {
   "cell_type": "code",
   "execution_count": 19,
   "id": "ae71709d",
   "metadata": {},
   "outputs": [],
   "source": [
    "nearest_neighbor_divided(n500_7,0,1281000,15,180,10)\n",
    "os.rename('/Users/taylorely/Documents/OceanModeling/settled_per_release_and_settledsite_n500_site.csv','/Users/taylorely/Documents/OceanModeling/settled_per_release_and_settledsite_particlesredo_n500_PLD180_settledist10_site7_part1.csv')"
   ]
  },
  {
   "cell_type": "code",
   "execution_count": 20,
   "id": "88623fa8",
   "metadata": {},
   "outputs": [],
   "source": [
    "nearest_neighbor_divided(n500_7,1281000,2562000,15,180,10)\n",
    "os.rename('/Users/taylorely/Documents/OceanModeling/settled_per_release_and_settledsite_n500_site.csv','/Users/taylorely/Documents/OceanModeling/settled_per_release_and_settledsite_particlesredo_n500_PLD180_settledist10_site7_part2.csv')"
   ]
  },
  {
   "cell_type": "code",
   "execution_count": 22,
   "id": "3962d6d5",
   "metadata": {},
   "outputs": [],
   "source": [
    "site1 = pd.read_csv('/Users/taylorely/Documents/OceanModeling/settled_per_release_and_settledsite_particlesredo_n500_PLD180_settledist10_site1.csv', sep = '\\t')\n",
    "site2 = pd.read_csv('/Users/taylorely/Documents/OceanModeling/settled_per_release_and_settledsite_particlesredo_n500_PLD180_settledist10_site2.csv', sep = '\\t')\n",
    "site3 = pd.read_csv('/Users/taylorely/Documents/OceanModeling/settled_per_release_and_settledsite_particlesredo_n500_PLD180_settledist10_site3.csv', sep = '\\t')\n",
    "site4 = pd.read_csv('/Users/taylorely/Documents/OceanModeling/settled_per_release_and_settledsite_particlesredo_n500_PLD180_settledist10_site4.csv', sep = '\\t')\n",
    "site5 = pd.read_csv('/Users/taylorely/Documents/OceanModeling/settled_per_release_and_settledsite_particlesredo_n500_PLD180_settledist10_site5.csv', sep = '\\t')\n",
    "site6 = pd.read_csv('/Users/taylorely/Documents/OceanModeling/settled_per_release_and_settledsite_particlesredo_n500_PLD180_settledist10_site6.csv', sep = '\\t')\n",
    "site7 = pd.read_csv('/Users/taylorely/Documents/OceanModeling/settled_per_release_and_settledsite_particlesredo_n500_PLD180_settledist10_site7_part1.csv', sep = '\\t')\n",
    "site72 = pd.read_csv('/Users/taylorely/Documents/OceanModeling/settled_per_release_and_settledsite_particlesredo_n500_PLD180_settledist10_site7_part2.csv', sep = '\\t')\n",
    "site10 = pd.read_csv('/Users/taylorely/Documents/OceanModeling/settled_per_release_and_settledsite_particlesredo_n500_PLD180_settledist10_site10.csv', sep = '\\t')\n",
    "site11 = pd.read_csv('/Users/taylorely/Documents/OceanModeling/settled_per_release_and_settledsite_particlesredo_n500_PLD180_settledist10_site11.csv', sep = '\\t')\n",
    "site12 = pd.read_csv('/Users/taylorely/Documents/OceanModeling/settled_per_release_and_settledsite_particlesredo_n500_PLD180_settledist10_site12.csv', sep = '\\t')\n",
    "merge_sites = pd.concat([site1,site2,site3,site4,site5,site6,site7,site72,site10,site11,site12])\n",
    "merge_sites.to_csv('/Users/taylorely/Documents/OceanModeling/settled_per_release_and_settledsite_particlesredo_n500_PLD180_settledist10.csv', sep='\\t')"
   ]
  },
  {
   "cell_type": "code",
   "execution_count": 24,
   "id": "248c22f7",
   "metadata": {},
   "outputs": [],
   "source": [
    "site1 = pd.read_csv('/Users/taylorely/Documents/OceanModeling/settled_per_release_and_settledsite_particlesredo_n500_PLD30_settledist10_site1.csv', sep = '\\t')\n",
    "site2 = pd.read_csv('/Users/taylorely/Documents/OceanModeling/settled_per_release_and_settledsite_particlesredo_n500_PLD30_settledist10_site2.csv', sep = '\\t')\n",
    "site3 = pd.read_csv('/Users/taylorely/Documents/OceanModeling/settled_per_release_and_settledsite_particlesredo_n500_PLD30_settledist10_site3.csv', sep = '\\t')\n",
    "site4 = pd.read_csv('/Users/taylorely/Documents/OceanModeling/settled_per_release_and_settledsite_particlesredo_n500_PLD30_settledist10_site4.csv', sep = '\\t')\n",
    "site5 = pd.read_csv('/Users/taylorely/Documents/OceanModeling/settled_per_release_and_settledsite_particlesredo_n500_PLD30_settledist10_site5.csv', sep = '\\t')\n",
    "site6 = pd.read_csv('/Users/taylorely/Documents/OceanModeling/settled_per_release_and_settledsite_particlesredo_n500_PLD30_settledist10_site6.csv', sep = '\\t')\n",
    "site7 = pd.read_csv('/Users/taylorely/Documents/OceanModeling/settled_per_release_and_settledsite_particlesredo_n500_PLD30_settledist10_site7.csv', sep = '\\t')\n",
    "site10 = pd.read_csv('/Users/taylorely/Documents/OceanModeling/settled_per_release_and_settledsite_particlesredo_n500_PLD30_settledist10_site10.csv', sep = '\\t')\n",
    "site11 = pd.read_csv('/Users/taylorely/Documents/OceanModeling/settled_per_release_and_settledsite_particlesredo_n500_PLD30_settledist10_site11.csv', sep = '\\t')\n",
    "site12 = pd.read_csv('/Users/taylorely/Documents/OceanModeling/settled_per_release_and_settledsite_particlesredo_n500_PLD30_settledist10_site12.csv', sep = '\\t')\n",
    "merge_sites = pd.concat([site1,site2,site3,site4,site5,site6,site7,site10,site11,site12])\n",
    "merge_sites.to_csv('/Users/taylorely/Documents/OceanModeling/settled_per_release_and_settledsite_particlesredo_n500_PLD30_settledist10.csv', sep='\\t')"
   ]
  },
  {
   "cell_type": "code",
   "execution_count": 25,
   "id": "0c78f3ea",
   "metadata": {},
   "outputs": [],
   "source": [
    "site1 = pd.read_csv('/Users/taylorely/Documents/OceanModeling/settled_per_release_and_settledsite_particlesredo_n500_PLD60_settledist10_site1.csv', sep = '\\t')\n",
    "site2 = pd.read_csv('/Users/taylorely/Documents/OceanModeling/settled_per_release_and_settledsite_particlesredo_n500_PLD60_settledist10_site2.csv', sep = '\\t')\n",
    "site3 = pd.read_csv('/Users/taylorely/Documents/OceanModeling/settled_per_release_and_settledsite_particlesredo_n500_PLD60_settledist10_site3.csv', sep = '\\t')\n",
    "site4 = pd.read_csv('/Users/taylorely/Documents/OceanModeling/settled_per_release_and_settledsite_particlesredo_n500_PLD60_settledist10_site4.csv', sep = '\\t')\n",
    "site5 = pd.read_csv('/Users/taylorely/Documents/OceanModeling/settled_per_release_and_settledsite_particlesredo_n500_PLD60_settledist10_site5.csv', sep = '\\t')\n",
    "site6 = pd.read_csv('/Users/taylorely/Documents/OceanModeling/settled_per_release_and_settledsite_particlesredo_n500_PLD60_settledist10_site6.csv', sep = '\\t')\n",
    "site7 = pd.read_csv('/Users/taylorely/Documents/OceanModeling/settled_per_release_and_settledsite_particlesredo_n500_PLD60_settledist10_site7.csv', sep = '\\t')\n",
    "site10 = pd.read_csv('/Users/taylorely/Documents/OceanModeling/settled_per_release_and_settledsite_particlesredo_n500_PLD60_settledist10_site10.csv', sep = '\\t')\n",
    "site11 = pd.read_csv('/Users/taylorely/Documents/OceanModeling/settled_per_release_and_settledsite_particlesredo_n500_PLD60_settledist10_site11.csv', sep = '\\t')\n",
    "site12 = pd.read_csv('/Users/taylorely/Documents/OceanModeling/settled_per_release_and_settledsite_particlesredo_n500_PLD60_settledist10_site12.csv', sep = '\\t')\n",
    "merge_sites = pd.concat([site1,site2,site3,site4,site5,site6,site7,site10,site11,site12])\n",
    "merge_sites.to_csv('/Users/taylorely/Documents/OceanModeling/settled_per_release_and_settledsite_particlesredo_n500_PLD60_settledist10.csv', sep='\\t')"
   ]
  },
  {
   "cell_type": "code",
   "execution_count": 26,
   "id": "11ced669",
   "metadata": {},
   "outputs": [],
   "source": [
    "site1 = pd.read_csv('/Users/taylorely/Documents/OceanModeling/settled_per_release_and_settledsite_particlesredo_n500_PLD90_settledist10_site1.csv', sep = '\\t')\n",
    "site2 = pd.read_csv('/Users/taylorely/Documents/OceanModeling/settled_per_release_and_settledsite_particlesredo_n500_PLD90_settledist10_site2.csv', sep = '\\t')\n",
    "site3 = pd.read_csv('/Users/taylorely/Documents/OceanModeling/settled_per_release_and_settledsite_particlesredo_n500_PLD90_settledist10_site3.csv', sep = '\\t')\n",
    "site4 = pd.read_csv('/Users/taylorely/Documents/OceanModeling/settled_per_release_and_settledsite_particlesredo_n500_PLD90_settledist10_site4.csv', sep = '\\t')\n",
    "site5 = pd.read_csv('/Users/taylorely/Documents/OceanModeling/settled_per_release_and_settledsite_particlesredo_n500_PLD90_settledist10_site5.csv', sep = '\\t')\n",
    "site6 = pd.read_csv('/Users/taylorely/Documents/OceanModeling/settled_per_release_and_settledsite_particlesredo_n500_PLD90_settledist10_site6.csv', sep = '\\t')\n",
    "site7 = pd.read_csv('/Users/taylorely/Documents/OceanModeling/settled_per_release_and_settledsite_particlesredo_n500_PLD90_settledist10_site7.csv', sep = '\\t')\n",
    "site10 = pd.read_csv('/Users/taylorely/Documents/OceanModeling/settled_per_release_and_settledsite_particlesredo_n500_PLD90_settledist10_site10.csv', sep = '\\t')\n",
    "site11 = pd.read_csv('/Users/taylorely/Documents/OceanModeling/settled_per_release_and_settledsite_particlesredo_n500_PLD90_settledist10_site11.csv', sep = '\\t')\n",
    "site12 = pd.read_csv('/Users/taylorely/Documents/OceanModeling/settled_per_release_and_settledsite_particlesredo_n500_PLD90_settledist10_site12.csv', sep = '\\t')\n",
    "merge_sites = pd.concat([site1,site2,site3,site4,site5,site6,site7,site10,site11,site12])\n",
    "merge_sites.to_csv('/Users/taylorely/Documents/OceanModeling/settled_per_release_and_settledsite_particlesredo_n500_PLD90_settledist10.csv', sep='\\t')"
   ]
  },
  {
   "cell_type": "code",
   "execution_count": null,
   "id": "e2ee8499",
   "metadata": {},
   "outputs": [],
   "source": [
    "subset7 = netCDF4.Dataset('n500_7.nc')\n",
    "nearest_neighbor_divided(subset7, 0, 1281000, 15, 180, 10)\n",
    "os.rename('/Users/taylorely/Documents/OceanModeling/settled_per_release_and_settledsite_n500_site.csv','/Users/taylorely/Documents/OceanModeling/settled_per_release_and_settledsite_n500_site7_part1_PLD180_settledist10.csv')"
   ]
  },
  {
   "cell_type": "code",
   "execution_count": null,
   "id": "e45145b7",
   "metadata": {},
   "outputs": [],
   "source": [
    "nearest_neighbor_divided(subset7, 1281000, 2562000, 15, 180, 10)\n",
    "os.rename('/Users/taylorely/Documents/OceanModeling/settled_per_release_and_settledsite_n500_site.csv','/Users/taylorely/Documents/OceanModeling/settled_per_release_and_settledsite_n500_site7_part2_PLD180_settledist10.csv')"
   ]
  },
  {
   "cell_type": "code",
   "execution_count": null,
   "id": "da5d465d",
   "metadata": {},
   "outputs": [],
   "source": [
    "site1 = pd.read_csv('settled_per_release_and_settledsite_n500_site1_PLD30_settledist10.csv', sep = '\\t')\n",
    "site2 = pd.read_csv('settled_per_release_and_settledsite_n500_site2_PLD30_settledist10.csv', sep = '\\t')\n",
    "site3 = pd.read_csv('settled_per_release_and_settledsite_n500_site3_PLD30_settledist10.csv', sep = '\\t')\n",
    "site4 = pd.read_csv('settled_per_release_and_settledsite_n500_site4_PLD30_settledist10.csv', sep = '\\t')\n",
    "site5 = pd.read_csv('settled_per_release_and_settledsite_n500_site5_PLD30_settledist10.csv', sep = '\\t')\n",
    "site6 = pd.read_csv('settled_per_release_and_settledsite_n500_site6_PLD30_settledist10.csv', sep = '\\t')\n",
    "site7 = pd.read_csv('settled_per_release_and_settledsite_n500_site7_PLD30_settledist10.csv', sep = '\\t')\n",
    "site10 = pd.read_csv('settled_per_release_and_settledsite_n500_site10_PLD30_settledist10.csv', sep = '\\t')\n",
    "site11 = pd.read_csv('settled_per_release_and_settledsite_n500_site11_PLD30_settledist10.csv', sep = '\\t')\n",
    "site12 = pd.read_csv('settled_per_release_and_settledsite_n500_site12_PLD30_settledist10.csv', sep = '\\t')\n",
    "merge_sites = pd.concat([site1,site2,site3,site4,site5,site6,site7,site10,site11,site12])\n",
    "merge_sites.to_csv('/Users/taylorely/Documents/OceanModeling/settled_per_release_and_settledsite_n500_PLD30_settledist10.csv', sep='\\t')"
   ]
  },
  {
   "cell_type": "code",
   "execution_count": null,
   "id": "9b22837c",
   "metadata": {},
   "outputs": [],
   "source": [
    "site1 = pd.read_csv('settled_per_release_and_settledsite_n500_site1_PLD60_settledist10.csv', sep = '\\t')\n",
    "site2 = pd.read_csv('settled_per_release_and_settledsite_n500_site2_PLD60_settledist10.csv', sep = '\\t')\n",
    "site3 = pd.read_csv('settled_per_release_and_settledsite_n500_site3_PLD60_settledist10.csv', sep = '\\t')\n",
    "site4 = pd.read_csv('settled_per_release_and_settledsite_n500_site4_PLD60_settledist10.csv', sep = '\\t')\n",
    "site5 = pd.read_csv('settled_per_release_and_settledsite_n500_site5_PLD60_settledist10.csv', sep = '\\t')\n",
    "site6 = pd.read_csv('settled_per_release_and_settledsite_n500_site6_PLD60_settledist10.csv', sep = '\\t')\n",
    "site7 = pd.read_csv('settled_per_release_and_settledsite_n500_site7_PLD60_settledist10.csv', sep = '\\t')\n",
    "site10 = pd.read_csv('settled_per_release_and_settledsite_n500_site10_PLD60_settledist10.csv', sep = '\\t')\n",
    "site11 = pd.read_csv('settled_per_release_and_settledsite_n500_site11_PLD60_settledist10.csv', sep = '\\t')\n",
    "site12 = pd.read_csv('settled_per_release_and_settledsite_n500_site12_PLD60_settledist10.csv', sep = '\\t')\n",
    "merge_sites = pd.concat([site1,site2,site3,site4,site5,site6,site7,site10,site11,site12])\n",
    "merge_sites.to_csv('/Users/taylorely/Documents/OceanModeling/settled_per_release_and_settledsite_n500_PLD60_settledist10.csv', sep='\\t')"
   ]
  },
  {
   "cell_type": "code",
   "execution_count": null,
   "id": "2319e041",
   "metadata": {},
   "outputs": [],
   "source": [
    "site1 = pd.read_csv('settled_per_release_and_settledsite_n500_site1_PLD90_settledist10.csv', sep = '\\t')\n",
    "site2 = pd.read_csv('settled_per_release_and_settledsite_n500_site2_PLD90_settledist10.csv', sep = '\\t')\n",
    "site3 = pd.read_csv('settled_per_release_and_settledsite_n500_site3_PLD90_settledist10.csv', sep = '\\t')\n",
    "site4 = pd.read_csv('settled_per_release_and_settledsite_n500_site4_PLD90_settledist10.csv', sep = '\\t')\n",
    "site5 = pd.read_csv('settled_per_release_and_settledsite_n500_site5_PLD90_settledist10.csv', sep = '\\t')\n",
    "site6 = pd.read_csv('settled_per_release_and_settledsite_n500_site6_PLD90_settledist10.csv', sep = '\\t')\n",
    "site7 = pd.read_csv('settled_per_release_and_settledsite_n500_site7_PLD90_settledist10.csv', sep = '\\t')\n",
    "site10 = pd.read_csv('settled_per_release_and_settledsite_n500_site10_PLD90_settledist10.csv', sep = '\\t')\n",
    "site11 = pd.read_csv('settled_per_release_and_settledsite_n500_site11_PLD90_settledist10.csv', sep = '\\t')\n",
    "site12 = pd.read_csv('settled_per_release_and_settledsite_n500_site12_PLD90_settledist10.csv', sep = '\\t')\n",
    "merge_sites = pd.concat([site1,site2,site3,site4,site5,site6,site7,site10,site11,site12])\n",
    "merge_sites.to_csv('/Users/taylorely/Documents/OceanModeling/settled_per_release_and_settledsite_n500_PLD90_settledist10.csv', sep='\\t')"
   ]
  },
  {
   "cell_type": "code",
   "execution_count": null,
   "id": "985d6027",
   "metadata": {},
   "outputs": [],
   "source": [
    "site1 = pd.read_csv('settled_per_release_and_settledsite_n500_site1_PLD180_settledist10.csv', sep = '\\t')\n",
    "site2 = pd.read_csv('settled_per_release_and_settledsite_n500_site2_PLD180_settledist10.csv', sep = '\\t')\n",
    "site3 = pd.read_csv('settled_per_release_and_settledsite_n500_site3_PLD180_settledist10.csv', sep = '\\t')\n",
    "site4 = pd.read_csv('settled_per_release_and_settledsite_n500_site4_PLD180_settledist10.csv', sep = '\\t')\n",
    "site5 = pd.read_csv('settled_per_release_and_settledsite_n500_site5_PLD180_settledist10.csv', sep = '\\t')\n",
    "site6 = pd.read_csv('settled_per_release_and_settledsite_n500_site6_PLD180_settledist10.csv', sep = '\\t')\n",
    "site7 = pd.read_csv('settled_per_release_and_settledsite_n500_site7_part1_PLD180_settledist10.csv', sep = '\\t')\n",
    "site72 = pd.read_csv('settled_per_release_and_settledsite_n500_site7_part2_PLD180_settledist10.csv', sep = '\\t')\n",
    "site10 = pd.read_csv('settled_per_release_and_settledsite_n500_site10_PLD180_settledist10.csv', sep = '\\t')\n",
    "site11 = pd.read_csv('settled_per_release_and_settledsite_n500_site11_PLD180_settledist10.csv', sep = '\\t')\n",
    "site12 = pd.read_csv('settled_per_release_and_settledsite_n500_site12_PLD180_settledist10.csv', sep = '\\t')\n",
    "merge_sites = pd.concat([site1,site2,site3,site4,site5,site6,site7,site72,site10,site11,site12])\n",
    "merge_sites.to_csv('/Users/taylorely/Documents/OceanModeling/settled_per_release_and_settledsite_n500_PLD180_settledist10.csv', sep='\\t')"
   ]
  },
  {
   "cell_type": "code",
   "execution_count": null,
   "id": "ba1c5caf",
   "metadata": {},
   "outputs": [],
   "source": [
    "subset_1000_1 = netCDF4.Dataset('n1000_1.nc')\n",
    "nearest_neighbor(subset_1000_1, 15, 30, 10)\n",
    "os.rename('/Users/taylorely/Documents/OceanModeling/settled_per_release_and_settledsite_n500_site.csv','/Users/taylorely/Documents/OceanModeling/settled_per_release_and_settledsite_n1000_site1_PLD30_settledist10.csv')"
   ]
  },
  {
   "cell_type": "code",
   "execution_count": null,
   "id": "c392b3fe",
   "metadata": {},
   "outputs": [],
   "source": [
    "nearest_neighbor(subset_1000_1, 15, 60, 10)\n",
    "os.rename('/Users/taylorely/Documents/OceanModeling/settled_per_release_and_settledsite_n500_site.csv','/Users/taylorely/Documents/OceanModeling/settled_per_release_and_settledsite_n1000_site1_PLD60_settledist10.csv')"
   ]
  },
  {
   "cell_type": "code",
   "execution_count": null,
   "id": "74841ef0",
   "metadata": {},
   "outputs": [],
   "source": [
    "nearest_neighbor(subset_1000_1, 15, 90, 10)\n",
    "os.rename('/Users/taylorely/Documents/OceanModeling/settled_per_release_and_settledsite_n500_site.csv','/Users/taylorely/Documents/OceanModeling/settled_per_release_and_settledsite_n1000_site1_PLD90_settledist10.csv')"
   ]
  },
  {
   "cell_type": "code",
   "execution_count": null,
   "id": "495ed7ed",
   "metadata": {},
   "outputs": [],
   "source": [
    "subset_1000_1 = netCDF4.Dataset('n1000_1.nc')\n",
    "nearest_neighbor(subset_1000_1, 15, 180, 10)\n",
    "os.rename('/Users/taylorely/Documents/OceanModeling/settled_per_release_and_settledsite_n500_site.csv','/Users/taylorely/Documents/OceanModeling/settled_per_release_and_settledsite_n1000_site1_PLD180_settledist10.csv')\n",
    "del(subset_1000_1)"
   ]
  },
  {
   "cell_type": "code",
   "execution_count": null,
   "id": "f1247653",
   "metadata": {},
   "outputs": [],
   "source": [
    "subset_1000_2 = netCDF4.Dataset('n1000_2.nc')\n",
    "nearest_neighbor(subset_1000_2, 15, 30, 10)\n",
    "os.rename('/Users/taylorely/Documents/OceanModeling/settled_per_release_and_settledsite_n500_site.csv','/Users/taylorely/Documents/OceanModeling/settled_per_release_and_settledsite_n1000_site2_PLD30_settledist10.csv')"
   ]
  },
  {
   "cell_type": "code",
   "execution_count": null,
   "id": "22ca5ea7",
   "metadata": {},
   "outputs": [],
   "source": [
    "nearest_neighbor(subset_1000_2, 15, 60, 10)\n",
    "os.rename('/Users/taylorely/Documents/OceanModeling/settled_per_release_and_settledsite_n500_site.csv','/Users/taylorely/Documents/OceanModeling/settled_per_release_and_settledsite_n1000_site2_PLD60_settledist10.csv')"
   ]
  },
  {
   "cell_type": "code",
   "execution_count": null,
   "id": "4397ef17",
   "metadata": {},
   "outputs": [],
   "source": [
    "nearest_neighbor(subset_1000_2, 15, 90, 10)\n",
    "os.rename('/Users/taylorely/Documents/OceanModeling/settled_per_release_and_settledsite_n500_site.csv','/Users/taylorely/Documents/OceanModeling/settled_per_release_and_settledsite_n1000_site2_PLD90_settledist10.csv')"
   ]
  },
  {
   "cell_type": "code",
   "execution_count": null,
   "id": "1e8fc480",
   "metadata": {},
   "outputs": [],
   "source": [
    "subset_1000_2 = netCDF4.Dataset('n1000_2.nc')\n",
    "lon = subset_1000_2.variables['lon'][:]\n",
    "print(lon.shape)"
   ]
  },
  {
   "cell_type": "code",
   "execution_count": null,
   "id": "ab441ed9",
   "metadata": {},
   "outputs": [],
   "source": [
    "nearest_neighbor_divided(subset_1000_2, 0,1098000, 15, 180, 10)\n",
    "os.rename('/Users/taylorely/Documents/OceanModeling/settled_per_release_and_settledsite_n500_site.csv','/Users/taylorely/Documents/OceanModeling/settled_per_release_and_settledsite_n1000_site2_PLD180_part1_settledist10.csv')"
   ]
  },
  {
   "cell_type": "code",
   "execution_count": null,
   "id": "d57900f5",
   "metadata": {},
   "outputs": [],
   "source": [
    "nearest_neighbor_divided(subset_1000_2,1098000,2196000, 15, 180, 10)\n",
    "os.rename('/Users/taylorely/Documents/OceanModeling/settled_per_release_and_settledsite_n500_site.csv','/Users/taylorely/Documents/OceanModeling/settled_per_release_and_settledsite_n1000_site2_PLD180_part2_settledist10.csv')\n",
    "del(subset_1000_2)"
   ]
  },
  {
   "cell_type": "code",
   "execution_count": null,
   "id": "d9eecd46",
   "metadata": {},
   "outputs": [],
   "source": [
    "subset_1000_3 = netCDF4.Dataset('n1000_3.nc')\n",
    "nearest_neighbor(subset_1000_3, 15, 30, 10)\n",
    "os.rename('/Users/taylorely/Documents/OceanModeling/settled_per_release_and_settledsite_n500_site.csv','/Users/taylorely/Documents/OceanModeling/settled_per_release_and_settledsite_n1000_site3_PLD30_settledist10.csv')"
   ]
  },
  {
   "cell_type": "code",
   "execution_count": null,
   "id": "d3cea370",
   "metadata": {},
   "outputs": [],
   "source": [
    "nearest_neighbor(subset_1000_3, 15, 60, 10)\n",
    "os.rename('/Users/taylorely/Documents/OceanModeling/settled_per_release_and_settledsite_n500_site.csv','/Users/taylorely/Documents/OceanModeling/settled_per_release_and_settledsite_n1000_site3_PLD60_settledist10.csv')"
   ]
  },
  {
   "cell_type": "code",
   "execution_count": null,
   "id": "fc36bb85",
   "metadata": {},
   "outputs": [],
   "source": [
    "nearest_neighbor(subset_1000_3, 15, 90, 10)\n",
    "os.rename('/Users/taylorely/Documents/OceanModeling/settled_per_release_and_settledsite_n500_site.csv','/Users/taylorely/Documents/OceanModeling/settled_per_release_and_settledsite_n1000_site3_PLD90_settledist10.csv')"
   ]
  },
  {
   "cell_type": "code",
   "execution_count": null,
   "id": "d5c99c91",
   "metadata": {},
   "outputs": [],
   "source": [
    "nearest_neighbor(subset_1000_3, 15, 180, 10)\n",
    "os.rename('/Users/taylorely/Documents/OceanModeling/settled_per_release_and_settledsite_n500_site.csv','/Users/taylorely/Documents/OceanModeling/settled_per_release_and_settledsite_n1000_site3_PLD180_settledist10.csv')\n",
    "del(subset_1000_3)"
   ]
  },
  {
   "cell_type": "code",
   "execution_count": null,
   "id": "f766cbb4",
   "metadata": {},
   "outputs": [],
   "source": [
    "subset_1000_4 = netCDF4.Dataset('n1000_4.nc')\n",
    "nearest_neighbor(subset_1000_4, 15, 30, 10)\n",
    "os.rename('/Users/taylorely/Documents/OceanModeling/settled_per_release_and_settledsite_n500_site.csv','/Users/taylorely/Documents/OceanModeling/settled_per_release_and_settledsite_n1000_site4_PLD30_settledist10.csv')"
   ]
  },
  {
   "cell_type": "code",
   "execution_count": null,
   "id": "e636c747",
   "metadata": {},
   "outputs": [],
   "source": [
    "nearest_neighbor(subset_1000_4, 15, 60, 10)\n",
    "os.rename('/Users/taylorely/Documents/OceanModeling/settled_per_release_and_settledsite_n500_site.csv','/Users/taylorely/Documents/OceanModeling/settled_per_release_and_settledsite_n1000_site4_PLD60_settledist10.csv')"
   ]
  },
  {
   "cell_type": "code",
   "execution_count": null,
   "id": "ac9a02a7",
   "metadata": {},
   "outputs": [],
   "source": [
    "nearest_neighbor(subset_1000_4, 15, 90, 10)\n",
    "os.rename('/Users/taylorely/Documents/OceanModeling/settled_per_release_and_settledsite_n500_site.csv','/Users/taylorely/Documents/OceanModeling/settled_per_release_and_settledsite_n1000_site4_PLD90_settledist10.csv')"
   ]
  },
  {
   "cell_type": "code",
   "execution_count": null,
   "id": "e716c877",
   "metadata": {},
   "outputs": [],
   "source": [
    "nearest_neighbor(subset_1000_4, 15, 180, 10)\n",
    "os.rename('/Users/taylorely/Documents/OceanModeling/settled_per_release_and_settledsite_n500_site.csv','/Users/taylorely/Documents/OceanModeling/settled_per_release_and_settledsite_n1000_site4_PLD180_settledist10.csv')\n",
    "del(subset_1000_4)"
   ]
  },
  {
   "cell_type": "code",
   "execution_count": null,
   "id": "61fb0dc4",
   "metadata": {},
   "outputs": [],
   "source": [
    "subset_1000_5 = netCDF4.Dataset('n1000_5.nc')\n",
    "nearest_neighbor(subset_1000_5, 15, 30, 10)\n",
    "os.rename('/Users/taylorely/Documents/OceanModeling/settled_per_release_and_settledsite_n500_site.csv','/Users/taylorely/Documents/OceanModeling/settled_per_release_and_settledsite_n1000_site5_PLD30_settledist10.csv')"
   ]
  },
  {
   "cell_type": "code",
   "execution_count": null,
   "id": "7c1b88e5",
   "metadata": {},
   "outputs": [],
   "source": [
    "nearest_neighbor(subset_1000_5, 15, 60, 10)\n",
    "os.rename('/Users/taylorely/Documents/OceanModeling/settled_per_release_and_settledsite_n500_site.csv','/Users/taylorely/Documents/OceanModeling/settled_per_release_and_settledsite_n1000_site5_PLD60_settledist10.csv')"
   ]
  },
  {
   "cell_type": "code",
   "execution_count": null,
   "id": "e87ff4e8",
   "metadata": {},
   "outputs": [],
   "source": [
    "nearest_neighbor(subset_1000_5, 15, 90, 10)\n",
    "os.rename('/Users/taylorely/Documents/OceanModeling/settled_per_release_and_settledsite_n500_site.csv','/Users/taylorely/Documents/OceanModeling/settled_per_release_and_settledsite_n1000_site5_PLD90_settledist10.csv')"
   ]
  },
  {
   "cell_type": "code",
   "execution_count": null,
   "id": "ab8b592d",
   "metadata": {},
   "outputs": [],
   "source": [
    "nearest_neighbor(subset_1000_5, 15, 180, 10)\n",
    "os.rename('/Users/taylorely/Documents/OceanModeling/settled_per_release_and_settledsite_n500_site.csv','/Users/taylorely/Documents/OceanModeling/settled_per_release_and_settledsite_n1000_site5_PLD180_settledist10.csv')\n",
    "del(subset_1000_5)"
   ]
  },
  {
   "cell_type": "code",
   "execution_count": null,
   "id": "b7bbbfce",
   "metadata": {},
   "outputs": [],
   "source": [
    "subset_1000_6 = netCDF4.Dataset('n1000_6.nc')\n",
    "nearest_neighbor(subset_1000_6, 15, 30, 10)\n",
    "os.rename('/Users/taylorely/Documents/OceanModeling/settled_per_release_and_settledsite_n500_site.csv','/Users/taylorely/Documents/OceanModeling/settled_per_release_and_settledsite_n1000_site6_PLD30_settledist10.csv')"
   ]
  },
  {
   "cell_type": "code",
   "execution_count": null,
   "id": "23a18254",
   "metadata": {},
   "outputs": [],
   "source": [
    "nearest_neighbor(subset_1000_6, 15, 60, 10)\n",
    "os.rename('/Users/taylorely/Documents/OceanModeling/settled_per_release_and_settledsite_n500_site.csv','/Users/taylorely/Documents/OceanModeling/settled_per_release_and_settledsite_n1000_site6_PLD60_settledist10.csv')"
   ]
  },
  {
   "cell_type": "code",
   "execution_count": null,
   "id": "72d275ce",
   "metadata": {},
   "outputs": [],
   "source": [
    "nearest_neighbor(subset_1000_6, 15, 90, 10)\n",
    "os.rename('/Users/taylorely/Documents/OceanModeling/settled_per_release_and_settledsite_n500_site.csv','/Users/taylorely/Documents/OceanModeling/settled_per_release_and_settledsite_n1000_site6_PLD90_settledist10.csv')"
   ]
  },
  {
   "cell_type": "code",
   "execution_count": null,
   "id": "80092fbf",
   "metadata": {},
   "outputs": [],
   "source": [
    "subset_1000_6 = netCDF4.Dataset('n1000_6.nc')\n",
    "lon6 = subset_1000_6.variables['lon'][:]\n",
    "print(lon6.shape)"
   ]
  },
  {
   "cell_type": "code",
   "execution_count": null,
   "id": "8d5dd8b0",
   "metadata": {},
   "outputs": [],
   "source": [
    "del(lon6)\n",
    "nearest_neighbor_divided(subset_1000_6,0,1098000, 15, 180, 10)\n",
    "os.rename('/Users/taylorely/Documents/OceanModeling/settled_per_release_and_settledsite_n500_site.csv','/Users/taylorely/Documents/OceanModeling/settled_per_release_and_settledsite_n1000_site6_part1_PLD180_settledist10.csv')"
   ]
  },
  {
   "cell_type": "code",
   "execution_count": null,
   "id": "cf1f3784",
   "metadata": {},
   "outputs": [],
   "source": [
    "nearest_neighbor_divided(subset_1000_6,1098000,2196000, 15, 180, 10)\n",
    "os.rename('/Users/taylorely/Documents/OceanModeling/settled_per_release_and_settledsite_n500_site.csv','/Users/taylorely/Documents/OceanModeling/settled_per_release_and_settledsite_n1000_site6_part2_PLD180_settledist10.csv')\n",
    "del(subset_1000_6)"
   ]
  },
  {
   "cell_type": "code",
   "execution_count": null,
   "id": "fc7c46ce",
   "metadata": {},
   "outputs": [],
   "source": [
    "subset_1000_7 = netCDF4.Dataset('LAPS_sensitivity_n1000_pld180_5m_Kh10_nday545_daily_07012012_first.nc')\n",
    "lon2 = subset_1000_7.variables['lon'][:]\n",
    "print(lon2.shape)\n",
    "del(lon2)"
   ]
  },
  {
   "cell_type": "code",
   "execution_count": null,
   "id": "cee8c0c8",
   "metadata": {},
   "outputs": [],
   "source": [
    "nearest_neighbor(subset_1000_7, 15, 30, 10)\n",
    "os.rename('/Users/taylorely/Documents/OceanModeling/settled_per_release_and_settledsite_n500_site.csv','/Users/taylorely/Documents/OceanModeling/settled_per_release_and_settledsite_n1000_site7_PLD30_settledist10.csv')"
   ]
  },
  {
   "cell_type": "code",
   "execution_count": null,
   "id": "f2e0ed6a",
   "metadata": {},
   "outputs": [],
   "source": [
    "nearest_neighbor_divided(subset_1000_7,0,2562000, 15, 60, 10)\n",
    "os.rename('/Users/taylorely/Documents/OceanModeling/settled_per_release_and_settledsite_n500_site.csv','/Users/taylorely/Documents/OceanModeling/settled_per_release_and_settledsite_n1000_site7_part1_PLD60_settledist10.csv')"
   ]
  },
  {
   "cell_type": "code",
   "execution_count": null,
   "id": "d6bcdd3e",
   "metadata": {},
   "outputs": [],
   "source": [
    "nearest_neighbor_divided(subset_1000_7,2562000, 5124000,15, 60, 10)\n",
    "os.rename('/Users/taylorely/Documents/OceanModeling/settled_per_release_and_settledsite_n500_site.csv','/Users/taylorely/Documents/OceanModeling/settled_per_release_and_settledsite_n1000_site7_part2_PLD60_settledist10.csv')"
   ]
  },
  {
   "cell_type": "code",
   "execution_count": null,
   "id": "10926184",
   "metadata": {},
   "outputs": [],
   "source": [
    "nearest_neighbor_divided(subset_1000_7,0,1708000,  15, 90, 10)\n",
    "os.rename('/Users/taylorely/Documents/OceanModeling/settled_per_release_and_settledsite_n500_site.csv','/Users/taylorely/Documents/OceanModeling/settled_per_release_and_settledsite_n1000_site7_part1_PLD90_settledist10.csv')"
   ]
  },
  {
   "cell_type": "code",
   "execution_count": null,
   "id": "67d11a96",
   "metadata": {},
   "outputs": [],
   "source": [
    "nearest_neighbor_divided(subset_1000_7,1708000,3416000, 15, 90, 10)\n",
    "os.rename('/Users/taylorely/Documents/OceanModeling/settled_per_release_and_settledsite_n500_site.csv','/Users/taylorely/Documents/OceanModeling/settled_per_release_and_settledsite_n1000_site7_part2_PLD90_settledist10.csv')"
   ]
  },
  {
   "cell_type": "code",
   "execution_count": null,
   "id": "0a814df3",
   "metadata": {},
   "outputs": [],
   "source": [
    "nearest_neighbor_divided(subset_1000_7, 3416000,5124000, 15, 90, 10)\n",
    "os.rename('/Users/taylorely/Documents/OceanModeling/settled_per_release_and_settledsite_n500_site.csv','/Users/taylorely/Documents/OceanModeling/settled_per_release_and_settledsite_n1000_site7_part3_PLD90_settledist10.csv')"
   ]
  },
  {
   "cell_type": "code",
   "execution_count": null,
   "id": "764c778e",
   "metadata": {},
   "outputs": [],
   "source": [
    "nearest_neighbor_divided(subset_1000_7,0,1708000, 15, 180, 10)\n",
    "os.rename('/Users/taylorely/Documents/OceanModeling/settled_per_release_and_settledsite_n500_site.csv','/Users/taylorely/Documents/OceanModeling/settled_per_release_and_settledsite_n1000_site7_part1_PLD180_settledist10.csv')"
   ]
  },
  {
   "cell_type": "code",
   "execution_count": null,
   "id": "42edd202",
   "metadata": {},
   "outputs": [],
   "source": [
    "nearest_neighbor_divided(subset_1000_7,1708000,3416000, 15, 180, 10)\n",
    "os.rename('/Users/taylorely/Documents/OceanModeling/settled_per_release_and_settledsite_n500_site.csv','/Users/taylorely/Documents/OceanModeling/settled_per_release_and_settledsite_n1000_site7_part2_PLD180_settledist10.csv')"
   ]
  },
  {
   "cell_type": "code",
   "execution_count": null,
   "id": "781a69bd",
   "metadata": {},
   "outputs": [],
   "source": [
    "nearest_neighbor_divided(subset_1000_7,3416000,5124000, 15, 180, 10)\n",
    "os.rename('/Users/taylorely/Documents/OceanModeling/settled_per_release_and_settledsite_n500_site.csv','/Users/taylorely/Documents/OceanModeling/settled_per_release_and_settledsite_n1000_site7_part3_PLD180_settledist10.csv')\n",
    "del(subset_1000_7)"
   ]
  },
  {
   "cell_type": "code",
   "execution_count": null,
   "id": "8614eb0c",
   "metadata": {},
   "outputs": [],
   "source": [
    "subset_1000_10 = netCDF4.Dataset('n1000_10.nc')\n",
    "nearest_neighbor(subset_1000_10, 15, 30, 10)\n",
    "os.rename('/Users/taylorely/Documents/OceanModeling/settled_per_release_and_settledsite_n500_site.csv','/Users/taylorely/Documents/OceanModeling/settled_per_release_and_settledsite_n1000_site10_PLD30_settledist10.csv')"
   ]
  },
  {
   "cell_type": "code",
   "execution_count": null,
   "id": "2c70db49",
   "metadata": {},
   "outputs": [],
   "source": [
    "nearest_neighbor(subset_1000_10, 15, 60, 10)\n",
    "os.rename('/Users/taylorely/Documents/OceanModeling/settled_per_release_and_settledsite_n500_site.csv','/Users/taylorely/Documents/OceanModeling/settled_per_release_and_settledsite_n1000_site10_PLD60_settledist10.csv')"
   ]
  },
  {
   "cell_type": "code",
   "execution_count": null,
   "id": "e7862db2",
   "metadata": {},
   "outputs": [],
   "source": [
    "nearest_neighbor(subset_1000_10, 15, 90, 10)\n",
    "os.rename('/Users/taylorely/Documents/OceanModeling/settled_per_release_and_settledsite_n500_site.csv','/Users/taylorely/Documents/OceanModeling/settled_per_release_and_settledsite_n1000_site10_PLD90_settledist10.csv')"
   ]
  },
  {
   "cell_type": "code",
   "execution_count": null,
   "id": "42d0c34a",
   "metadata": {},
   "outputs": [],
   "source": [
    "nearest_neighbor(subset_1000_10, 15, 180, 10)\n",
    "os.rename('/Users/taylorely/Documents/OceanModeling/settled_per_release_and_settledsite_n500_site.csv','/Users/taylorely/Documents/OceanModeling/settled_per_release_and_settledsite_n1000_site10_PLD180_settledist10.csv')\n",
    "del(subset_1000_10)"
   ]
  },
  {
   "cell_type": "code",
   "execution_count": null,
   "id": "be5d787e",
   "metadata": {},
   "outputs": [],
   "source": [
    "subset_1000_11 = netCDF4.Dataset('n1000_11.nc')\n",
    "nearest_neighbor(subset_1000_11, 15, 30, 10)\n",
    "os.rename('/Users/taylorely/Documents/OceanModeling/settled_per_release_and_settledsite_n500_site.csv','/Users/taylorely/Documents/OceanModeling/settled_per_release_and_settledsite_n1000_site11_PLD30_settledist10.csv')"
   ]
  },
  {
   "cell_type": "code",
   "execution_count": null,
   "id": "80d1f8d0",
   "metadata": {},
   "outputs": [],
   "source": [
    "nearest_neighbor(subset_1000_11, 15, 60, 10)\n",
    "os.rename('/Users/taylorely/Documents/OceanModeling/settled_per_release_and_settledsite_n500_site.csv','/Users/taylorely/Documents/OceanModeling/settled_per_release_and_settledsite_n1000_site11_PLD60_settledist10.csv')"
   ]
  },
  {
   "cell_type": "code",
   "execution_count": null,
   "id": "44f30d14",
   "metadata": {},
   "outputs": [],
   "source": [
    "nearest_neighbor(subset_1000_11, 15, 90, 10)\n",
    "os.rename('/Users/taylorely/Documents/OceanModeling/settled_per_release_and_settledsite_n500_site.csv','/Users/taylorely/Documents/OceanModeling/settled_per_release_and_settledsite_n1000_site11_PLD90_settledist10.csv')"
   ]
  },
  {
   "cell_type": "code",
   "execution_count": null,
   "id": "e180d865",
   "metadata": {},
   "outputs": [],
   "source": [
    "nearest_neighbor(subset_1000_11, 15, 180, 10)\n",
    "os.rename('/Users/taylorely/Documents/OceanModeling/settled_per_release_and_settledsite_n500_site.csv','/Users/taylorely/Documents/OceanModeling/settled_per_release_and_settledsite_n1000_site11_PLD180_settledist10.csv')\n",
    "del(subset_1000_11)"
   ]
  },
  {
   "cell_type": "code",
   "execution_count": null,
   "id": "3087b3dd",
   "metadata": {},
   "outputs": [],
   "source": [
    "subset_1000_12 = netCDF4.Dataset('n1000_12.nc')\n",
    "nearest_neighbor(subset_1000_12, 15, 30, 10)\n",
    "os.rename('/Users/taylorely/Documents/OceanModeling/settled_per_release_and_settledsite_n500_site.csv','/Users/taylorely/Documents/OceanModeling/settled_per_release_and_settledsite_n1000_site12_PLD30_settledist10.csv')"
   ]
  },
  {
   "cell_type": "code",
   "execution_count": null,
   "id": "82c06b9c",
   "metadata": {},
   "outputs": [],
   "source": [
    "nearest_neighbor(subset_1000_12, 15, 60, 10)\n",
    "os.rename('/Users/taylorely/Documents/OceanModeling/settled_per_release_and_settledsite_n500_site.csv','/Users/taylorely/Documents/OceanModeling/settled_per_release_and_settledsite_n1000_site12_PLD60_settledist10.csv')"
   ]
  },
  {
   "cell_type": "code",
   "execution_count": null,
   "id": "1b51d17a",
   "metadata": {},
   "outputs": [],
   "source": [
    "nearest_neighbor(subset_1000_12, 15, 90, 10)\n",
    "os.rename('/Users/taylorely/Documents/OceanModeling/settled_per_release_and_settledsite_n500_site.csv','/Users/taylorely/Documents/OceanModeling/settled_per_release_and_settledsite_n1000_site12_PLD90_settledist10.csv')"
   ]
  },
  {
   "cell_type": "code",
   "execution_count": null,
   "id": "ece3ee0d",
   "metadata": {},
   "outputs": [],
   "source": [
    "subset_1000_12 = netCDF4.Dataset('n1000_12.nc')\n",
    "lon2 = subset_1000_12.variables['lon'][:]\n",
    "print(lon2.shape)\n",
    "del(lon2)"
   ]
  },
  {
   "cell_type": "code",
   "execution_count": null,
   "id": "7eed6074",
   "metadata": {},
   "outputs": [],
   "source": [
    "nearest_neighbor_divided(subset_1000_12, 0,732000, 15, 180, 10)\n",
    "os.rename('/Users/taylorely/Documents/OceanModeling/settled_per_release_and_settledsite_n500_site.csv','/Users/taylorely/Documents/OceanModeling/settled_per_release_and_settledsite_n1000_site12_part1_PLD180_settledist10.csv')"
   ]
  },
  {
   "cell_type": "code",
   "execution_count": null,
   "id": "1eead65d",
   "metadata": {},
   "outputs": [],
   "source": [
    "nearest_neighbor_divided(subset_1000_12,732000,1464000, 15, 180, 10)\n",
    "os.rename('/Users/taylorely/Documents/OceanModeling/settled_per_release_and_settledsite_n500_site.csv','/Users/taylorely/Documents/OceanModeling/settled_per_release_and_settledsite_n1000_site12_part2_PLD180_settledist10.csv')\n",
    "del(subset_1000_12)"
   ]
  },
  {
   "cell_type": "code",
   "execution_count": null,
   "id": "ba9a001e",
   "metadata": {},
   "outputs": [],
   "source": [
    "site1 = pd.read_csv('settled_per_release_and_settledsite_n1000_site1_PLD30_settledist10.csv', sep = '\\t')\n",
    "site2 = pd.read_csv('settled_per_release_and_settledsite_n1000_site2_PLD30_settledist10.csv', sep = '\\t')\n",
    "site3 = pd.read_csv('settled_per_release_and_settledsite_n1000_site3_PLD30_settledist10.csv', sep = '\\t')\n",
    "site4 = pd.read_csv('settled_per_release_and_settledsite_n1000_site4_PLD30_settledist10.csv', sep = '\\t')\n",
    "site5 = pd.read_csv('settled_per_release_and_settledsite_n1000_site5_PLD30_settledist10.csv', sep = '\\t')\n",
    "site6 = pd.read_csv('settled_per_release_and_settledsite_n1000_site6_PLD30_settledist10.csv', sep = '\\t')\n",
    "site7 = pd.read_csv('settled_per_release_and_settledsite_n1000_site7_PLD30_settledist10.csv', sep = '\\t')\n",
    "site10 = pd.read_csv('settled_per_release_and_settledsite_n1000_site10_PLD30_settledist10.csv', sep = '\\t')\n",
    "site11 = pd.read_csv('settled_per_release_and_settledsite_n1000_site11_PLD30_settledist10.csv', sep = '\\t')\n",
    "site12 = pd.read_csv('settled_per_release_and_settledsite_n1000_site12_PLD30_settledist10.csv', sep = '\\t')\n",
    "merge_sites = pd.concat([site1,site2,site3,site4,site5,site6,site7,site10,site11,site12])\n",
    "merge_sites.to_csv('/Users/taylorely/Documents/OceanModeling/settled_per_release_and_settledsite_n1000_PLD30_settledist10.csv', sep='\\t')\n",
    "del(merge_sites)"
   ]
  },
  {
   "cell_type": "code",
   "execution_count": null,
   "id": "04cf14de",
   "metadata": {},
   "outputs": [],
   "source": [
    "site1 = pd.read_csv('settled_per_release_and_settledsite_n1000_site1_PLD60_settledist10.csv', sep = '\\t')\n",
    "site2 = pd.read_csv('settled_per_release_and_settledsite_n1000_site2_PLD60_settledist10.csv', sep = '\\t')\n",
    "site3 = pd.read_csv('settled_per_release_and_settledsite_n1000_site3_PLD60_settledist10.csv', sep = '\\t')\n",
    "site4 = pd.read_csv('settled_per_release_and_settledsite_n1000_site4_PLD60_settledist10.csv', sep = '\\t')\n",
    "site5 = pd.read_csv('settled_per_release_and_settledsite_n1000_site5_PLD60_settledist10.csv', sep = '\\t')\n",
    "site6 = pd.read_csv('settled_per_release_and_settledsite_n1000_site6_PLD60_settledist10.csv', sep = '\\t')\n",
    "site7 = pd.read_csv('settled_per_release_and_settledsite_n1000_site7_part1_PLD60_settledist10.csv', sep = '\\t')\n",
    "site72 = pd.read_csv('settled_per_release_and_settledsite_n1000_site7_part2_PLD60_settledist10.csv', sep = '\\t')\n",
    "site10 = pd.read_csv('settled_per_release_and_settledsite_n1000_site10_PLD60_settledist10.csv', sep = '\\t')\n",
    "site11 = pd.read_csv('settled_per_release_and_settledsite_n1000_site11_PLD60_settledist10.csv', sep = '\\t')\n",
    "site12 = pd.read_csv('settled_per_release_and_settledsite_n1000_site12_PLD60_settledist10.csv', sep = '\\t')\n",
    "merge_sites = pd.concat([site1,site2,site3,site4,site5,site6,site7,site72,site10,site11,site12])\n",
    "merge_sites.to_csv('/Users/taylorely/Documents/OceanModeling/settled_per_release_and_settledsite_n1000_PLD60_settledist10.csv', sep='\\t')\n",
    "del(merge_sites)"
   ]
  },
  {
   "cell_type": "code",
   "execution_count": null,
   "id": "0376d9eb",
   "metadata": {},
   "outputs": [],
   "source": [
    "site1 = pd.read_csv('settled_per_release_and_settledsite_n1000_site1_PLD90_settledist10.csv', sep = '\\t')\n",
    "site2 = pd.read_csv('settled_per_release_and_settledsite_n1000_site2_PLD90_settledist10.csv', sep = '\\t')\n",
    "site3 = pd.read_csv('settled_per_release_and_settledsite_n1000_site3_PLD90_settledist10.csv', sep = '\\t')\n",
    "site4 = pd.read_csv('settled_per_release_and_settledsite_n1000_site4_PLD90_settledist10.csv', sep = '\\t')\n",
    "site5 = pd.read_csv('settled_per_release_and_settledsite_n1000_site5_PLD90_settledist10.csv', sep = '\\t')\n",
    "site6 = pd.read_csv('settled_per_release_and_settledsite_n1000_site6_PLD90_settledist10.csv', sep = '\\t')\n",
    "site7 = pd.read_csv('settled_per_release_and_settledsite_n1000_site7_part1_PLD90_settledist10.csv', sep = '\\t')\n",
    "site72 = pd.read_csv('settled_per_release_and_settledsite_n1000_site7_part2_PLD90_settledist10.csv', sep = '\\t')\n",
    "site73 = pd.read_csv('settled_per_release_and_settledsite_n1000_site7_part3_PLD90_settledist10.csv', sep = '\\t')\n",
    "site10 = pd.read_csv('settled_per_release_and_settledsite_n1000_site10_PLD90_settledist10.csv', sep = '\\t')\n",
    "site11 = pd.read_csv('settled_per_release_and_settledsite_n1000_site11_PLD90_settledist10.csv', sep = '\\t')\n",
    "site12 = pd.read_csv('settled_per_release_and_settledsite_n1000_site12_PLD90_settledist10.csv', sep = '\\t')\n",
    "merge_sites = pd.concat([site1,site2,site3,site4,site5,site6,site7,site72,site73,site10,site11,site12])\n",
    "merge_sites.to_csv('/Users/taylorely/Documents/OceanModeling/settled_per_release_and_settledsite_n1000_PLD90_settledist10.csv', sep='\\t')\n",
    "del(merge_sites)"
   ]
  },
  {
   "cell_type": "code",
   "execution_count": null,
   "id": "fda26969",
   "metadata": {},
   "outputs": [],
   "source": [
    "site1 = pd.read_csv('settled_per_release_and_settledsite_n1000_site1_PLD180_settledist10.csv', sep = '\\t')\n",
    "site2 = pd.read_csv('settled_per_release_and_settledsite_n1000_site2_PLD180_part1_settledist10.csv', sep = '\\t')\n",
    "site22 = pd.read_csv('settled_per_release_and_settledsite_n1000_site2_PLD180_part2_settledist10.csv', sep = '\\t')\n",
    "site3 = pd.read_csv('settled_per_release_and_settledsite_n1000_site3_PLD180_settledist10.csv', sep = '\\t')\n",
    "site4 = pd.read_csv('settled_per_release_and_settledsite_n1000_site4_PLD180_settledist10.csv', sep = '\\t')\n",
    "site5 = pd.read_csv('settled_per_release_and_settledsite_n1000_site5_PLD180_settledist10.csv', sep = '\\t')\n",
    "site6 = pd.read_csv('settled_per_release_and_settledsite_n1000_site6_part1_PLD180_settledist10.csv', sep = '\\t')\n",
    "site62 = pd.read_csv('settled_per_release_and_settledsite_n1000_site6_part2_PLD180_settledist10.csv', sep = '\\t')\n",
    "site7 = pd.read_csv('settled_per_release_and_settledsite_n1000_site7_part1_PLD180_settledist10.csv', sep = '\\t')\n",
    "site72 = pd.read_csv('settled_per_release_and_settledsite_n1000_site7_part2_PLD180_settledist10.csv', sep = '\\t')\n",
    "site73 = pd.read_csv('settled_per_release_and_settledsite_n1000_site7_part3_PLD180_settledist10.csv', sep = '\\t')\n",
    "site10 = pd.read_csv('settled_per_release_and_settledsite_n1000_site10_PLD180_settledist10.csv', sep = '\\t')\n",
    "site11 = pd.read_csv('settled_per_release_and_settledsite_n1000_site11_PLD180_settledist10.csv', sep = '\\t')\n",
    "site12 = pd.read_csv('settled_per_release_and_settledsite_n1000_site12_part1_PLD180_settledist10.csv', sep = '\\t')\n",
    "site122 = pd.read_csv('settled_per_release_and_settledsite_n1000_site12_part2_PLD180_settledist10.csv', sep = '\\t')\n",
    "merge_sites = pd.concat([site1,site2,site22,site3,site4,site5,site6,site62,site7,site72,site73,site10,site11,site12,site122])\n",
    "merge_sites.to_csv('/Users/taylorely/Documents/OceanModeling/settled_per_release_and_settledsite_n1000_PLD180_settledist10.csv', sep='\\t')\n",
    "del(merge_sites)"
   ]
  },
  {
   "cell_type": "code",
   "execution_count": null,
   "id": "f7f855e2",
   "metadata": {},
   "outputs": [],
   "source": [
    "subset_250 = netCDF4.Dataset('LAPS_sensitivity_n250_pld180_5m_Kh10_nday545_daily_07012012.nc')\n",
    "nearest_neighbor(subset_250, 15, 30, 10)\n",
    "os.rename('/Users/taylorely/Documents/OceanModeling/settled_per_release_and_settledsite_n500_site.csv','/Users/taylorely/Documents/OceanModeling/settled_per_release_and_settledsite_n250_PLD30_settledist10.csv')"
   ]
  },
  {
   "cell_type": "code",
   "execution_count": null,
   "id": "0879a735",
   "metadata": {},
   "outputs": [],
   "source": [
    "nearest_neighbor(subset_250, 15, 60, 10)\n",
    "os.rename('/Users/taylorely/Documents/OceanModeling/settled_per_release_and_settledsite_n500_site.csv','/Users/taylorely/Documents/OceanModeling/settled_per_release_and_settledsite_n250_PLD60_settledist10.csv')"
   ]
  },
  {
   "cell_type": "code",
   "execution_count": null,
   "id": "de2d6197",
   "metadata": {},
   "outputs": [],
   "source": [
    "nearest_neighbor(subset_250, 15, 90, 10)\n",
    "os.rename('/Users/taylorely/Documents/OceanModeling/settled_per_release_and_settledsite_n500_site.csv','/Users/taylorely/Documents/OceanModeling/settled_per_release_and_settledsite_n250_PLD90_settledist10.csv')"
   ]
  },
  {
   "cell_type": "code",
   "execution_count": null,
   "id": "625bcab4",
   "metadata": {},
   "outputs": [],
   "source": [
    "subset_250  = netCDF4.Dataset('LAPS_sensitivity_n250_pld180_5m_Kh10_nday545_daily_07012012.nc')\n",
    "lon2 = subset_250.variables['lon'][:]\n",
    "print(lon2.shape)\n",
    "del(lon2)"
   ]
  },
  {
   "cell_type": "code",
   "execution_count": null,
   "id": "f1501dc2",
   "metadata": {},
   "outputs": [],
   "source": [
    "nearest_neighbor_divided(subset_250, 0, 1875750, 15, 180, 10)\n",
    "os.rename('/Users/taylorely/Documents/OceanModeling/settled_per_release_and_settledsite_n500_site.csv','/Users/taylorely/Documents/OceanModeling/settled_per_release_and_settledsite_n250_PLD180_part1_settledist10.csv')"
   ]
  },
  {
   "cell_type": "code",
   "execution_count": null,
   "id": "a8dcbc3a",
   "metadata": {},
   "outputs": [],
   "source": [
    "nearest_neighbor_divided(subset_250,1875750,3751500, 15, 180, 10)\n",
    "os.rename('/Users/taylorely/Documents/OceanModeling/settled_per_release_and_settledsite_n500_site.csv','/Users/taylorely/Documents/OceanModeling/settled_per_release_and_settledsite_n250_PLD180_part2_settledist10.csv')"
   ]
  },
  {
   "cell_type": "code",
   "execution_count": null,
   "id": "38692555",
   "metadata": {},
   "outputs": [],
   "source": [
    "del(subset_250)"
   ]
  },
  {
   "cell_type": "code",
   "execution_count": null,
   "id": "ec9d4edf",
   "metadata": {},
   "outputs": [],
   "source": [
    "site1 = pd.read_csv('settled_per_release_and_settledsite_n250_PLD180_part1_settledist10.csv', sep = '\\t')\n",
    "site2 = pd.read_csv('settled_per_release_and_settledsite_n250_PLD180_part2_settledist10.csv', sep = '\\t')\n",
    "merge_sites = pd.concat([site1,site2])\n",
    "merge_sites.to_csv('/Users/taylorely/Documents/OceanModeling/settled_per_release_and_settledsite_n250_PLD180_settledist10.csv', sep='\\t')\n",
    "del(merge_sites)"
   ]
  },
  {
   "cell_type": "code",
   "execution_count": null,
   "id": "adc1079b",
   "metadata": {},
   "outputs": [],
   "source": [
    "subset_750_first = netCDF4.Dataset('LAPS_sensitivity_n750_pld180_5m_Kh10_nday545_daily_07012012_first.nc')\n",
    "nearest_neighbor(subset_750_first, 15, 30, 10)\n",
    "os.rename('/Users/taylorely/Documents/OceanModeling/settled_per_release_and_settledsite_n500_site.csv','/Users/taylorely/Documents/OceanModeling/settled_per_release_and_settledsite_n750_first_PLD30_settledist10.csv')"
   ]
  },
  {
   "cell_type": "code",
   "execution_count": null,
   "id": "85f48b6b",
   "metadata": {},
   "outputs": [],
   "source": [
    "nearest_neighbor(subset_750_first, 15, 60, 10)\n",
    "os.rename('/Users/taylorely/Documents/OceanModeling/settled_per_release_and_settledsite_n500_site.csv','/Users/taylorely/Documents/OceanModeling/settled_per_release_and_settledsite_n750_first_PLD60_settledist10.csv')"
   ]
  },
  {
   "cell_type": "code",
   "execution_count": null,
   "id": "3f0801c3",
   "metadata": {},
   "outputs": [],
   "source": [
    "nearest_neighbor(subset_750_first, 15, 90, 10)\n",
    "os.rename('/Users/taylorely/Documents/OceanModeling/settled_per_release_and_settledsite_n500_site.csv','/Users/taylorely/Documents/OceanModeling/settled_per_release_and_settledsite_n750_first_PLD90_settledist10.csv')"
   ]
  },
  {
   "cell_type": "code",
   "execution_count": null,
   "id": "60277d68",
   "metadata": {},
   "outputs": [],
   "source": [
    "lon2 = subset_750_first.variables['lon'][:]\n",
    "print(lon2.shape)\n",
    "del(lon2)"
   ]
  },
  {
   "cell_type": "code",
   "execution_count": null,
   "id": "e42eaea2",
   "metadata": {},
   "outputs": [],
   "source": [
    "nearest_neighbor_divided(subset_750_first,0,1921500, 15, 180, 10)\n",
    "os.rename('/Users/taylorely/Documents/OceanModeling/settled_per_release_and_settledsite_n500_site.csv','/Users/taylorely/Documents/OceanModeling/settled_per_release_and_settledsite_n750_first_PLD180_part1_settledist10.csv')"
   ]
  },
  {
   "cell_type": "code",
   "execution_count": null,
   "id": "9891eee1",
   "metadata": {},
   "outputs": [],
   "source": [
    "nearest_neighbor_divided(subset_750_first,1921500,3843000, 15, 180, 10)\n",
    "os.rename('/Users/taylorely/Documents/OceanModeling/settled_per_release_and_settledsite_n500_site.csv','/Users/taylorely/Documents/OceanModeling/settled_per_release_and_settledsite_n750_first_PLD180_part2_settledist10.csv')"
   ]
  },
  {
   "cell_type": "code",
   "execution_count": null,
   "id": "159972ea",
   "metadata": {},
   "outputs": [],
   "source": [
    "del(subset_750_first)"
   ]
  },
  {
   "cell_type": "code",
   "execution_count": null,
   "id": "53bca6fb",
   "metadata": {},
   "outputs": [],
   "source": [
    "subset_750_second = netCDF4.Dataset('LAPS_sensitivity_n750_pld180_5m_Kh10_nday545_daily_07012012_second.nc')\n",
    "nearest_neighbor(subset_750_second, 15, 30, 10)\n",
    "os.rename('/Users/taylorely/Documents/OceanModeling/settled_per_release_and_settledsite_n500_site.csv','/Users/taylorely/Documents/OceanModeling/settled_per_release_and_settledsite_n750_second_PLD30_settledist10.csv')"
   ]
  },
  {
   "cell_type": "code",
   "execution_count": null,
   "id": "ede41c81",
   "metadata": {},
   "outputs": [],
   "source": [
    "nearest_neighbor(subset_750_second, 15, 60, 10)\n",
    "os.rename('/Users/taylorely/Documents/OceanModeling/settled_per_release_and_settledsite_n500_site.csv','/Users/taylorely/Documents/OceanModeling/settled_per_release_and_settledsite_n750_second_PLD60_settledist10.csv')"
   ]
  },
  {
   "cell_type": "code",
   "execution_count": null,
   "id": "0af826a6",
   "metadata": {},
   "outputs": [],
   "source": [
    "nearest_neighbor(subset_750_second, 15, 90, 10)\n",
    "os.rename('/Users/taylorely/Documents/OceanModeling/settled_per_release_and_settledsite_n500_site.csv','/Users/taylorely/Documents/OceanModeling/settled_per_release_and_settledsite_n750_second_PLD90_settledist10.csv')"
   ]
  },
  {
   "cell_type": "code",
   "execution_count": null,
   "id": "f9a18b44",
   "metadata": {},
   "outputs": [],
   "source": [
    "lon2 = subset_750_second.variables['lon'][:]\n",
    "print(lon2.shape)\n",
    "del(lon2)"
   ]
  },
  {
   "cell_type": "code",
   "execution_count": null,
   "id": "9574a53f",
   "metadata": {},
   "outputs": [],
   "source": [
    "nearest_neighbor_divided(subset_750_second,0,1921500, 15, 180, 10)\n",
    "os.rename('/Users/taylorely/Documents/OceanModeling/settled_per_release_and_settledsite_n500_site.csv','/Users/taylorely/Documents/OceanModeling/settled_per_release_and_settledsite_n750_second_PLD180_part1_settledist10.csv')"
   ]
  },
  {
   "cell_type": "code",
   "execution_count": null,
   "id": "9b318a08",
   "metadata": {},
   "outputs": [],
   "source": [
    "subset_750_second = netCDF4.Dataset('LAPS_sensitivity_n750_pld180_5m_Kh10_nday545_daily_07012012_second.nc')\n",
    "nearest_neighbor_divided(subset_750_second,1921500,3843000, 15, 180, 10)\n",
    "os.rename('/Users/taylorely/Documents/OceanModeling/settled_per_release_and_settledsite_n500_site.csv','/Users/taylorely/Documents/OceanModeling/settled_per_release_and_settledsite_n750_second_PLD180_part2_settledist10.csv')"
   ]
  },
  {
   "cell_type": "code",
   "execution_count": null,
   "id": "8936fe9b",
   "metadata": {},
   "outputs": [],
   "source": [
    "del(subset_750_second)"
   ]
  },
  {
   "cell_type": "code",
   "execution_count": null,
   "id": "723ff62d",
   "metadata": {},
   "outputs": [],
   "source": [
    "subset_750_third = netCDF4.Dataset('LAPS_sensitivity_n750_pld180_5m_Kh10_nday545_daily_07012012_third.nc')\n",
    "nearest_neighbor(subset_750_third, 15, 30, 10)\n",
    "os.rename('/Users/taylorely/Documents/OceanModeling/settled_per_release_and_settledsite_n500_site.csv','/Users/taylorely/Documents/OceanModeling/settled_per_release_and_settledsite_n750_third_PLD30_settledist10.csv')"
   ]
  },
  {
   "cell_type": "code",
   "execution_count": null,
   "id": "4c53371a",
   "metadata": {},
   "outputs": [],
   "source": [
    "nearest_neighbor(subset_750_third, 15, 60, 10)\n",
    "os.rename('/Users/taylorely/Documents/OceanModeling/settled_per_release_and_settledsite_n500_site.csv','/Users/taylorely/Documents/OceanModeling/settled_per_release_and_settledsite_n750_third_PLD60_settledist10.csv')"
   ]
  },
  {
   "cell_type": "code",
   "execution_count": null,
   "id": "bf7a0295",
   "metadata": {},
   "outputs": [],
   "source": [
    "subset_750_third = netCDF4.Dataset('LAPS_sensitivity_n750_pld180_5m_Kh10_nday545_daily_07012012_third.nc')\n",
    "nearest_neighbor_divided(subset_750_third,0,1784250, 15, 90, 10)\n",
    "os.rename('/Users/taylorely/Documents/OceanModeling/settled_per_release_and_settledsite_n500_site.csv','/Users/taylorely/Documents/OceanModeling/settled_per_release_and_settledsite_n750_third_PLD90_part1_settledist10.csv')"
   ]
  },
  {
   "cell_type": "code",
   "execution_count": null,
   "id": "2f254c7a",
   "metadata": {},
   "outputs": [],
   "source": [
    "nearest_neighbor_divided(subset_750_third,1784250,3568500, 15, 90, 10)\n",
    "os.rename('/Users/taylorely/Documents/OceanModeling/settled_per_release_and_settledsite_n500_site.csv','/Users/taylorely/Documents/OceanModeling/settled_per_release_and_settledsite_n750_third_PLD90_part2_settledist10.csv')"
   ]
  },
  {
   "cell_type": "code",
   "execution_count": null,
   "id": "8b36aeca",
   "metadata": {},
   "outputs": [],
   "source": [
    "lon2 = subset_750_third.variables['lon'][:]\n",
    "print(lon2.shape)\n",
    "del(lon2)"
   ]
  },
  {
   "cell_type": "code",
   "execution_count": null,
   "id": "7b673e77",
   "metadata": {},
   "outputs": [],
   "source": [
    "nearest_neighbor_divided(subset_750_third,0,1784250, 15, 180, 10)\n",
    "os.rename('/Users/taylorely/Documents/OceanModeling/settled_per_release_and_settledsite_n500_site.csv','/Users/taylorely/Documents/OceanModeling/settled_per_release_and_settledsite_n750_third_PLD180_part1_settledist10.csv')"
   ]
  },
  {
   "cell_type": "code",
   "execution_count": null,
   "id": "cc3a3e2f",
   "metadata": {},
   "outputs": [],
   "source": [
    "nearest_neighbor_divided(subset_750_third,1784250,3568500, 15, 180, 10)\n",
    "os.rename('/Users/taylorely/Documents/OceanModeling/settled_per_release_and_settledsite_n500_site.csv','/Users/taylorely/Documents/OceanModeling/settled_per_release_and_settledsite_n750_third_PLD180_part2_settledist10.csv')"
   ]
  },
  {
   "cell_type": "code",
   "execution_count": null,
   "id": "1def9ddc",
   "metadata": {},
   "outputs": [],
   "source": [
    "del(subset_750_third)"
   ]
  },
  {
   "cell_type": "code",
   "execution_count": null,
   "id": "1348b6c7",
   "metadata": {},
   "outputs": [],
   "source": [
    "site1 = pd.read_csv('settled_per_release_and_settledsite_n750_first_PLD30_settledist10.csv', sep = '\\t')\n",
    "site2 = pd.read_csv('settled_per_release_and_settledsite_n750_second_PLD30_settledist10.csv', sep = '\\t')\n",
    "site3 = pd.read_csv('settled_per_release_and_settledsite_n750_third_PLD30_settledist10.csv', sep = '\\t')\n",
    "merge_sites = pd.concat([site1,site2,site3])\n",
    "merge_sites.to_csv('/Users/taylorely/Documents/OceanModeling/settled_per_release_and_settledsite_n750_PLD30_settledist10.csv', sep='\\t')\n",
    "del(merge_sites)"
   ]
  },
  {
   "cell_type": "code",
   "execution_count": null,
   "id": "594bdc2a",
   "metadata": {},
   "outputs": [],
   "source": [
    "site1 = pd.read_csv('settled_per_release_and_settledsite_n750_first_PLD60_settledist10.csv', sep = '\\t')\n",
    "site2 = pd.read_csv('settled_per_release_and_settledsite_n750_second_PLD60_settledist10.csv', sep = '\\t')\n",
    "site3 = pd.read_csv('settled_per_release_and_settledsite_n750_third_PLD60_settledist10.csv', sep = '\\t')\n",
    "merge_sites = pd.concat([site1,site2,site3])\n",
    "merge_sites.to_csv('/Users/taylorely/Documents/OceanModeling/settled_per_release_and_settledsite_n750_PLD60_settledist10.csv', sep='\\t')\n",
    "del(merge_sites)"
   ]
  },
  {
   "cell_type": "code",
   "execution_count": null,
   "id": "9f85b40c",
   "metadata": {},
   "outputs": [],
   "source": [
    "site1 = pd.read_csv('settled_per_release_and_settledsite_n750_first_PLD90_settledist10.csv', sep = '\\t')\n",
    "site2 = pd.read_csv('settled_per_release_and_settledsite_n750_second_PLD90_settledist10.csv', sep = '\\t')\n",
    "site3 = pd.read_csv('settled_per_release_and_settledsite_n750_third_PLD90_part1_settledist10.csv', sep = '\\t')\n",
    "site4 = pd.read_csv('settled_per_release_and_settledsite_n750_third_PLD90_part2_settledist10.csv', sep = '\\t')\n",
    "merge_sites = pd.concat([site1,site2,site3,site4])\n",
    "merge_sites.to_csv('/Users/taylorely/Documents/OceanModeling/settled_per_release_and_settledsite_n750_PLD90_settledist10.csv', sep='\\t')\n",
    "del(merge_sites)"
   ]
  },
  {
   "cell_type": "code",
   "execution_count": null,
   "id": "ab723a1b",
   "metadata": {},
   "outputs": [],
   "source": [
    "site1 = pd.read_csv('settled_per_release_and_settledsite_n750_first_PLD180_part1_settledist10.csv', sep = '\\t')\n",
    "site2 = pd.read_csv('settled_per_release_and_settledsite_n750_first_PLD180_part2_settledist10.csv', sep = '\\t')\n",
    "site22 = pd.read_csv('settled_per_release_and_settledsite_n750_second_PLD180_part1_settledist10.csv', sep = '\\t')\n",
    "site3 = pd.read_csv('settled_per_release_and_settledsite_n750_second_PLD180_part2_settledist10.csv', sep = '\\t')\n",
    "site4 = pd.read_csv('settled_per_release_and_settledsite_n750_third_PLD180_part1_settledist10.csv', sep = '\\t')\n",
    "site5 = pd.read_csv('settled_per_release_and_settledsite_n750_third_PLD180_part2_settledist10.csv', sep = '\\t')\n",
    "merge_sites = pd.concat([site1,site2,site22,site3,site4,site5])\n",
    "merge_sites.to_csv('/Users/taylorely/Documents/OceanModeling/settled_per_release_and_settledsite_n750_PLD180_settledist10.csv', sep='\\t')\n",
    "del(merge_sites)"
   ]
  },
  {
   "cell_type": "markdown",
   "id": "2be14655",
   "metadata": {},
   "source": [
    "# The rest of the cells are just leftover code that might be useful but no longer run for this analysis"
   ]
  },
  {
   "cell_type": "code",
   "execution_count": null,
   "id": "888055e6",
   "metadata": {},
   "outputs": [],
   "source": [
    "data_netcdf4_n500 = netCDF4.Dataset('n500_7.nc')"
   ]
  },
  {
   "cell_type": "code",
   "execution_count": null,
   "id": "a233e722",
   "metadata": {},
   "outputs": [],
   "source": [
    "# load site 1 data\n",
    "lon_netcdf4_n500_1 = data_netcdf4_n500.variables['lon'][:]\n",
    "lat_netcdf4_n500_1 = data_netcdf4_n500.variables['lat'][:]\n",
    "age_netcdf4_n500_1 = data_netcdf4_n500.variables['age'][:]\n",
    "site_no_netcdf4_n500_1 = data_netcdf4_n500.variables['releaseSite'][:]\n",
    "trajectory_netcdf4_n500_1 = data_netcdf4_n500.variables['trajectory'][:]"
   ]
  },
  {
   "cell_type": "raw",
   "id": "23b02f89",
   "metadata": {},
   "source": [
    "print(lon_netcdf4_n500_1)"
   ]
  },
  {
   "cell_type": "code",
   "execution_count": null,
   "id": "b33d4c41",
   "metadata": {},
   "outputs": [],
   "source": [
    "lon_1 = lon_netcdf4_n500_1[:1281000,:]\n",
    "lon_2 = lon_netcdf4_n500_1[1281000:,:]\n",
    "lat_1 = lat_netcdf4_n500_1[:1281000,:]\n",
    "lat_2 = lat_netcdf4_n500_1[1281000:,:]\n",
    "age_1 = age_netcdf4_n500_1[:1281000,:]\n",
    "age_2 = age_netcdf4_n500_1[1281000:,:]\n",
    "site_1 = site_no_netcdf4_n500_1[:1281000,:]\n",
    "site_2 = site_no_netcdf4_n500_1[1281000:,:]\n",
    "traj_1 = trajectory_netcdf4_n500_1[:1281000,:]\n",
    "traj_2 = trajectory_netcdf4_n500_1[1281000:,:]"
   ]
  },
  {
   "cell_type": "code",
   "execution_count": null,
   "id": "26fd21ba",
   "metadata": {},
   "outputs": [],
   "source": [
    "del(data_netcdf4_n500)"
   ]
  },
  {
   "cell_type": "code",
   "execution_count": null,
   "id": "25cc9675",
   "metadata": {},
   "outputs": [],
   "source": [
    "# this just retrieves a label for each particle\n",
    "traj_1 = traj_1[:,15:]\n",
    "labeled_1 = np.reshape(traj_1, -1)\n",
    "traj_1 = pd.DataFrame(traj_1)\n",
    "particle_1 = traj_1.iloc[:, 0]\n",
    "del(traj_1)\n",
    "traj_2 = traj_2[:,15:]\n",
    "labeled_2 = np.reshape(traj_2, -1)\n",
    "traj_2 = pd.DataFrame(traj_2)\n",
    "particle_2 = traj_2.iloc[:, 0]\n",
    "del(traj_2)\n",
    "# make sure to delete things that won't be used again so it reduces load on memory"
   ]
  },
  {
   "cell_type": "code",
   "execution_count": null,
   "id": "a53f369b",
   "metadata": {},
   "outputs": [],
   "source": [
    "# remove the first 20 columns because those are before settling age\n",
    "lon_1 = lon_1[:,15:]\n",
    "lon_2 = lon_2[:,15:]"
   ]
  },
  {
   "cell_type": "code",
   "execution_count": null,
   "id": "2fbeb32e",
   "metadata": {},
   "outputs": [],
   "source": [
    "lat_1 = lat_1[:,15:]\n",
    "lat_2 = lat_2[:,15:]"
   ]
  },
  {
   "cell_type": "code",
   "execution_count": null,
   "id": "b7b7f23f",
   "metadata": {},
   "outputs": [],
   "source": [
    "age_1 = age_1[:,15:]\n",
    "age_2 = age_2[:,15:]"
   ]
  },
  {
   "cell_type": "code",
   "execution_count": null,
   "id": "6901788e",
   "metadata": {},
   "outputs": [],
   "source": [
    "site_1 = pd.DataFrame(site_1)\n",
    "site_label_1 = site_1.iloc[:, 0]\n",
    "del(site_1)\n",
    "site_2 = pd.DataFrame(site_2)\n",
    "site_label_2 = site_2.iloc[:, 0]\n",
    "del(site_2)\n",
    "site_label_1 = site_label_1.replace(to_replace =7,value =\"Okinawa\")\n",
    "site_label_2 = site_label_2.replace(to_replace =7,value =\"Okinawa\")"
   ]
  },
  {
   "cell_type": "code",
   "execution_count": null,
   "id": "ffc35ae7",
   "metadata": {},
   "outputs": [],
   "source": [
    "lat_1 = np.reshape(lat_1, -1)\n",
    "lon_1 = np.reshape(lon_1, -1)\n",
    "age_1 = np.reshape(age_1, -1)\n",
    "age_1 = age_1/86400"
   ]
  },
  {
   "cell_type": "code",
   "execution_count": null,
   "id": "c7b1b3cb",
   "metadata": {},
   "outputs": [],
   "source": [
    "# convert coordinates to radians\n",
    "rad_lon_1 = np.deg2rad(lon_1)\n",
    "rad_lat_1 = np.deg2rad(lat_1)\n",
    "del(lon_1)\n",
    "del(lat_1)"
   ]
  },
  {
   "cell_type": "code",
   "execution_count": null,
   "id": "dd0b9e4f",
   "metadata": {},
   "outputs": [],
   "source": [
    "combined_1 = np.vstack((rad_lon_1, rad_lat_1,labeled_1)).T\n",
    "del(rad_lat_1)\n",
    "del(rad_lon_1)\n",
    "del(labeled_1)"
   ]
  },
  {
   "cell_type": "code",
   "execution_count": null,
   "id": "d5800e57",
   "metadata": {},
   "outputs": [],
   "source": [
    "coord_1 = pd.DataFrame(data=combined_1, columns=['lat','lon','particle'])\n",
    "del(combined_1)\n",
    "coord_1['age'] = age_1\n",
    "del(age_1)\n",
    "coord_1 = coord_1.dropna()"
   ]
  },
  {
   "cell_type": "code",
   "execution_count": null,
   "id": "80e4d3fa",
   "metadata": {},
   "outputs": [],
   "source": [
    "distances, indices = ball.query(coord_1[[\"lat\", \"lon\"]].values, k = 1)"
   ]
  },
  {
   "cell_type": "code",
   "execution_count": null,
   "id": "fd035092",
   "metadata": {},
   "outputs": [],
   "source": [
    "# add data to dataframe\n",
    "coord_1['closest_point'] = indices\n",
    "coord_1['closest_distance'] = distances"
   ]
  },
  {
   "cell_type": "code",
   "execution_count": null,
   "id": "195d8ff1",
   "metadata": {},
   "outputs": [],
   "source": [
    "closest_1 = coord_1.loc[coord_1.groupby('particle')['closest_distance'].idxmin()]\n",
    "del(coord_1)\n",
    "del(indices)\n",
    "del(distances)"
   ]
  },
  {
   "cell_type": "code",
   "execution_count": null,
   "id": "032d2a11",
   "metadata": {},
   "outputs": [],
   "source": [
    "site_data_1 = pd.DataFrame(data=[particle_1,site_label_1]).T\n",
    "del(site_label_1)\n",
    "del(particle_1)\n",
    "site_data_1.columns = ['particle','release_site']\n",
    "merge_1 = closest_1.set_index('particle').join(site_data_1.set_index('particle'))\n",
    "#convert raidians to km\n",
    "merge_1['closest_dist_km'] = 6371 * merge_1['closest_distance']"
   ]
  },
  {
   "cell_type": "code",
   "execution_count": null,
   "id": "e9c89a49",
   "metadata": {},
   "outputs": [],
   "source": [
    "# add column of island code for settled\n",
    "points = merge_1['closest_point'].values\n",
    "island = []\n",
    "for x in points:\n",
    "    add = land.loc[x,'island']\n",
    "    island.append(add)\n",
    "    \n",
    "# convert island code to name\n",
    "island_names = []\n",
    "for x in island:\n",
    "    add = names.loc[x,'IslandName']\n",
    "    island_names.append(add)\n",
    "merge_1['closest_island'] = island_names"
   ]
  },
  {
   "cell_type": "code",
   "execution_count": null,
   "id": "19f064a6",
   "metadata": {},
   "outputs": [],
   "source": [
    "lat_2 = np.reshape(lat_2, -1)\n",
    "lon_2 = np.reshape(lon_2, -1)\n",
    "age_2 = np.reshape(age_2, -1)\n",
    "age_2 = age_2/86400"
   ]
  },
  {
   "cell_type": "code",
   "execution_count": null,
   "id": "e0ac58aa",
   "metadata": {},
   "outputs": [],
   "source": [
    "# convert coordinates to radians\n",
    "rad_lon_2 = np.deg2rad(lon_2)\n",
    "rad_lat_2 = np.deg2rad(lat_2)\n",
    "del(lon_2)\n",
    "del(lat_2)"
   ]
  },
  {
   "cell_type": "code",
   "execution_count": null,
   "id": "bf80d29a",
   "metadata": {},
   "outputs": [],
   "source": [
    "combined_2 = np.vstack((rad_lon_2, rad_lat_2,labeled_2)).T\n",
    "del(rad_lat_2)\n",
    "del(rad_lon_2)\n",
    "del(labeled_2)"
   ]
  },
  {
   "cell_type": "code",
   "execution_count": null,
   "id": "0b2434e8",
   "metadata": {},
   "outputs": [],
   "source": [
    "coord_2 = pd.DataFrame(data=combined_2, columns=['lat','lon','particle'])\n",
    "del(combined_2)\n",
    "coord_2['age'] = age_2\n",
    "del(age_2)\n",
    "coord_2 = coord_2.dropna()"
   ]
  },
  {
   "cell_type": "code",
   "execution_count": null,
   "id": "9e32c97e",
   "metadata": {},
   "outputs": [],
   "source": [
    "distances, indices = ball.query(coord_2[[\"lat\", \"lon\"]].values, k = 1)"
   ]
  },
  {
   "cell_type": "code",
   "execution_count": null,
   "id": "b2a87bdf",
   "metadata": {},
   "outputs": [],
   "source": [
    "# add data to dataframe\n",
    "coord_2['closest_point'] = indices\n",
    "coord_2['closest_distance'] = distances"
   ]
  },
  {
   "cell_type": "code",
   "execution_count": null,
   "id": "b9d3c42d",
   "metadata": {},
   "outputs": [],
   "source": [
    "closest_2 = coord_2.loc[coord_2.groupby('particle')['closest_distance'].idxmin()]\n",
    "del(coord_2)\n",
    "del(indices)\n",
    "del(distances)"
   ]
  },
  {
   "cell_type": "code",
   "execution_count": null,
   "id": "cb1c0a5d",
   "metadata": {},
   "outputs": [],
   "source": [
    "site_data_2 = pd.DataFrame(data=[particle_2,site_label_2]).T\n",
    "del(site_label_2)\n",
    "del(particle_2)\n",
    "site_data_2.columns = ['particle','release_site']\n",
    "merge_2 = closest_2.set_index('particle').join(site_data_2.set_index('particle'))\n",
    "#convert raidians to km\n",
    "merge_2['closest_dist_km'] = 6371 * merge_2['closest_distance']"
   ]
  },
  {
   "cell_type": "code",
   "execution_count": null,
   "id": "dc2e31e5",
   "metadata": {},
   "outputs": [],
   "source": [
    "# add column of island code for settled\n",
    "points = merge_2['closest_point'].values\n",
    "island = []\n",
    "for x in points:\n",
    "    add = land.loc[x,'island']\n",
    "    island.append(add)\n",
    "    \n",
    "# convert island code to name\n",
    "island_names = []\n",
    "for x in island:\n",
    "    add = names.loc[x,'IslandName']\n",
    "    island_names.append(add)\n",
    "merge_2['closest_island'] = island_names"
   ]
  },
  {
   "cell_type": "code",
   "execution_count": null,
   "id": "9f004f59",
   "metadata": {},
   "outputs": [],
   "source": [
    "merge = pd.concat([merge_1,merge_2])"
   ]
  },
  {
   "cell_type": "code",
   "execution_count": null,
   "id": "47148326",
   "metadata": {},
   "outputs": [],
   "source": [
    "#make a column of settled or not if = or less than 5km and then graph the results and get summary statistics\n",
    "merge.loc[merge['closest_dist_km'] <= 10, 'Settled'] = 'Settled' \n",
    "merge.loc[merge['closest_dist_km'] > 10, 'Settled'] = 'Not close enough'\n",
    "merge.to_csv('/Users/taylorely/Documents/OceanModeling/nearest_island_and_settled_n500_site7.csv', sep='\\t')\n",
    "# settled_per_release_site = merge.groupby(['release_site', 'Settled']).size().reset_index(name='count')\n",
    "# settled_per_release_site.to_csv('/Users/taylorely/Documents/OceanModeling/settled_per__release_site_n500_site7.csv', sep='\\t')\n",
    "# settled_per_settled_site = merge.groupby(['closest_island', 'Settled']).size().reset_index(name='count')\n",
    "# settled_per_settled_site.to_csv('/Users/taylorely/Documents/OceanModeling/settled_per_settled_site_n500_site7.csv', sep='\\t')\n",
    "    \n",
    "# make dataset for each settled island to see where the ones settling are coming from\n",
    "settled_per_release_and_settledsite = merge.groupby(['release_site','closest_island', 'Settled']).size().reset_index(name='count')\n",
    "settled_per_release_and_settledsite.to_csv('/Users/taylorely/Documents/OceanModeling/settled_per_release_and_settledsite_n500_site7_PLD30_settledist10.csv', sep='\\t')\n",
    "#only_settled_per_release_and_settledsite = settled_per_release_and_settledsite[settled_per_release_and_settledsite['Settled'] == 'Settled'] \n",
    "#only_settled_per_release_and_settledsite = only_settled_per_release_and_settledsite.drop(columns=['Settled'])\n",
    "    \n",
    "#correct_format_to_plot_settlement = only_settled_per_release_and_settledsite.pivot_table(index=\"release_site\", \n",
    "                    columns='closest_island', \n",
    "                    values='count')\n",
    "#correct_format_to_plot_settlement = correct_format_to_plot_settlement.fillna(0)\n",
    "\n",
    "#fig1, axs = plt.subplots(figsize=(20, 12))\n",
    "#ax = correct_format_to_plot_settlement.plot.bar(rot=0, ax=axs)\n",
    "#axs.set_ylabel(\"count\")\n",
    "#axs.set_title('settlement to each island by release site')\n",
    "#fig1.savefig(\"/Users/taylorely/Documents/OceanModeling/settlement_n500_site7.png\")\n",
    "    \n",
    "#fig2, axs = plt.subplots(figsize=(8, 50))\n",
    "#axes = correct_format_to_plot_settlement.plot.bar(rot=0, subplots=True, ax=axs)\n",
    "#axes[1].legend(loc=2)  \n",
    "#fig2.savefig(\"/Users/taylorely/Documents/OceanModeling/settlement_subplot_n500_site7.png\")"
   ]
  },
  {
   "cell_type": "markdown",
   "id": "75a3a3a6",
   "metadata": {},
   "source": [
    "#Make graphs with everything"
   ]
  },
  {
   "cell_type": "raw",
   "id": "a3d8e21c",
   "metadata": {},
   "source": [
    "site1 = pd.read_csv('settled_per__release_site_n500_site1.csv', sep = '\\t')\n",
    "site2 = pd.read_csv('settled_per__release_site_n500_site2.csv', sep = '\\t')\n",
    "site3 = pd.read_csv('settled_per__release_site_n500_site3.csv', sep = '\\t')\n",
    "site4 = pd.read_csv('settled_per__release_site_n500_site4.csv', sep = '\\t')\n",
    "site5 = pd.read_csv('settled_per__release_site_n500_site5.csv', sep = '\\t')\n",
    "site6 = pd.read_csv('settled_per__release_site_n500_site6.csv', sep = '\\t')\n",
    "site7 = pd.read_csv('settled_per__release_site_n500_site7.csv', sep = '\\t')\n",
    "site10 = pd.read_csv('settled_per__release_site_n500_site10.csv', sep = '\\t')\n",
    "site11 = pd.read_csv('settled_per__release_site_n500_site11.csv', sep = '\\t')\n",
    "site12 = pd.read_csv('settled_per__release_site_n500_site12.csv', sep = '\\t')\n",
    "merge_sites = pd.concat([site1,site2,site3,site4,site5,site6,site7,site10,site11,site12])\n",
    "merge_sites.to_csv('/Users/taylorely/Documents/OceanModeling/settled_per_release_site_n500.csv', sep='\\t')"
   ]
  },
  {
   "cell_type": "raw",
   "id": "9188013d",
   "metadata": {},
   "source": [
    "only_settled_per_release_and_settledsite = merge_sites[merge_sites['Settled'] == 'Settled'] \n",
    "only_settled_per_release_and_settledsite = only_settled_per_release_and_settledsite.drop(columns=['Settled'])\n",
    "    \n",
    "correct_format_to_plot_settlement = only_settled_per_release_and_settledsite.pivot_table(index=\"release_site\", \n",
    "                    columns='closest_island', \n",
    "                    values='count')\n",
    "correct_format_to_plot_settlement = correct_format_to_plot_settlement.fillna(0)\n",
    "\n",
    "fig1, axs = plt.subplots(figsize=(15, 12))\n",
    "ax = correct_format_to_plot_settlement.plot.bar(rot=0, ax=axs)\n",
    "axs.set_ylabel(\"count\")\n",
    "axs.set_title('settlement to each island by release site')\n",
    "fig1.savefig(\"/Users/taylorely/Documents/OceanModeling/settlement_n500.png\")\n",
    "    \n",
    "fig2, axs = plt.subplots(figsize=(8, 200))\n",
    "axes = correct_format_to_plot_settlement.plot.bar(rot=0, subplots=True, ax=axs)\n",
    "axes[1].legend(loc=2)  \n",
    "fig2.savefig(\"/Users/taylorely/Documents/OceanModeling/settlement_subplot_n500.png\")"
   ]
  },
  {
   "cell_type": "raw",
   "id": "724d4651",
   "metadata": {},
   "source": [
    "site1 = pd.read_csv('settled_per_settled_site_n500_site1.csv', sep = '\\t')\n",
    "site2 = pd.read_csv('settled_per_settled_site_n500_site2.csv', sep = '\\t')\n",
    "site3 = pd.read_csv('settled_per_settled_site_n500_site3.csv', sep = '\\t')\n",
    "site4 = pd.read_csv('settled_per_settled_site_n500_site4.csv', sep = '\\t')\n",
    "site5 = pd.read_csv('settled_per_settled_site_n500_site5.csv', sep = '\\t')\n",
    "site6 = pd.read_csv('settled_per_settled_site_n500_site6.csv', sep = '\\t')\n",
    "site7 = pd.read_csv('settled_per_settled_site_n500_site7.csv', sep = '\\t')\n",
    "site10 = pd.read_csv('settled_per_settled_site_n500_site10.csv', sep = '\\t')\n",
    "site11 = pd.read_csv('settled_per_settled_site_n500_site11.csv', sep = '\\t')\n",
    "site12 = pd.read_csv('settled_per_settled_site_n500_site12.csv', sep = '\\t')\n",
    "merge_sites = pd.concat([site1,site2,site3,site4,site5,site6,site7,site10,site11,site12])\n",
    "merge_sites.to_csv('/Users/taylorely/Documents/OceanModeling/settled_per_settled_site_n500.csv', sep='\\t')"
   ]
  },
  {
   "cell_type": "code",
   "execution_count": null,
   "id": "04ba7cef",
   "metadata": {},
   "outputs": [],
   "source": []
  }
 ],
 "metadata": {
  "kernelspec": {
   "display_name": "Python 3 (ipykernel)",
   "language": "python",
   "name": "python3"
  },
  "language_info": {
   "codemirror_mode": {
    "name": "ipython",
    "version": 3
   },
   "file_extension": ".py",
   "mimetype": "text/x-python",
   "name": "python",
   "nbconvert_exporter": "python",
   "pygments_lexer": "ipython3",
   "version": "3.9.13"
  }
 },
 "nbformat": 4,
 "nbformat_minor": 5
}
